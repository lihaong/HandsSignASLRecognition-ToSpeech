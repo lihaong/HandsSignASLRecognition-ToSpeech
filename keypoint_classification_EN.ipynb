{
 "cells": [
  {
   "cell_type": "code",
   "execution_count": 1,
   "metadata": {
    "id": "igMyGnjE9hEp"
   },
   "outputs": [],
   "source": [
    "import csv\n",
    "import pandas as pd\n",
    "import numpy as np\n",
    "import tensorflow as tf\n",
    "from sklearn.model_selection import train_test_split\n",
    "BATCH_SIZE = 128\n",
    "RANDOM_SEED = 42\n"
   ]
  },
  {
   "cell_type": "markdown",
   "metadata": {
    "id": "t2HDvhIu9hEr"
   },
   "source": [
    "# Specify each path"
   ]
  },
  {
   "cell_type": "code",
   "execution_count": 2,
   "metadata": {
    "id": "9NvZP2Zn9hEy"
   },
   "outputs": [],
   "source": [
    "dataset = 'model/keypoint_classifier/keypoint.csv'\n",
    "model_save_path = 'model/keypoint_classifier/keypoint_classifier.hdf5'\n",
    "tflite_save_path = 'model/keypoint_classifier/keypoint_classifier.tflite'"
   ]
  },
  {
   "cell_type": "markdown",
   "metadata": {
    "id": "s5oMH7x19hEz"
   },
   "source": [
    "# Set number of classes"
   ]
  },
  {
   "cell_type": "code",
   "execution_count": 3,
   "metadata": {
    "id": "du4kodXL9hEz"
   },
   "outputs": [],
   "source": [
    "NUM_CLASSES = 24"
   ]
  },
  {
   "cell_type": "markdown",
   "metadata": {
    "id": "XjnL0uso9hEz"
   },
   "source": [
    "# Dataset reading"
   ]
  },
  {
   "cell_type": "code",
   "execution_count": 4,
   "metadata": {
    "id": "QT5ZqtEz9hE0"
   },
   "outputs": [],
   "source": [
    "X_dataset = np.loadtxt(dataset, delimiter=',', dtype='float32', usecols=list(range(1, (21 * 2) + 1)))"
   ]
  },
  {
   "cell_type": "code",
   "execution_count": 5,
   "metadata": {
    "id": "QmoKFsp49hE0"
   },
   "outputs": [],
   "source": [
    "y_dataset = np.loadtxt(dataset, delimiter=',', dtype='int32', usecols=(0))"
   ]
  },
  {
   "cell_type": "code",
   "execution_count": 6,
   "metadata": {
    "id": "xQU7JTZ_9hE0"
   },
   "outputs": [],
   "source": [
    "X_train, X_test, y_train, y_test = train_test_split(X_dataset, y_dataset, train_size=0.75, random_state=RANDOM_SEED)"
   ]
  },
  {
   "cell_type": "markdown",
   "metadata": {
    "id": "mxK_lETT9hE0"
   },
   "source": [
    "# Model building"
   ]
  },
  {
   "cell_type": "code",
   "execution_count": 7,
   "metadata": {
    "id": "vHBmUf1t9hE1"
   },
   "outputs": [],
   "source": [
    "model = tf.keras.models.Sequential([\n",
    "    tf.keras.layers.Input((21 * 2, )),\n",
    "    tf.keras.layers.Dropout(0.2),\n",
    "    tf.keras.layers.Dense(20, activation='relu'),\n",
    "    tf.keras.layers.Dropout(0.4),\n",
    "    tf.keras.layers.Dense(10, activation='relu'),\n",
    "    tf.keras.layers.Dense(NUM_CLASSES, activation='softmax')\n",
    "])"
   ]
  },
  {
   "cell_type": "code",
   "execution_count": 8,
   "metadata": {
    "colab": {
     "base_uri": "https://localhost:8080/"
    },
    "id": "ypqky9tc9hE1",
    "outputId": "5db082bb-30e3-4110-bf63-a1ee777ecd46"
   },
   "outputs": [
    {
     "name": "stdout",
     "output_type": "stream",
     "text": [
      "Model: \"sequential\"\n",
      "_________________________________________________________________\n",
      " Layer (type)                Output Shape              Param #   \n",
      "=================================================================\n",
      " dropout (Dropout)           (None, 42)                0         \n",
      "                                                                 \n",
      " dense (Dense)               (None, 20)                860       \n",
      "                                                                 \n",
      " dropout_1 (Dropout)         (None, 20)                0         \n",
      "                                                                 \n",
      " dense_1 (Dense)             (None, 10)                210       \n",
      "                                                                 \n",
      " dense_2 (Dense)             (None, 24)                264       \n",
      "                                                                 \n",
      "=================================================================\n",
      "Total params: 1,334\n",
      "Trainable params: 1,334\n",
      "Non-trainable params: 0\n",
      "_________________________________________________________________\n"
     ]
    }
   ],
   "source": [
    "model.summary()  # tf.keras.utils.plot_model(model, show_shapes=True)"
   ]
  },
  {
   "cell_type": "code",
   "execution_count": 9,
   "metadata": {
    "id": "MbMjOflQ9hE1"
   },
   "outputs": [],
   "source": [
    "# Model checkpoint callback\n",
    "cp_callback = tf.keras.callbacks.ModelCheckpoint(\n",
    "    model_save_path, verbose=1, save_weights_only=False)\n",
    "# Callback for early stopping\n",
    "es_callback = tf.keras.callbacks.EarlyStopping(patience=20, verbose=1)"
   ]
  },
  {
   "cell_type": "code",
   "execution_count": 10,
   "metadata": {
    "id": "c3Dac0M_9hE2"
   },
   "outputs": [],
   "source": [
    "# Model compilation\n",
    "model.compile(\n",
    "    optimizer='adam',\n",
    "    loss='sparse_categorical_crossentropy',\n",
    "    metrics=['accuracy']\n",
    ")"
   ]
  },
  {
   "cell_type": "markdown",
   "metadata": {
    "id": "7XI0j1Iu9hE2"
   },
   "source": [
    "# Model training"
   ]
  },
  {
   "cell_type": "code",
   "execution_count": 11,
   "metadata": {
    "colab": {
     "base_uri": "https://localhost:8080/"
    },
    "id": "WirBl-JE9hE3",
    "outputId": "71b30ca2-8294-4d9d-8aa2-800d90d399de",
    "scrolled": true
   },
   "outputs": [
    {
     "name": "stdout",
     "output_type": "stream",
     "text": [
      "Epoch 1/1000\n",
      "199/211 [===========================>..] - ETA: 0s - loss: 2.8620 - accuracy: 0.1471\n",
      "Epoch 1: saving model to model/keypoint_classifier\\keypoint_classifier.hdf5\n",
      "211/211 [==============================] - 1s 2ms/step - loss: 2.8436 - accuracy: 0.1509 - val_loss: 2.3452 - val_accuracy: 0.3541\n",
      "Epoch 2/1000\n",
      "206/211 [============================>.] - ETA: 0s - loss: 2.1698 - accuracy: 0.2937\n",
      "Epoch 2: saving model to model/keypoint_classifier\\keypoint_classifier.hdf5\n",
      "211/211 [==============================] - 0s 2ms/step - loss: 2.1633 - accuracy: 0.2956 - val_loss: 1.5677 - val_accuracy: 0.6811\n",
      "Epoch 3/1000\n",
      "171/211 [=======================>......] - ETA: 0s - loss: 1.7547 - accuracy: 0.4037\n",
      "Epoch 3: saving model to model/keypoint_classifier\\keypoint_classifier.hdf5\n",
      "211/211 [==============================] - 0s 2ms/step - loss: 1.7222 - accuracy: 0.4133 - val_loss: 1.1118 - val_accuracy: 0.8750\n",
      "Epoch 4/1000\n",
      "196/211 [==========================>...] - ETA: 0s - loss: 1.4943 - accuracy: 0.4801\n",
      "Epoch 4: saving model to model/keypoint_classifier\\keypoint_classifier.hdf5\n",
      "211/211 [==============================] - 0s 1ms/step - loss: 1.4911 - accuracy: 0.4800 - val_loss: 0.8806 - val_accuracy: 0.9129\n",
      "Epoch 5/1000\n",
      "192/211 [==========================>...] - ETA: 0s - loss: 1.3581 - accuracy: 0.5204\n",
      "Epoch 5: saving model to model/keypoint_classifier\\keypoint_classifier.hdf5\n",
      "211/211 [==============================] - 0s 1ms/step - loss: 1.3519 - accuracy: 0.5228 - val_loss: 0.7390 - val_accuracy: 0.9041\n",
      "Epoch 6/1000\n",
      "198/211 [===========================>..] - ETA: 0s - loss: 1.2739 - accuracy: 0.5468\n",
      "Epoch 6: saving model to model/keypoint_classifier\\keypoint_classifier.hdf5\n",
      "211/211 [==============================] - 0s 1ms/step - loss: 1.2715 - accuracy: 0.5485 - val_loss: 0.6554 - val_accuracy: 0.9391\n",
      "Epoch 7/1000\n",
      "194/211 [==========================>...] - ETA: 0s - loss: 1.2021 - accuracy: 0.5717\n",
      "Epoch 7: saving model to model/keypoint_classifier\\keypoint_classifier.hdf5\n",
      "211/211 [==============================] - 0s 1ms/step - loss: 1.2004 - accuracy: 0.5719 - val_loss: 0.5952 - val_accuracy: 0.9373\n",
      "Epoch 8/1000\n",
      "198/211 [===========================>..] - ETA: 0s - loss: 1.1640 - accuracy: 0.5806\n",
      "Epoch 8: saving model to model/keypoint_classifier\\keypoint_classifier.hdf5\n",
      "211/211 [==============================] - 0s 1ms/step - loss: 1.1627 - accuracy: 0.5802 - val_loss: 0.5407 - val_accuracy: 0.9446\n",
      "Epoch 9/1000\n",
      "195/211 [==========================>...] - ETA: 0s - loss: 1.1219 - accuracy: 0.5970\n",
      "Epoch 9: saving model to model/keypoint_classifier\\keypoint_classifier.hdf5\n",
      "211/211 [==============================] - 0s 1ms/step - loss: 1.1217 - accuracy: 0.5983 - val_loss: 0.5104 - val_accuracy: 0.9269\n",
      "Epoch 10/1000\n",
      "183/211 [=========================>....] - ETA: 0s - loss: 1.0759 - accuracy: 0.6162\n",
      "Epoch 10: saving model to model/keypoint_classifier\\keypoint_classifier.hdf5\n",
      "211/211 [==============================] - 0s 1ms/step - loss: 1.0761 - accuracy: 0.6153 - val_loss: 0.4816 - val_accuracy: 0.9689\n",
      "Epoch 11/1000\n",
      "198/211 [===========================>..] - ETA: 0s - loss: 1.0570 - accuracy: 0.6245\n",
      "Epoch 11: saving model to model/keypoint_classifier\\keypoint_classifier.hdf5\n",
      "211/211 [==============================] - 0s 1ms/step - loss: 1.0555 - accuracy: 0.6245 - val_loss: 0.4384 - val_accuracy: 0.9646\n",
      "Epoch 12/1000\n",
      "197/211 [===========================>..] - ETA: 0s - loss: 1.0134 - accuracy: 0.6425\n",
      "Epoch 12: saving model to model/keypoint_classifier\\keypoint_classifier.hdf5\n",
      "211/211 [==============================] - 0s 1ms/step - loss: 1.0142 - accuracy: 0.6415 - val_loss: 0.4129 - val_accuracy: 0.9821\n",
      "Epoch 13/1000\n",
      "200/211 [===========================>..] - ETA: 0s - loss: 0.9925 - accuracy: 0.6549\n",
      "Epoch 13: saving model to model/keypoint_classifier\\keypoint_classifier.hdf5\n",
      "211/211 [==============================] - 0s 1ms/step - loss: 0.9912 - accuracy: 0.6550 - val_loss: 0.3857 - val_accuracy: 0.9953\n",
      "Epoch 14/1000\n",
      "196/211 [==========================>...] - ETA: 0s - loss: 0.9879 - accuracy: 0.6586\n",
      "Epoch 14: saving model to model/keypoint_classifier\\keypoint_classifier.hdf5\n",
      "211/211 [==============================] - 0s 1ms/step - loss: 0.9855 - accuracy: 0.6591 - val_loss: 0.3666 - val_accuracy: 0.9889\n",
      "Epoch 15/1000\n",
      "192/211 [==========================>...] - ETA: 0s - loss: 0.9531 - accuracy: 0.6688\n",
      "Epoch 15: saving model to model/keypoint_classifier\\keypoint_classifier.hdf5\n",
      "211/211 [==============================] - 0s 1ms/step - loss: 0.9551 - accuracy: 0.6689 - val_loss: 0.3537 - val_accuracy: 0.9931\n",
      "Epoch 16/1000\n",
      "194/211 [==========================>...] - ETA: 0s - loss: 0.9328 - accuracy: 0.6765\n",
      "Epoch 16: saving model to model/keypoint_classifier\\keypoint_classifier.hdf5\n",
      "211/211 [==============================] - 0s 1ms/step - loss: 0.9317 - accuracy: 0.6771 - val_loss: 0.3295 - val_accuracy: 0.9940\n",
      "Epoch 17/1000\n",
      "194/211 [==========================>...] - ETA: 0s - loss: 0.9134 - accuracy: 0.6859\n",
      "Epoch 17: saving model to model/keypoint_classifier\\keypoint_classifier.hdf5\n",
      "211/211 [==============================] - 0s 1ms/step - loss: 0.9123 - accuracy: 0.6860 - val_loss: 0.3260 - val_accuracy: 0.9930\n",
      "Epoch 18/1000\n",
      "192/211 [==========================>...] - ETA: 0s - loss: 0.9054 - accuracy: 0.6886\n",
      "Epoch 18: saving model to model/keypoint_classifier\\keypoint_classifier.hdf5\n",
      "211/211 [==============================] - 0s 1ms/step - loss: 0.9055 - accuracy: 0.6883 - val_loss: 0.3084 - val_accuracy: 0.9963\n",
      "Epoch 19/1000\n",
      "200/211 [===========================>..] - ETA: 0s - loss: 0.8782 - accuracy: 0.7006\n",
      "Epoch 19: saving model to model/keypoint_classifier\\keypoint_classifier.hdf5\n",
      "211/211 [==============================] - 0s 2ms/step - loss: 0.8783 - accuracy: 0.6995 - val_loss: 0.2922 - val_accuracy: 0.9884\n",
      "Epoch 20/1000\n",
      "183/211 [=========================>....] - ETA: 0s - loss: 0.8739 - accuracy: 0.7004\n",
      "Epoch 20: saving model to model/keypoint_classifier\\keypoint_classifier.hdf5\n",
      "211/211 [==============================] - 0s 1ms/step - loss: 0.8724 - accuracy: 0.7009 - val_loss: 0.2902 - val_accuracy: 0.9939\n",
      "Epoch 21/1000\n",
      "200/211 [===========================>..] - ETA: 0s - loss: 0.8551 - accuracy: 0.7109\n",
      "Epoch 21: saving model to model/keypoint_classifier\\keypoint_classifier.hdf5\n",
      "211/211 [==============================] - 0s 1ms/step - loss: 0.8561 - accuracy: 0.7111 - val_loss: 0.2749 - val_accuracy: 0.9954\n",
      "Epoch 22/1000\n",
      "189/211 [=========================>....] - ETA: 0s - loss: 0.8518 - accuracy: 0.7073\n",
      "Epoch 22: saving model to model/keypoint_classifier\\keypoint_classifier.hdf5\n",
      "211/211 [==============================] - 0s 1ms/step - loss: 0.8498 - accuracy: 0.7080 - val_loss: 0.2760 - val_accuracy: 0.9893\n",
      "Epoch 23/1000\n",
      "211/211 [==============================] - ETA: 0s - loss: 0.8407 - accuracy: 0.7166\n",
      "Epoch 23: saving model to model/keypoint_classifier\\keypoint_classifier.hdf5\n",
      "211/211 [==============================] - 0s 2ms/step - loss: 0.8407 - accuracy: 0.7166 - val_loss: 0.2745 - val_accuracy: 0.9648\n",
      "Epoch 24/1000\n",
      "189/211 [=========================>....] - ETA: 0s - loss: 0.8357 - accuracy: 0.7133\n",
      "Epoch 24: saving model to model/keypoint_classifier\\keypoint_classifier.hdf5\n",
      "211/211 [==============================] - 0s 2ms/step - loss: 0.8347 - accuracy: 0.7137 - val_loss: 0.2665 - val_accuracy: 0.9947\n",
      "Epoch 25/1000\n",
      "183/211 [=========================>....] - ETA: 0s - loss: 0.8315 - accuracy: 0.7177\n",
      "Epoch 25: saving model to model/keypoint_classifier\\keypoint_classifier.hdf5\n",
      "211/211 [==============================] - 0s 1ms/step - loss: 0.8329 - accuracy: 0.7162 - val_loss: 0.2519 - val_accuracy: 0.9943\n",
      "Epoch 26/1000\n",
      "203/211 [===========================>..] - ETA: 0s - loss: 0.8156 - accuracy: 0.7189\n",
      "Epoch 26: saving model to model/keypoint_classifier\\keypoint_classifier.hdf5\n",
      "211/211 [==============================] - 0s 2ms/step - loss: 0.8162 - accuracy: 0.7187 - val_loss: 0.2553 - val_accuracy: 0.9967\n",
      "Epoch 27/1000\n",
      "173/211 [=======================>......] - ETA: 0s - loss: 0.8249 - accuracy: 0.7197\n",
      "Epoch 27: saving model to model/keypoint_classifier\\keypoint_classifier.hdf5\n",
      "211/211 [==============================] - 0s 2ms/step - loss: 0.8217 - accuracy: 0.7201 - val_loss: 0.2517 - val_accuracy: 0.9724\n"
     ]
    },
    {
     "name": "stdout",
     "output_type": "stream",
     "text": [
      "Epoch 28/1000\n",
      "187/211 [=========================>....] - ETA: 0s - loss: 0.8009 - accuracy: 0.7273\n",
      "Epoch 28: saving model to model/keypoint_classifier\\keypoint_classifier.hdf5\n",
      "211/211 [==============================] - 0s 1ms/step - loss: 0.8003 - accuracy: 0.7276 - val_loss: 0.2492 - val_accuracy: 0.9796\n",
      "Epoch 29/1000\n",
      "185/211 [=========================>....] - ETA: 0s - loss: 0.8138 - accuracy: 0.7182\n",
      "Epoch 29: saving model to model/keypoint_classifier\\keypoint_classifier.hdf5\n",
      "211/211 [==============================] - 0s 2ms/step - loss: 0.8136 - accuracy: 0.7180 - val_loss: 0.2372 - val_accuracy: 0.9953\n",
      "Epoch 30/1000\n",
      "189/211 [=========================>....] - ETA: 0s - loss: 0.7988 - accuracy: 0.7250\n",
      "Epoch 30: saving model to model/keypoint_classifier\\keypoint_classifier.hdf5\n",
      "211/211 [==============================] - 0s 1ms/step - loss: 0.7969 - accuracy: 0.7252 - val_loss: 0.2312 - val_accuracy: 0.9928\n",
      "Epoch 31/1000\n",
      "194/211 [==========================>...] - ETA: 0s - loss: 0.7952 - accuracy: 0.7274\n",
      "Epoch 31: saving model to model/keypoint_classifier\\keypoint_classifier.hdf5\n",
      "211/211 [==============================] - 0s 1ms/step - loss: 0.7928 - accuracy: 0.7271 - val_loss: 0.2327 - val_accuracy: 0.9586\n",
      "Epoch 32/1000\n",
      "194/211 [==========================>...] - ETA: 0s - loss: 0.7901 - accuracy: 0.7319\n",
      "Epoch 32: saving model to model/keypoint_classifier\\keypoint_classifier.hdf5\n",
      "211/211 [==============================] - 0s 1ms/step - loss: 0.7877 - accuracy: 0.7323 - val_loss: 0.2267 - val_accuracy: 0.9551\n",
      "Epoch 33/1000\n",
      "196/211 [==========================>...] - ETA: 0s - loss: 0.7856 - accuracy: 0.7291\n",
      "Epoch 33: saving model to model/keypoint_classifier\\keypoint_classifier.hdf5\n",
      "211/211 [==============================] - 0s 1ms/step - loss: 0.7861 - accuracy: 0.7294 - val_loss: 0.2305 - val_accuracy: 0.9869\n",
      "Epoch 34/1000\n",
      "187/211 [=========================>....] - ETA: 0s - loss: 0.7776 - accuracy: 0.7328\n",
      "Epoch 34: saving model to model/keypoint_classifier\\keypoint_classifier.hdf5\n",
      "211/211 [==============================] - 0s 1ms/step - loss: 0.7759 - accuracy: 0.7341 - val_loss: 0.2120 - val_accuracy: 0.9949\n",
      "Epoch 35/1000\n",
      "188/211 [=========================>....] - ETA: 0s - loss: 0.7710 - accuracy: 0.7345\n",
      "Epoch 35: saving model to model/keypoint_classifier\\keypoint_classifier.hdf5\n",
      "211/211 [==============================] - 0s 1ms/step - loss: 0.7701 - accuracy: 0.7347 - val_loss: 0.2142 - val_accuracy: 0.9967\n",
      "Epoch 36/1000\n",
      "198/211 [===========================>..] - ETA: 0s - loss: 0.7749 - accuracy: 0.7334\n",
      "Epoch 36: saving model to model/keypoint_classifier\\keypoint_classifier.hdf5\n",
      "211/211 [==============================] - 0s 1ms/step - loss: 0.7744 - accuracy: 0.7334 - val_loss: 0.2169 - val_accuracy: 0.9964\n",
      "Epoch 37/1000\n",
      "171/211 [=======================>......] - ETA: 0s - loss: 0.7720 - accuracy: 0.7385\n",
      "Epoch 37: saving model to model/keypoint_classifier\\keypoint_classifier.hdf5\n",
      "211/211 [==============================] - 0s 2ms/step - loss: 0.7663 - accuracy: 0.7384 - val_loss: 0.2051 - val_accuracy: 0.9803\n",
      "Epoch 38/1000\n",
      "193/211 [==========================>...] - ETA: 0s - loss: 0.7572 - accuracy: 0.7401\n",
      "Epoch 38: saving model to model/keypoint_classifier\\keypoint_classifier.hdf5\n",
      "211/211 [==============================] - 0s 1ms/step - loss: 0.7616 - accuracy: 0.7389 - val_loss: 0.2093 - val_accuracy: 0.9818\n",
      "Epoch 39/1000\n",
      "188/211 [=========================>....] - ETA: 0s - loss: 0.7496 - accuracy: 0.7415\n",
      "Epoch 39: saving model to model/keypoint_classifier\\keypoint_classifier.hdf5\n",
      "211/211 [==============================] - 0s 1ms/step - loss: 0.7533 - accuracy: 0.7407 - val_loss: 0.2080 - val_accuracy: 0.9780\n",
      "Epoch 40/1000\n",
      "188/211 [=========================>....] - ETA: 0s - loss: 0.7528 - accuracy: 0.7391\n",
      "Epoch 40: saving model to model/keypoint_classifier\\keypoint_classifier.hdf5\n",
      "211/211 [==============================] - 0s 1ms/step - loss: 0.7497 - accuracy: 0.7405 - val_loss: 0.1967 - val_accuracy: 0.9960\n",
      "Epoch 41/1000\n",
      "197/211 [===========================>..] - ETA: 0s - loss: 0.7525 - accuracy: 0.7416\n",
      "Epoch 41: saving model to model/keypoint_classifier\\keypoint_classifier.hdf5\n",
      "211/211 [==============================] - 0s 1ms/step - loss: 0.7508 - accuracy: 0.7424 - val_loss: 0.1861 - val_accuracy: 0.9802\n",
      "Epoch 42/1000\n",
      "196/211 [==========================>...] - ETA: 0s - loss: 0.7317 - accuracy: 0.7497\n",
      "Epoch 42: saving model to model/keypoint_classifier\\keypoint_classifier.hdf5\n",
      "211/211 [==============================] - 0s 1ms/step - loss: 0.7324 - accuracy: 0.7493 - val_loss: 0.1853 - val_accuracy: 0.9944\n",
      "Epoch 43/1000\n",
      "200/211 [===========================>..] - ETA: 0s - loss: 0.7278 - accuracy: 0.7505\n",
      "Epoch 43: saving model to model/keypoint_classifier\\keypoint_classifier.hdf5\n",
      "211/211 [==============================] - 0s 1ms/step - loss: 0.7291 - accuracy: 0.7503 - val_loss: 0.1817 - val_accuracy: 0.9849\n",
      "Epoch 44/1000\n",
      "191/211 [==========================>...] - ETA: 0s - loss: 0.7223 - accuracy: 0.7551\n",
      "Epoch 44: saving model to model/keypoint_classifier\\keypoint_classifier.hdf5\n",
      "211/211 [==============================] - 0s 1ms/step - loss: 0.7233 - accuracy: 0.7550 - val_loss: 0.1835 - val_accuracy: 0.9839\n",
      "Epoch 45/1000\n",
      "200/211 [===========================>..] - ETA: 0s - loss: 0.7184 - accuracy: 0.7527\n",
      "Epoch 45: saving model to model/keypoint_classifier\\keypoint_classifier.hdf5\n",
      "211/211 [==============================] - 0s 1ms/step - loss: 0.7180 - accuracy: 0.7535 - val_loss: 0.1691 - val_accuracy: 0.9893\n",
      "Epoch 46/1000\n",
      "194/211 [==========================>...] - ETA: 0s - loss: 0.7265 - accuracy: 0.7494\n",
      "Epoch 46: saving model to model/keypoint_classifier\\keypoint_classifier.hdf5\n",
      "211/211 [==============================] - 0s 1ms/step - loss: 0.7247 - accuracy: 0.7505 - val_loss: 0.1723 - val_accuracy: 0.9974\n",
      "Epoch 47/1000\n",
      "201/211 [===========================>..] - ETA: 0s - loss: 0.7143 - accuracy: 0.7517\n",
      "Epoch 47: saving model to model/keypoint_classifier\\keypoint_classifier.hdf5\n",
      "211/211 [==============================] - 0s 1ms/step - loss: 0.7143 - accuracy: 0.7517 - val_loss: 0.1755 - val_accuracy: 0.9890\n",
      "Epoch 48/1000\n",
      "196/211 [==========================>...] - ETA: 0s - loss: 0.7112 - accuracy: 0.7553\n",
      "Epoch 48: saving model to model/keypoint_classifier\\keypoint_classifier.hdf5\n",
      "211/211 [==============================] - 0s 1ms/step - loss: 0.7099 - accuracy: 0.7559 - val_loss: 0.1698 - val_accuracy: 0.9974\n",
      "Epoch 49/1000\n",
      "194/211 [==========================>...] - ETA: 0s - loss: 0.6998 - accuracy: 0.7572\n",
      "Epoch 49: saving model to model/keypoint_classifier\\keypoint_classifier.hdf5\n",
      "211/211 [==============================] - 0s 1ms/step - loss: 0.7006 - accuracy: 0.7568 - val_loss: 0.1694 - val_accuracy: 0.9893\n",
      "Epoch 50/1000\n",
      "199/211 [===========================>..] - ETA: 0s - loss: 0.7077 - accuracy: 0.7561\n",
      "Epoch 50: saving model to model/keypoint_classifier\\keypoint_classifier.hdf5\n",
      "211/211 [==============================] - 0s 1ms/step - loss: 0.7090 - accuracy: 0.7559 - val_loss: 0.1745 - val_accuracy: 0.9841\n",
      "Epoch 51/1000\n",
      "194/211 [==========================>...] - ETA: 0s - loss: 0.6957 - accuracy: 0.7580\n",
      "Epoch 51: saving model to model/keypoint_classifier\\keypoint_classifier.hdf5\n",
      "211/211 [==============================] - 0s 1ms/step - loss: 0.6960 - accuracy: 0.7583 - val_loss: 0.1729 - val_accuracy: 0.9863\n",
      "Epoch 52/1000\n",
      "196/211 [==========================>...] - ETA: 0s - loss: 0.7051 - accuracy: 0.7552\n",
      "Epoch 52: saving model to model/keypoint_classifier\\keypoint_classifier.hdf5\n",
      "211/211 [==============================] - 0s 1ms/step - loss: 0.7040 - accuracy: 0.7553 - val_loss: 0.1654 - val_accuracy: 0.9861\n",
      "Epoch 53/1000\n",
      "197/211 [===========================>..] - ETA: 0s - loss: 0.6990 - accuracy: 0.7607\n",
      "Epoch 53: saving model to model/keypoint_classifier\\keypoint_classifier.hdf5\n",
      "211/211 [==============================] - 0s 1ms/step - loss: 0.7006 - accuracy: 0.7591 - val_loss: 0.1783 - val_accuracy: 0.9849\n",
      "Epoch 54/1000\n",
      "193/211 [==========================>...] - ETA: 0s - loss: 0.7080 - accuracy: 0.7568\n",
      "Epoch 54: saving model to model/keypoint_classifier\\keypoint_classifier.hdf5\n",
      "211/211 [==============================] - 0s 1ms/step - loss: 0.7063 - accuracy: 0.7578 - val_loss: 0.1774 - val_accuracy: 0.9794\n"
     ]
    },
    {
     "name": "stdout",
     "output_type": "stream",
     "text": [
      "Epoch 55/1000\n",
      "188/211 [=========================>....] - ETA: 0s - loss: 0.7000 - accuracy: 0.7563\n",
      "Epoch 55: saving model to model/keypoint_classifier\\keypoint_classifier.hdf5\n",
      "211/211 [==============================] - 0s 1ms/step - loss: 0.7032 - accuracy: 0.7547 - val_loss: 0.1691 - val_accuracy: 0.9837\n",
      "Epoch 56/1000\n",
      "194/211 [==========================>...] - ETA: 0s - loss: 0.6944 - accuracy: 0.7624\n",
      "Epoch 56: saving model to model/keypoint_classifier\\keypoint_classifier.hdf5\n",
      "211/211 [==============================] - 0s 1ms/step - loss: 0.6925 - accuracy: 0.7631 - val_loss: 0.1666 - val_accuracy: 0.9803\n",
      "Epoch 57/1000\n",
      "189/211 [=========================>....] - ETA: 0s - loss: 0.6815 - accuracy: 0.7668\n",
      "Epoch 57: saving model to model/keypoint_classifier\\keypoint_classifier.hdf5\n",
      "211/211 [==============================] - 0s 1ms/step - loss: 0.6847 - accuracy: 0.7665 - val_loss: 0.1606 - val_accuracy: 0.9866\n",
      "Epoch 58/1000\n",
      "196/211 [==========================>...] - ETA: 0s - loss: 0.6895 - accuracy: 0.7633\n",
      "Epoch 58: saving model to model/keypoint_classifier\\keypoint_classifier.hdf5\n",
      "211/211 [==============================] - 0s 1ms/step - loss: 0.6922 - accuracy: 0.7630 - val_loss: 0.1663 - val_accuracy: 0.9842\n",
      "Epoch 59/1000\n",
      "191/211 [==========================>...] - ETA: 0s - loss: 0.6902 - accuracy: 0.7650\n",
      "Epoch 59: saving model to model/keypoint_classifier\\keypoint_classifier.hdf5\n",
      "211/211 [==============================] - 0s 1ms/step - loss: 0.6904 - accuracy: 0.7647 - val_loss: 0.1742 - val_accuracy: 0.9566\n",
      "Epoch 60/1000\n",
      "190/211 [==========================>...] - ETA: 0s - loss: 0.6811 - accuracy: 0.7654\n",
      "Epoch 60: saving model to model/keypoint_classifier\\keypoint_classifier.hdf5\n",
      "211/211 [==============================] - 0s 1ms/step - loss: 0.6827 - accuracy: 0.7649 - val_loss: 0.1714 - val_accuracy: 0.9468\n",
      "Epoch 61/1000\n",
      "190/211 [==========================>...] - ETA: 0s - loss: 0.6852 - accuracy: 0.7624\n",
      "Epoch 61: saving model to model/keypoint_classifier\\keypoint_classifier.hdf5\n",
      "211/211 [==============================] - 0s 2ms/step - loss: 0.6847 - accuracy: 0.7625 - val_loss: 0.1708 - val_accuracy: 0.9731\n",
      "Epoch 62/1000\n",
      "203/211 [===========================>..] - ETA: 0s - loss: 0.6829 - accuracy: 0.7650\n",
      "Epoch 62: saving model to model/keypoint_classifier\\keypoint_classifier.hdf5\n",
      "211/211 [==============================] - 0s 2ms/step - loss: 0.6807 - accuracy: 0.7662 - val_loss: 0.1597 - val_accuracy: 0.9469\n",
      "Epoch 63/1000\n",
      "188/211 [=========================>....] - ETA: 0s - loss: 0.6866 - accuracy: 0.7617\n",
      "Epoch 63: saving model to model/keypoint_classifier\\keypoint_classifier.hdf5\n",
      "211/211 [==============================] - 0s 1ms/step - loss: 0.6862 - accuracy: 0.7617 - val_loss: 0.1655 - val_accuracy: 0.9832\n",
      "Epoch 64/1000\n",
      "169/211 [=======================>......] - ETA: 0s - loss: 0.6782 - accuracy: 0.7690\n",
      "Epoch 64: saving model to model/keypoint_classifier\\keypoint_classifier.hdf5\n",
      "211/211 [==============================] - 0s 2ms/step - loss: 0.6813 - accuracy: 0.7677 - val_loss: 0.1568 - val_accuracy: 0.9861\n",
      "Epoch 65/1000\n",
      "170/211 [=======================>......] - ETA: 0s - loss: 0.6673 - accuracy: 0.7697\n",
      "Epoch 65: saving model to model/keypoint_classifier\\keypoint_classifier.hdf5\n",
      "211/211 [==============================] - 0s 2ms/step - loss: 0.6716 - accuracy: 0.7680 - val_loss: 0.1596 - val_accuracy: 0.9904\n",
      "Epoch 66/1000\n",
      "180/211 [========================>.....] - ETA: 0s - loss: 0.6804 - accuracy: 0.7636\n",
      "Epoch 66: saving model to model/keypoint_classifier\\keypoint_classifier.hdf5\n",
      "211/211 [==============================] - 0s 1ms/step - loss: 0.6755 - accuracy: 0.7663 - val_loss: 0.1577 - val_accuracy: 0.9821\n",
      "Epoch 67/1000\n",
      "178/211 [========================>.....] - ETA: 0s - loss: 0.6768 - accuracy: 0.7685\n",
      "Epoch 67: saving model to model/keypoint_classifier\\keypoint_classifier.hdf5\n",
      "211/211 [==============================] - 0s 2ms/step - loss: 0.6767 - accuracy: 0.7693 - val_loss: 0.1552 - val_accuracy: 0.9644\n",
      "Epoch 68/1000\n",
      "191/211 [==========================>...] - ETA: 0s - loss: 0.6750 - accuracy: 0.7672\n",
      "Epoch 68: saving model to model/keypoint_classifier\\keypoint_classifier.hdf5\n",
      "211/211 [==============================] - 0s 2ms/step - loss: 0.6738 - accuracy: 0.7671 - val_loss: 0.1659 - val_accuracy: 0.9434\n",
      "Epoch 69/1000\n",
      "208/211 [============================>.] - ETA: 0s - loss: 0.6711 - accuracy: 0.7668\n",
      "Epoch 69: saving model to model/keypoint_classifier\\keypoint_classifier.hdf5\n",
      "211/211 [==============================] - 0s 2ms/step - loss: 0.6710 - accuracy: 0.7666 - val_loss: 0.1608 - val_accuracy: 0.9569\n",
      "Epoch 70/1000\n",
      "189/211 [=========================>....] - ETA: 0s - loss: 0.6743 - accuracy: 0.7703\n",
      "Epoch 70: saving model to model/keypoint_classifier\\keypoint_classifier.hdf5\n",
      "211/211 [==============================] - 0s 2ms/step - loss: 0.6691 - accuracy: 0.7715 - val_loss: 0.1544 - val_accuracy: 0.9676\n",
      "Epoch 71/1000\n",
      "204/211 [============================>.] - ETA: 0s - loss: 0.6641 - accuracy: 0.7710\n",
      "Epoch 71: saving model to model/keypoint_classifier\\keypoint_classifier.hdf5\n",
      "211/211 [==============================] - 0s 2ms/step - loss: 0.6645 - accuracy: 0.7710 - val_loss: 0.1546 - val_accuracy: 0.9918\n",
      "Epoch 72/1000\n",
      "184/211 [=========================>....] - ETA: 0s - loss: 0.6806 - accuracy: 0.7635\n",
      "Epoch 72: saving model to model/keypoint_classifier\\keypoint_classifier.hdf5\n",
      "211/211 [==============================] - 0s 2ms/step - loss: 0.6811 - accuracy: 0.7641 - val_loss: 0.1524 - val_accuracy: 0.9874\n",
      "Epoch 73/1000\n",
      "199/211 [===========================>..] - ETA: 0s - loss: 0.6653 - accuracy: 0.7695\n",
      "Epoch 73: saving model to model/keypoint_classifier\\keypoint_classifier.hdf5\n",
      "211/211 [==============================] - 0s 1ms/step - loss: 0.6650 - accuracy: 0.7697 - val_loss: 0.1556 - val_accuracy: 0.9901\n",
      "Epoch 74/1000\n",
      "196/211 [==========================>...] - ETA: 0s - loss: 0.6736 - accuracy: 0.7693\n",
      "Epoch 74: saving model to model/keypoint_classifier\\keypoint_classifier.hdf5\n",
      "211/211 [==============================] - 0s 1ms/step - loss: 0.6702 - accuracy: 0.7703 - val_loss: 0.1578 - val_accuracy: 0.9883\n",
      "Epoch 75/1000\n",
      "183/211 [=========================>....] - ETA: 0s - loss: 0.6621 - accuracy: 0.7684\n",
      "Epoch 75: saving model to model/keypoint_classifier\\keypoint_classifier.hdf5\n",
      "211/211 [==============================] - 0s 1ms/step - loss: 0.6614 - accuracy: 0.7686 - val_loss: 0.1557 - val_accuracy: 0.9817\n",
      "Epoch 76/1000\n",
      "197/211 [===========================>..] - ETA: 0s - loss: 0.6556 - accuracy: 0.7738\n",
      "Epoch 76: saving model to model/keypoint_classifier\\keypoint_classifier.hdf5\n",
      "211/211 [==============================] - 0s 2ms/step - loss: 0.6545 - accuracy: 0.7744 - val_loss: 0.1582 - val_accuracy: 0.9888\n",
      "Epoch 77/1000\n",
      "199/211 [===========================>..] - ETA: 0s - loss: 0.6696 - accuracy: 0.7702\n",
      "Epoch 77: saving model to model/keypoint_classifier\\keypoint_classifier.hdf5\n",
      "211/211 [==============================] - 0s 2ms/step - loss: 0.6687 - accuracy: 0.7705 - val_loss: 0.1593 - val_accuracy: 0.9866\n",
      "Epoch 78/1000\n",
      "201/211 [===========================>..] - ETA: 0s - loss: 0.6544 - accuracy: 0.7718\n",
      "Epoch 78: saving model to model/keypoint_classifier\\keypoint_classifier.hdf5\n",
      "211/211 [==============================] - 0s 2ms/step - loss: 0.6533 - accuracy: 0.7724 - val_loss: 0.1524 - val_accuracy: 0.9470\n",
      "Epoch 79/1000\n",
      "178/211 [========================>.....] - ETA: 0s - loss: 0.6686 - accuracy: 0.7666\n",
      "Epoch 79: saving model to model/keypoint_classifier\\keypoint_classifier.hdf5\n",
      "211/211 [==============================] - 0s 2ms/step - loss: 0.6628 - accuracy: 0.7687 - val_loss: 0.1511 - val_accuracy: 0.9927\n",
      "Epoch 80/1000\n",
      "194/211 [==========================>...] - ETA: 0s - loss: 0.6583 - accuracy: 0.7721\n",
      "Epoch 80: saving model to model/keypoint_classifier\\keypoint_classifier.hdf5\n",
      "211/211 [==============================] - 0s 1ms/step - loss: 0.6582 - accuracy: 0.7722 - val_loss: 0.1549 - val_accuracy: 0.9583\n",
      "Epoch 81/1000\n",
      "193/211 [==========================>...] - ETA: 0s - loss: 0.6545 - accuracy: 0.7744\n",
      "Epoch 81: saving model to model/keypoint_classifier\\keypoint_classifier.hdf5\n",
      "211/211 [==============================] - 0s 1ms/step - loss: 0.6529 - accuracy: 0.7749 - val_loss: 0.1609 - val_accuracy: 0.9812\n"
     ]
    },
    {
     "name": "stdout",
     "output_type": "stream",
     "text": [
      "Epoch 82/1000\n",
      "167/211 [======================>.......] - ETA: 0s - loss: 0.6644 - accuracy: 0.7675\n",
      "Epoch 82: saving model to model/keypoint_classifier\\keypoint_classifier.hdf5\n",
      "211/211 [==============================] - 0s 2ms/step - loss: 0.6591 - accuracy: 0.7703 - val_loss: 0.1506 - val_accuracy: 0.9878\n",
      "Epoch 83/1000\n",
      "179/211 [========================>.....] - ETA: 0s - loss: 0.6538 - accuracy: 0.7739\n",
      "Epoch 83: saving model to model/keypoint_classifier\\keypoint_classifier.hdf5\n",
      "211/211 [==============================] - 0s 1ms/step - loss: 0.6530 - accuracy: 0.7749 - val_loss: 0.1599 - val_accuracy: 0.9826\n",
      "Epoch 84/1000\n",
      "191/211 [==========================>...] - ETA: 0s - loss: 0.6500 - accuracy: 0.7780\n",
      "Epoch 84: saving model to model/keypoint_classifier\\keypoint_classifier.hdf5\n",
      "211/211 [==============================] - 0s 1ms/step - loss: 0.6505 - accuracy: 0.7780 - val_loss: 0.1601 - val_accuracy: 0.9456\n",
      "Epoch 85/1000\n",
      "174/211 [=======================>......] - ETA: 0s - loss: 0.6536 - accuracy: 0.7689\n",
      "Epoch 85: saving model to model/keypoint_classifier\\keypoint_classifier.hdf5\n",
      "211/211 [==============================] - 0s 2ms/step - loss: 0.6525 - accuracy: 0.7696 - val_loss: 0.1520 - val_accuracy: 0.9899\n",
      "Epoch 86/1000\n",
      "186/211 [=========================>....] - ETA: 0s - loss: 0.6576 - accuracy: 0.7710\n",
      "Epoch 86: saving model to model/keypoint_classifier\\keypoint_classifier.hdf5\n",
      "211/211 [==============================] - 0s 1ms/step - loss: 0.6597 - accuracy: 0.7711 - val_loss: 0.1683 - val_accuracy: 0.9477\n",
      "Epoch 87/1000\n",
      "190/211 [==========================>...] - ETA: 0s - loss: 0.6532 - accuracy: 0.7761\n",
      "Epoch 87: saving model to model/keypoint_classifier\\keypoint_classifier.hdf5\n",
      "211/211 [==============================] - 0s 2ms/step - loss: 0.6573 - accuracy: 0.7743 - val_loss: 0.1526 - val_accuracy: 0.9707\n",
      "Epoch 88/1000\n",
      "184/211 [=========================>....] - ETA: 0s - loss: 0.6490 - accuracy: 0.7728\n",
      "Epoch 88: saving model to model/keypoint_classifier\\keypoint_classifier.hdf5\n",
      "211/211 [==============================] - 0s 2ms/step - loss: 0.6519 - accuracy: 0.7716 - val_loss: 0.1522 - val_accuracy: 0.9541\n",
      "Epoch 89/1000\n",
      "182/211 [========================>.....] - ETA: 0s - loss: 0.6518 - accuracy: 0.7732\n",
      "Epoch 89: saving model to model/keypoint_classifier\\keypoint_classifier.hdf5\n",
      "211/211 [==============================] - 0s 2ms/step - loss: 0.6547 - accuracy: 0.7716 - val_loss: 0.1479 - val_accuracy: 0.9487\n",
      "Epoch 90/1000\n",
      "172/211 [=======================>......] - ETA: 0s - loss: 0.6584 - accuracy: 0.7723\n",
      "Epoch 90: saving model to model/keypoint_classifier\\keypoint_classifier.hdf5\n",
      "211/211 [==============================] - 0s 2ms/step - loss: 0.6595 - accuracy: 0.7713 - val_loss: 0.1464 - val_accuracy: 0.9539\n",
      "Epoch 91/1000\n",
      "175/211 [=======================>......] - ETA: 0s - loss: 0.6499 - accuracy: 0.7718\n",
      "Epoch 91: saving model to model/keypoint_classifier\\keypoint_classifier.hdf5\n",
      "211/211 [==============================] - 0s 2ms/step - loss: 0.6498 - accuracy: 0.7727 - val_loss: 0.1588 - val_accuracy: 0.9543\n",
      "Epoch 92/1000\n",
      "193/211 [==========================>...] - ETA: 0s - loss: 0.6483 - accuracy: 0.7755\n",
      "Epoch 92: saving model to model/keypoint_classifier\\keypoint_classifier.hdf5\n",
      "211/211 [==============================] - 0s 2ms/step - loss: 0.6479 - accuracy: 0.7761 - val_loss: 0.1533 - val_accuracy: 0.9502\n",
      "Epoch 93/1000\n",
      "174/211 [=======================>......] - ETA: 0s - loss: 0.6536 - accuracy: 0.7709\n",
      "Epoch 93: saving model to model/keypoint_classifier\\keypoint_classifier.hdf5\n",
      "211/211 [==============================] - 0s 2ms/step - loss: 0.6549 - accuracy: 0.7702 - val_loss: 0.1584 - val_accuracy: 0.9760\n",
      "Epoch 94/1000\n",
      "184/211 [=========================>....] - ETA: 0s - loss: 0.6474 - accuracy: 0.7776\n",
      "Epoch 94: saving model to model/keypoint_classifier\\keypoint_classifier.hdf5\n",
      "211/211 [==============================] - 0s 2ms/step - loss: 0.6463 - accuracy: 0.7775 - val_loss: 0.1559 - val_accuracy: 0.9904\n",
      "Epoch 95/1000\n",
      "192/211 [==========================>...] - ETA: 0s - loss: 0.6387 - accuracy: 0.7796\n",
      "Epoch 95: saving model to model/keypoint_classifier\\keypoint_classifier.hdf5\n",
      "211/211 [==============================] - 0s 1ms/step - loss: 0.6356 - accuracy: 0.7799 - val_loss: 0.1487 - val_accuracy: 0.9561\n",
      "Epoch 96/1000\n",
      "194/211 [==========================>...] - ETA: 0s - loss: 0.6415 - accuracy: 0.7754\n",
      "Epoch 96: saving model to model/keypoint_classifier\\keypoint_classifier.hdf5\n",
      "211/211 [==============================] - 0s 1ms/step - loss: 0.6442 - accuracy: 0.7741 - val_loss: 0.1448 - val_accuracy: 0.9929\n",
      "Epoch 97/1000\n",
      "191/211 [==========================>...] - ETA: 0s - loss: 0.6420 - accuracy: 0.7768\n",
      "Epoch 97: saving model to model/keypoint_classifier\\keypoint_classifier.hdf5\n",
      "211/211 [==============================] - 0s 1ms/step - loss: 0.6434 - accuracy: 0.7753 - val_loss: 0.1626 - val_accuracy: 0.9859\n",
      "Epoch 98/1000\n",
      "192/211 [==========================>...] - ETA: 0s - loss: 0.6649 - accuracy: 0.7693\n",
      "Epoch 98: saving model to model/keypoint_classifier\\keypoint_classifier.hdf5\n",
      "211/211 [==============================] - 0s 1ms/step - loss: 0.6621 - accuracy: 0.7691 - val_loss: 0.1510 - val_accuracy: 0.9873\n",
      "Epoch 99/1000\n",
      "195/211 [==========================>...] - ETA: 0s - loss: 0.6425 - accuracy: 0.7752\n",
      "Epoch 99: saving model to model/keypoint_classifier\\keypoint_classifier.hdf5\n",
      "211/211 [==============================] - 0s 1ms/step - loss: 0.6380 - accuracy: 0.7765 - val_loss: 0.1468 - val_accuracy: 0.9909\n",
      "Epoch 100/1000\n",
      "191/211 [==========================>...] - ETA: 0s - loss: 0.6493 - accuracy: 0.7736\n",
      "Epoch 100: saving model to model/keypoint_classifier\\keypoint_classifier.hdf5\n",
      "211/211 [==============================] - 0s 1ms/step - loss: 0.6464 - accuracy: 0.7754 - val_loss: 0.1583 - val_accuracy: 0.9827\n",
      "Epoch 101/1000\n",
      "192/211 [==========================>...] - ETA: 0s - loss: 0.6432 - accuracy: 0.7746\n",
      "Epoch 101: saving model to model/keypoint_classifier\\keypoint_classifier.hdf5\n",
      "211/211 [==============================] - 0s 1ms/step - loss: 0.6428 - accuracy: 0.7748 - val_loss: 0.1605 - val_accuracy: 0.9494\n",
      "Epoch 102/1000\n",
      "194/211 [==========================>...] - ETA: 0s - loss: 0.6349 - accuracy: 0.7756\n",
      "Epoch 102: saving model to model/keypoint_classifier\\keypoint_classifier.hdf5\n",
      "211/211 [==============================] - 0s 1ms/step - loss: 0.6360 - accuracy: 0.7761 - val_loss: 0.1512 - val_accuracy: 0.9672\n",
      "Epoch 103/1000\n",
      "185/211 [=========================>....] - ETA: 0s - loss: 0.6493 - accuracy: 0.7738\n",
      "Epoch 103: saving model to model/keypoint_classifier\\keypoint_classifier.hdf5\n",
      "211/211 [==============================] - 0s 1ms/step - loss: 0.6452 - accuracy: 0.7759 - val_loss: 0.1545 - val_accuracy: 0.9544\n",
      "Epoch 104/1000\n",
      "194/211 [==========================>...] - ETA: 0s - loss: 0.6385 - accuracy: 0.7814\n",
      "Epoch 104: saving model to model/keypoint_classifier\\keypoint_classifier.hdf5\n",
      "211/211 [==============================] - 0s 1ms/step - loss: 0.6396 - accuracy: 0.7806 - val_loss: 0.1489 - val_accuracy: 0.9858\n",
      "Epoch 105/1000\n",
      "193/211 [==========================>...] - ETA: 0s - loss: 0.6334 - accuracy: 0.7796\n",
      "Epoch 105: saving model to model/keypoint_classifier\\keypoint_classifier.hdf5\n",
      "211/211 [==============================] - 0s 1ms/step - loss: 0.6352 - accuracy: 0.7790 - val_loss: 0.1532 - val_accuracy: 0.9476\n",
      "Epoch 106/1000\n",
      "193/211 [==========================>...] - ETA: 0s - loss: 0.6353 - accuracy: 0.7771\n",
      "Epoch 106: saving model to model/keypoint_classifier\\keypoint_classifier.hdf5\n",
      "211/211 [==============================] - 0s 1ms/step - loss: 0.6388 - accuracy: 0.7749 - val_loss: 0.1573 - val_accuracy: 0.9791\n",
      "Epoch 107/1000\n",
      "198/211 [===========================>..] - ETA: 0s - loss: 0.6316 - accuracy: 0.7832\n",
      "Epoch 107: saving model to model/keypoint_classifier\\keypoint_classifier.hdf5\n",
      "211/211 [==============================] - 0s 1ms/step - loss: 0.6324 - accuracy: 0.7826 - val_loss: 0.1520 - val_accuracy: 0.9869\n",
      "Epoch 108/1000\n",
      "195/211 [==========================>...] - ETA: 0s - loss: 0.6241 - accuracy: 0.7848\n",
      "Epoch 108: saving model to model/keypoint_classifier\\keypoint_classifier.hdf5\n",
      "211/211 [==============================] - 0s 1ms/step - loss: 0.6239 - accuracy: 0.7849 - val_loss: 0.1572 - val_accuracy: 0.9874\n"
     ]
    },
    {
     "name": "stdout",
     "output_type": "stream",
     "text": [
      "Epoch 109/1000\n",
      "195/211 [==========================>...] - ETA: 0s - loss: 0.6333 - accuracy: 0.7784\n",
      "Epoch 109: saving model to model/keypoint_classifier\\keypoint_classifier.hdf5\n",
      "211/211 [==============================] - 0s 1ms/step - loss: 0.6325 - accuracy: 0.7791 - val_loss: 0.1480 - val_accuracy: 0.9548\n",
      "Epoch 110/1000\n",
      "187/211 [=========================>....] - ETA: 0s - loss: 0.6383 - accuracy: 0.7769\n",
      "Epoch 110: saving model to model/keypoint_classifier\\keypoint_classifier.hdf5\n",
      "211/211 [==============================] - 0s 1ms/step - loss: 0.6383 - accuracy: 0.7775 - val_loss: 0.1455 - val_accuracy: 0.9891\n",
      "Epoch 111/1000\n",
      "197/211 [===========================>..] - ETA: 0s - loss: 0.6229 - accuracy: 0.7797\n",
      "Epoch 111: saving model to model/keypoint_classifier\\keypoint_classifier.hdf5\n",
      "211/211 [==============================] - 0s 1ms/step - loss: 0.6234 - accuracy: 0.7797 - val_loss: 0.1367 - val_accuracy: 0.9809\n",
      "Epoch 112/1000\n",
      "195/211 [==========================>...] - ETA: 0s - loss: 0.6194 - accuracy: 0.7812\n",
      "Epoch 112: saving model to model/keypoint_classifier\\keypoint_classifier.hdf5\n",
      "211/211 [==============================] - 0s 1ms/step - loss: 0.6214 - accuracy: 0.7810 - val_loss: 0.1472 - val_accuracy: 0.9912\n",
      "Epoch 113/1000\n",
      "190/211 [==========================>...] - ETA: 0s - loss: 0.6290 - accuracy: 0.7841\n",
      "Epoch 113: saving model to model/keypoint_classifier\\keypoint_classifier.hdf5\n",
      "211/211 [==============================] - 0s 1ms/step - loss: 0.6312 - accuracy: 0.7830 - val_loss: 0.1456 - val_accuracy: 0.9904\n",
      "Epoch 114/1000\n",
      "196/211 [==========================>...] - ETA: 0s - loss: 0.6173 - accuracy: 0.7859\n",
      "Epoch 114: saving model to model/keypoint_classifier\\keypoint_classifier.hdf5\n",
      "211/211 [==============================] - 0s 1ms/step - loss: 0.6193 - accuracy: 0.7855 - val_loss: 0.1469 - val_accuracy: 0.9746\n",
      "Epoch 115/1000\n",
      "193/211 [==========================>...] - ETA: 0s - loss: 0.6287 - accuracy: 0.7787\n",
      "Epoch 115: saving model to model/keypoint_classifier\\keypoint_classifier.hdf5\n",
      "211/211 [==============================] - 0s 1ms/step - loss: 0.6288 - accuracy: 0.7790 - val_loss: 0.1559 - val_accuracy: 0.9546\n",
      "Epoch 116/1000\n",
      "200/211 [===========================>..] - ETA: 0s - loss: 0.6373 - accuracy: 0.7799\n",
      "Epoch 116: saving model to model/keypoint_classifier\\keypoint_classifier.hdf5\n",
      "211/211 [==============================] - 0s 1ms/step - loss: 0.6368 - accuracy: 0.7800 - val_loss: 0.1512 - val_accuracy: 0.9540\n",
      "Epoch 117/1000\n",
      "188/211 [=========================>....] - ETA: 0s - loss: 0.6260 - accuracy: 0.7828\n",
      "Epoch 117: saving model to model/keypoint_classifier\\keypoint_classifier.hdf5\n",
      "211/211 [==============================] - 0s 1ms/step - loss: 0.6266 - accuracy: 0.7833 - val_loss: 0.1507 - val_accuracy: 0.9478\n",
      "Epoch 118/1000\n",
      "195/211 [==========================>...] - ETA: 0s - loss: 0.6233 - accuracy: 0.7856\n",
      "Epoch 118: saving model to model/keypoint_classifier\\keypoint_classifier.hdf5\n",
      "211/211 [==============================] - 0s 1ms/step - loss: 0.6231 - accuracy: 0.7859 - val_loss: 0.1501 - val_accuracy: 0.9552\n",
      "Epoch 119/1000\n",
      "194/211 [==========================>...] - ETA: 0s - loss: 0.6286 - accuracy: 0.7816\n",
      "Epoch 119: saving model to model/keypoint_classifier\\keypoint_classifier.hdf5\n",
      "211/211 [==============================] - 0s 1ms/step - loss: 0.6308 - accuracy: 0.7807 - val_loss: 0.1449 - val_accuracy: 0.9557\n",
      "Epoch 120/1000\n",
      "185/211 [=========================>....] - ETA: 0s - loss: 0.6181 - accuracy: 0.7845\n",
      "Epoch 120: saving model to model/keypoint_classifier\\keypoint_classifier.hdf5\n",
      "211/211 [==============================] - 0s 1ms/step - loss: 0.6241 - accuracy: 0.7832 - val_loss: 0.1575 - val_accuracy: 0.9468\n",
      "Epoch 121/1000\n",
      "192/211 [==========================>...] - ETA: 0s - loss: 0.6210 - accuracy: 0.7867\n",
      "Epoch 121: saving model to model/keypoint_classifier\\keypoint_classifier.hdf5\n",
      "211/211 [==============================] - 0s 1ms/step - loss: 0.6199 - accuracy: 0.7870 - val_loss: 0.1336 - val_accuracy: 0.9930\n",
      "Epoch 122/1000\n",
      "197/211 [===========================>..] - ETA: 0s - loss: 0.6212 - accuracy: 0.7847\n",
      "Epoch 122: saving model to model/keypoint_classifier\\keypoint_classifier.hdf5\n",
      "211/211 [==============================] - 0s 1ms/step - loss: 0.6213 - accuracy: 0.7838 - val_loss: 0.1594 - val_accuracy: 0.9481\n",
      "Epoch 123/1000\n",
      "196/211 [==========================>...] - ETA: 0s - loss: 0.6222 - accuracy: 0.7856\n",
      "Epoch 123: saving model to model/keypoint_classifier\\keypoint_classifier.hdf5\n",
      "211/211 [==============================] - 0s 1ms/step - loss: 0.6237 - accuracy: 0.7850 - val_loss: 0.1454 - val_accuracy: 0.9911\n",
      "Epoch 124/1000\n",
      "196/211 [==========================>...] - ETA: 0s - loss: 0.6227 - accuracy: 0.7875\n",
      "Epoch 124: saving model to model/keypoint_classifier\\keypoint_classifier.hdf5\n",
      "211/211 [==============================] - 0s 1ms/step - loss: 0.6246 - accuracy: 0.7861 - val_loss: 0.1548 - val_accuracy: 0.9452\n",
      "Epoch 125/1000\n",
      "195/211 [==========================>...] - ETA: 0s - loss: 0.6153 - accuracy: 0.7862\n",
      "Epoch 125: saving model to model/keypoint_classifier\\keypoint_classifier.hdf5\n",
      "211/211 [==============================] - 0s 1ms/step - loss: 0.6165 - accuracy: 0.7856 - val_loss: 0.1443 - val_accuracy: 0.9536\n",
      "Epoch 126/1000\n",
      "199/211 [===========================>..] - ETA: 0s - loss: 0.6297 - accuracy: 0.7836\n",
      "Epoch 126: saving model to model/keypoint_classifier\\keypoint_classifier.hdf5\n",
      "211/211 [==============================] - 0s 1ms/step - loss: 0.6312 - accuracy: 0.7826 - val_loss: 0.1493 - val_accuracy: 0.9529\n",
      "Epoch 127/1000\n",
      "192/211 [==========================>...] - ETA: 0s - loss: 0.6110 - accuracy: 0.7845\n",
      "Epoch 127: saving model to model/keypoint_classifier\\keypoint_classifier.hdf5\n",
      "211/211 [==============================] - 0s 1ms/step - loss: 0.6123 - accuracy: 0.7839 - val_loss: 0.1434 - val_accuracy: 0.9547\n",
      "Epoch 128/1000\n",
      "195/211 [==========================>...] - ETA: 0s - loss: 0.6238 - accuracy: 0.7828\n",
      "Epoch 128: saving model to model/keypoint_classifier\\keypoint_classifier.hdf5\n",
      "211/211 [==============================] - 0s 1ms/step - loss: 0.6229 - accuracy: 0.7830 - val_loss: 0.1484 - val_accuracy: 0.9891\n",
      "Epoch 129/1000\n",
      "196/211 [==========================>...] - ETA: 0s - loss: 0.6095 - accuracy: 0.7864\n",
      "Epoch 129: saving model to model/keypoint_classifier\\keypoint_classifier.hdf5\n",
      "211/211 [==============================] - 0s 1ms/step - loss: 0.6113 - accuracy: 0.7856 - val_loss: 0.1399 - val_accuracy: 0.9563\n",
      "Epoch 130/1000\n",
      "189/211 [=========================>....] - ETA: 0s - loss: 0.6190 - accuracy: 0.7826\n",
      "Epoch 130: saving model to model/keypoint_classifier\\keypoint_classifier.hdf5\n",
      "211/211 [==============================] - 0s 1ms/step - loss: 0.6213 - accuracy: 0.7814 - val_loss: 0.1512 - val_accuracy: 0.9434\n",
      "Epoch 131/1000\n",
      "197/211 [===========================>..] - ETA: 0s - loss: 0.6216 - accuracy: 0.7822\n",
      "Epoch 131: saving model to model/keypoint_classifier\\keypoint_classifier.hdf5\n",
      "211/211 [==============================] - 0s 1ms/step - loss: 0.6210 - accuracy: 0.7828 - val_loss: 0.1608 - val_accuracy: 0.9468\n",
      "Epoch 132/1000\n",
      "190/211 [==========================>...] - ETA: 0s - loss: 0.6189 - accuracy: 0.7835\n",
      "Epoch 132: saving model to model/keypoint_classifier\\keypoint_classifier.hdf5\n",
      "211/211 [==============================] - 0s 1ms/step - loss: 0.6205 - accuracy: 0.7826 - val_loss: 0.1505 - val_accuracy: 0.9532\n",
      "Epoch 133/1000\n",
      "196/211 [==========================>...] - ETA: 0s - loss: 0.6290 - accuracy: 0.7817\n",
      "Epoch 133: saving model to model/keypoint_classifier\\keypoint_classifier.hdf5\n",
      "211/211 [==============================] - 0s 1ms/step - loss: 0.6279 - accuracy: 0.7819 - val_loss: 0.1510 - val_accuracy: 0.9489\n",
      "Epoch 134/1000\n",
      "198/211 [===========================>..] - ETA: 0s - loss: 0.6226 - accuracy: 0.7839\n",
      "Epoch 134: saving model to model/keypoint_classifier\\keypoint_classifier.hdf5\n",
      "211/211 [==============================] - 0s 1ms/step - loss: 0.6226 - accuracy: 0.7837 - val_loss: 0.1573 - val_accuracy: 0.9431\n",
      "Epoch 135/1000\n",
      "195/211 [==========================>...] - ETA: 0s - loss: 0.6265 - accuracy: 0.7827\n",
      "Epoch 135: saving model to model/keypoint_classifier\\keypoint_classifier.hdf5\n"
     ]
    },
    {
     "name": "stdout",
     "output_type": "stream",
     "text": [
      "211/211 [==============================] - 0s 1ms/step - loss: 0.6252 - accuracy: 0.7833 - val_loss: 0.1464 - val_accuracy: 0.9561\n",
      "Epoch 136/1000\n",
      "198/211 [===========================>..] - ETA: 0s - loss: 0.6183 - accuracy: 0.7862\n",
      "Epoch 136: saving model to model/keypoint_classifier\\keypoint_classifier.hdf5\n",
      "211/211 [==============================] - 0s 1ms/step - loss: 0.6188 - accuracy: 0.7858 - val_loss: 0.1474 - val_accuracy: 0.9860\n",
      "Epoch 137/1000\n",
      "178/211 [========================>.....] - ETA: 0s - loss: 0.6200 - accuracy: 0.7850\n",
      "Epoch 137: saving model to model/keypoint_classifier\\keypoint_classifier.hdf5\n",
      "211/211 [==============================] - 0s 1ms/step - loss: 0.6179 - accuracy: 0.7852 - val_loss: 0.1430 - val_accuracy: 0.9536\n",
      "Epoch 138/1000\n",
      "196/211 [==========================>...] - ETA: 0s - loss: 0.6011 - accuracy: 0.7885\n",
      "Epoch 138: saving model to model/keypoint_classifier\\keypoint_classifier.hdf5\n",
      "211/211 [==============================] - 0s 1ms/step - loss: 0.6012 - accuracy: 0.7883 - val_loss: 0.1510 - val_accuracy: 0.9556\n",
      "Epoch 139/1000\n",
      "195/211 [==========================>...] - ETA: 0s - loss: 0.6085 - accuracy: 0.7865\n",
      "Epoch 139: saving model to model/keypoint_classifier\\keypoint_classifier.hdf5\n",
      "211/211 [==============================] - 0s 1ms/step - loss: 0.6111 - accuracy: 0.7860 - val_loss: 0.1483 - val_accuracy: 0.9497\n",
      "Epoch 140/1000\n",
      "196/211 [==========================>...] - ETA: 0s - loss: 0.6160 - accuracy: 0.7826\n",
      "Epoch 140: saving model to model/keypoint_classifier\\keypoint_classifier.hdf5\n",
      "211/211 [==============================] - 0s 1ms/step - loss: 0.6140 - accuracy: 0.7834 - val_loss: 0.1512 - val_accuracy: 0.9503\n",
      "Epoch 141/1000\n",
      "193/211 [==========================>...] - ETA: 0s - loss: 0.6118 - accuracy: 0.7855\n",
      "Epoch 141: saving model to model/keypoint_classifier\\keypoint_classifier.hdf5\n",
      "211/211 [==============================] - 0s 1ms/step - loss: 0.6137 - accuracy: 0.7854 - val_loss: 0.1469 - val_accuracy: 0.9896\n",
      "Epoch 141: early stopping\n"
     ]
    },
    {
     "data": {
      "text/plain": [
       "<keras.callbacks.History at 0x22488cabe50>"
      ]
     },
     "execution_count": 11,
     "metadata": {},
     "output_type": "execute_result"
    }
   ],
   "source": [
    "model.fit(\n",
    "    X_train,\n",
    "    y_train,\n",
    "    epochs=1000,\n",
    "    batch_size=BATCH_SIZE,\n",
    "    validation_data=(X_test, y_test),\n",
    "    callbacks=[cp_callback, es_callback]\n",
    ")"
   ]
  },
  {
   "cell_type": "code",
   "execution_count": 12,
   "metadata": {
    "colab": {
     "base_uri": "https://localhost:8080/"
    },
    "id": "pxvb2Y299hE3",
    "outputId": "59eb3185-2e37-4b9e-bc9d-ab1b8ac29b7f"
   },
   "outputs": [
    {
     "name": "stdout",
     "output_type": "stream",
     "text": [
      "71/71 [==============================] - 0s 653us/step - loss: 0.1469 - accuracy: 0.9896\n"
     ]
    }
   ],
   "source": [
    "# Model evaluation\n",
    "val_loss, val_acc = model.evaluate(X_test, y_test, batch_size=BATCH_SIZE)"
   ]
  },
  {
   "cell_type": "code",
   "execution_count": 13,
   "metadata": {
    "id": "RBkmDeUW9hE4"
   },
   "outputs": [],
   "source": [
    "# Loading the saved model\n",
    "model = tf.keras.models.load_model(model_save_path)"
   ]
  },
  {
   "cell_type": "code",
   "execution_count": 14,
   "metadata": {
    "colab": {
     "base_uri": "https://localhost:8080/"
    },
    "id": "tFz9Tb0I9hE4",
    "outputId": "1c3b3528-54ae-4ee2-ab04-77429211cbef"
   },
   "outputs": [
    {
     "name": "stdout",
     "output_type": "stream",
     "text": [
      "1/1 [==============================] - 0s 63ms/step\n",
      "[1.9645933e-03 3.8665079e-10 1.8406602e-06 6.9876245e-07 2.3567339e-03\n",
      " 3.6315422e-04 7.2589073e-09 2.4950511e-08 3.1659125e-05 8.9968699e-09\n",
      " 9.9512237e-01 1.5948520e-18 2.3767397e-14 6.2248686e-09 3.9339684e-06\n",
      " 1.9006091e-08 6.5213362e-26 2.9918551e-06 0.0000000e+00 4.5662364e-22\n",
      " 2.2844410e-11 7.3779653e-15 9.7651915e-05 5.4399647e-05]\n",
      "10\n"
     ]
    }
   ],
   "source": [
    "# Inference test\n",
    "predict_result = model.predict(np.array([X_test[0]]))\n",
    "print(np.squeeze(predict_result))\n",
    "print(np.argmax(np.squeeze(predict_result)))"
   ]
  },
  {
   "cell_type": "markdown",
   "metadata": {
    "id": "S3U4yNWx9hE4"
   },
   "source": [
    "# Confusion matrix"
   ]
  },
  {
   "cell_type": "code",
   "execution_count": 15,
   "metadata": {
    "colab": {
     "base_uri": "https://localhost:8080/",
     "height": 582
    },
    "id": "AP1V6SCk9hE5",
    "outputId": "08e41a80-7a4a-4619-8125-ecc371368d19"
   },
   "outputs": [
    {
     "name": "stdout",
     "output_type": "stream",
     "text": [
      "282/282 [==============================] - 0s 528us/step\n"
     ]
    },
    {
     "data": {
      "image/png": "[encoded data removed]",
      "text/plain": [
       "<Figure size 504x432 with 2 Axes>"
      ]
     },
     "metadata": {
      "needs_background": "light"
     },
     "output_type": "display_data"
    },
    {
     "name": "stdout",
     "output_type": "stream",
     "text": [
      "Classification Report\n",
      "              precision    recall  f1-score   support\n",
      "\n",
      "           0       1.00      0.92      0.96       379\n",
      "           1       1.00      1.00      1.00       358\n",
      "           2       1.00      0.91      0.96       387\n",
      "           3       1.00      1.00      1.00       387\n",
      "           4       0.91      1.00      0.95       366\n",
      "           5       1.00      1.00      1.00       396\n",
      "           6       1.00      0.99      1.00       361\n",
      "           7       0.99      1.00      1.00       345\n",
      "           8       1.00      0.97      0.99       392\n",
      "           9       1.00      1.00      1.00       397\n",
      "          10       1.00      1.00      1.00       377\n",
      "          11       1.00      1.00      1.00       351\n",
      "          12       1.00      1.00      1.00       383\n",
      "          13       0.92      1.00      0.96       378\n",
      "          14       1.00      1.00      1.00       387\n",
      "          15       1.00      1.00      1.00       344\n",
      "          16       0.95      1.00      0.98       378\n",
      "          17       0.99      1.00      1.00       342\n",
      "          18       1.00      1.00      1.00       380\n",
      "          19       1.00      0.95      0.97       353\n",
      "          20       1.00      1.00      1.00       400\n",
      "          21       1.00      1.00      1.00       380\n",
      "          22       1.00      1.00      1.00       407\n",
      "          23       1.00      1.00      1.00       372\n",
      "\n",
      "    accuracy                           0.99      9000\n",
      "   macro avg       0.99      0.99      0.99      9000\n",
      "weighted avg       0.99      0.99      0.99      9000\n",
      "\n"
     ]
    }
   ],
   "source": [
    "import pandas as pd\n",
    "import seaborn as sns\n",
    "import matplotlib.pyplot as plt\n",
    "from sklearn.metrics import confusion_matrix, classification_report\n",
    "\n",
    "def print_confusion_matrix(y_true, y_pred, report=True):\n",
    "    labels = sorted(list(set(y_true)))\n",
    "    cmx_data = confusion_matrix(y_true, y_pred, labels=labels)\n",
    "    \n",
    "    df_cmx = pd.DataFrame(cmx_data, index=labels, columns=labels)\n",
    " \n",
    "    fig, ax = plt.subplots(figsize=(7, 6))\n",
    "    sns.heatmap(df_cmx, annot=True, fmt='g' ,square=False)\n",
    "    ax.set_ylim(len(set(y_true)), 0)\n",
    "    plt.show()\n",
    "    \n",
    "    if report:\n",
    "        print('Classification Report')\n",
    "        print(classification_report(y_test, y_pred))\n",
    "\n",
    "Y_pred = model.predict(X_test)\n",
    "y_pred = np.argmax(Y_pred, axis=1)\n",
    "\n",
    "print_confusion_matrix(y_test, y_pred)"
   ]
  },
  {
   "cell_type": "markdown",
   "metadata": {
    "id": "FNP6aqzc9hE5"
   },
   "source": [
    "# Convert to model for Tensorflow-Lite"
   ]
  },
  {
   "cell_type": "code",
   "execution_count": 16,
   "metadata": {
    "id": "ODjnYyld9hE6"
   },
   "outputs": [],
   "source": [
    "# Save as a model dedicated to inference\n",
    "model.save(model_save_path, include_optimizer=False)"
   ]
  },
  {
   "cell_type": "code",
   "execution_count": 17,
   "metadata": {
    "colab": {
     "base_uri": "https://localhost:8080/"
    },
    "id": "zRfuK8Y59hE6",
    "outputId": "a4ca585c-b5d5-4244-8291-8674063209bb"
   },
   "outputs": [
    {
     "name": "stdout",
     "output_type": "stream",
     "text": [
      "INFO:tensorflow:Assets written to: C:\\Users\\mfaja\\AppData\\Local\\Temp\\tmp5u1zatfu\\assets\n"
     ]
    },
    {
     "data": {
      "text/plain": [
       "7424"
      ]
     },
     "execution_count": 17,
     "metadata": {},
     "output_type": "execute_result"
    }
   ],
   "source": [
    "# Transform model (quantization)\n",
    "\n",
    "converter = tf.lite.TFLiteConverter.from_keras_model(model)\n",
    "converter.optimizations = [tf.lite.Optimize.DEFAULT]\n",
    "tflite_quantized_model = converter.convert()\n",
    "\n",
    "open(tflite_save_path, 'wb').write(tflite_quantized_model)"
   ]
  },
  {
   "cell_type": "markdown",
   "metadata": {
    "id": "CHBPBXdx9hE6"
   },
   "source": [
    "# Inference test"
   ]
  },
  {
   "cell_type": "code",
   "execution_count": 18,
   "metadata": {
    "id": "mGAzLocO9hE7"
   },
   "outputs": [],
   "source": [
    "interpreter = tf.lite.Interpreter(model_path=tflite_save_path)\n",
    "interpreter.allocate_tensors()"
   ]
  },
  {
   "cell_type": "code",
   "execution_count": 19,
   "metadata": {
    "id": "oQuDK8YS9hE7"
   },
   "outputs": [],
   "source": [
    "# Get I / O tensor\n",
    "input_details = interpreter.get_input_details()\n",
    "output_details = interpreter.get_output_details()"
   ]
  },
  {
   "cell_type": "code",
   "execution_count": 20,
   "metadata": {
    "id": "2_ixAf_l9hE7"
   },
   "outputs": [],
   "source": [
    "interpreter.set_tensor(input_details[0]['index'], np.array([X_test[0]]))"
   ]
  },
  {
   "cell_type": "code",
   "execution_count": 21,
   "metadata": {
    "colab": {
     "base_uri": "https://localhost:8080/"
    },
    "id": "s4FoAnuc9hE7",
    "outputId": "91f18257-8d8b-4ef3-c558-e9b5f94fabbf",
    "scrolled": true
   },
   "outputs": [
    {
     "name": "stdout",
     "output_type": "stream",
     "text": [
      "CPU times: total: 0 ns\n",
      "Wall time: 997 µs\n"
     ]
    }
   ],
   "source": [
    "%%time\n",
    "# Inference implementation\n",
    "interpreter.invoke()\n",
    "tflite_results = interpreter.get_tensor(output_details[0]['index'])"
   ]
  },
  {
   "cell_type": "code",
   "execution_count": 22,
   "metadata": {
    "colab": {
     "base_uri": "https://localhost:8080/"
    },
    "id": "vONjp19J9hE8",
    "outputId": "77205e24-fd00-42c4-f7b6-e06e527c2cba"
   },
   "outputs": [
    {
     "name": "stdout",
     "output_type": "stream",
     "text": [
      "[1.9645924e-03 3.8664930e-10 1.8406531e-06 6.9876182e-07 2.3567351e-03\n",
      " 3.6315373e-04 7.2588939e-09 2.4950509e-08 3.1659030e-05 8.9968175e-09\n",
      " 9.9512237e-01 1.5948520e-18 2.3767441e-14 6.2248207e-09 3.9339566e-06\n",
      " 1.9006091e-08 6.5213110e-26 2.9918492e-06 0.0000000e+00 4.5662536e-22\n",
      " 2.2844410e-11 7.3779653e-15 9.7651624e-05 5.4399694e-05]\n",
      "10\n"
     ]
    }
   ],
   "source": [
    "print(np.squeeze(tflite_results))\n",
    "print(np.argmax(np.squeeze(tflite_results)))"
   ]
  },
  {
   "cell_type": "code",
   "execution_count": null,
   "metadata": {},
   "outputs": [],
   "source": []
  }
 ],
 "metadata": {
  "accelerator": "GPU",
  "colab": {
   "collapsed_sections": [],
   "name": "keypoint_classification_EN.ipynb",
   "provenance": [],
   "toc_visible": true
  },
  "kernelspec": {
   "display_name": "Python 3 (ipykernel)",
   "language": "python",
   "name": "python3"
  },
  "language_info": {
   "codemirror_mode": {
    "name": "ipython",
    "version": 3
   },
   "file_extension": ".py",
   "mimetype": "text/x-python",
   "name": "python",
   "nbconvert_exporter": "python",
   "pygments_lexer": "ipython3",
   "version": "3.9.12"
  }
 },
 "nbformat": 4,
 "nbformat_minor": 1
}
