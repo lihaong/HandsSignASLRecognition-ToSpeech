{
 "cells": [
  {
   "cell_type": "code",
   "execution_count": 23,
   "metadata": {
    "id": "igMyGnjE9hEp"
   },
   "outputs": [],
   "source": [
    "import csv\n",
    "\n",
    "import numpy as np\n",
    "import tensorflow as tf\n",
    "from sklearn.model_selection import train_test_split\n",
    "\n",
    "RANDOM_SEED = 42"
   ]
  },
  {
   "cell_type": "markdown",
   "metadata": {
    "id": "t2HDvhIu9hEr"
   },
   "source": [
    "# Specify each path"
   ]
  },
  {
   "cell_type": "code",
   "execution_count": 24,
   "metadata": {
    "id": "9NvZP2Zn9hEy"
   },
   "outputs": [],
   "source": [
    "dataset = 'model/keypoint_classifier/keypoint.csv'\n",
    "model_save_path = 'model/keypoint_classifier/keypoint_classifier.hdf5'\n",
    "tflite_save_path = 'model/keypoint_classifier/keypoint_classifier.tflite'"
   ]
  },
  {
   "cell_type": "markdown",
   "metadata": {
    "id": "s5oMH7x19hEz"
   },
   "source": [
    "# Set number of classes"
   ]
  },
  {
   "cell_type": "code",
   "execution_count": 25,
   "metadata": {
    "id": "du4kodXL9hEz"
   },
   "outputs": [],
   "source": [
    "NUM_CLASSES = 10"
   ]
  },
  {
   "cell_type": "markdown",
   "metadata": {
    "id": "XjnL0uso9hEz"
   },
   "source": [
    "# Dataset reading"
   ]
  },
  {
   "cell_type": "code",
   "execution_count": 26,
   "metadata": {
    "id": "QT5ZqtEz9hE0"
   },
   "outputs": [],
   "source": [
    "X_dataset = np.loadtxt(dataset, delimiter=',', dtype='float32', usecols=list(range(1, (21 * 2) + 1)))"
   ]
  },
  {
   "cell_type": "code",
   "execution_count": 27,
   "metadata": {
    "id": "QmoKFsp49hE0"
   },
   "outputs": [],
   "source": [
    "y_dataset = np.loadtxt(dataset, delimiter=',', dtype='int32', usecols=(0))"
   ]
  },
  {
   "cell_type": "code",
   "execution_count": 28,
   "metadata": {
    "id": "xQU7JTZ_9hE0"
   },
   "outputs": [],
   "source": [
    "X_train, X_test, y_train, y_test = train_test_split(X_dataset, y_dataset, train_size=0.75, random_state=RANDOM_SEED)"
   ]
  },
  {
   "cell_type": "markdown",
   "metadata": {
    "id": "mxK_lETT9hE0"
   },
   "source": [
    "# Model building"
   ]
  },
  {
   "cell_type": "code",
   "execution_count": 29,
   "metadata": {
    "id": "vHBmUf1t9hE1"
   },
   "outputs": [],
   "source": [
    "model = tf.keras.models.Sequential([\n",
    "    tf.keras.layers.Input((21 * 2, )),\n",
    "    tf.keras.layers.Dropout(0.2),\n",
    "    tf.keras.layers.Dense(20, activation='relu'),\n",
    "    tf.keras.layers.Dropout(0.4),\n",
    "    tf.keras.layers.Dense(10, activation='relu'),\n",
    "    tf.keras.layers.Dense(NUM_CLASSES, activation='softmax')\n",
    "])"
   ]
  },
  {
   "cell_type": "code",
   "execution_count": 30,
   "metadata": {
    "colab": {
     "base_uri": "https://localhost:8080/"
    },
    "id": "ypqky9tc9hE1",
    "outputId": "5db082bb-30e3-4110-bf63-a1ee777ecd46"
   },
   "outputs": [
    {
     "name": "stdout",
     "output_type": "stream",
     "text": [
      "Model: \"sequential_1\"\n",
      "_________________________________________________________________\n",
      " Layer (type)                Output Shape              Param #   \n",
      "=================================================================\n",
      " dropout_2 (Dropout)         (None, 42)                0         \n",
      "                                                                 \n",
      " dense_3 (Dense)             (None, 20)                860       \n",
      "                                                                 \n",
      " dropout_3 (Dropout)         (None, 20)                0         \n",
      "                                                                 \n",
      " dense_4 (Dense)             (None, 10)                210       \n",
      "                                                                 \n",
      " dense_5 (Dense)             (None, 10)                110       \n",
      "                                                                 \n",
      "=================================================================\n",
      "Total params: 1,180\n",
      "Trainable params: 1,180\n",
      "Non-trainable params: 0\n",
      "_________________________________________________________________\n"
     ]
    }
   ],
   "source": [
    "model.summary()  # tf.keras.utils.plot_model(model, show_shapes=True)"
   ]
  },
  {
   "cell_type": "code",
   "execution_count": 31,
   "metadata": {
    "id": "MbMjOflQ9hE1"
   },
   "outputs": [],
   "source": [
    "# Model checkpoint callback\n",
    "cp_callback = tf.keras.callbacks.ModelCheckpoint(\n",
    "    model_save_path, verbose=1, save_weights_only=False)\n",
    "# Callback for early stopping\n",
    "es_callback = tf.keras.callbacks.EarlyStopping(patience=20, verbose=1)"
   ]
  },
  {
   "cell_type": "code",
   "execution_count": 32,
   "metadata": {
    "id": "c3Dac0M_9hE2"
   },
   "outputs": [],
   "source": [
    "# Model compilation\n",
    "model.compile(\n",
    "    optimizer='adam',\n",
    "    loss='sparse_categorical_crossentropy',\n",
    "    metrics=['accuracy']\n",
    ")"
   ]
  },
  {
   "cell_type": "markdown",
   "metadata": {
    "id": "7XI0j1Iu9hE2"
   },
   "source": [
    "# Model training"
   ]
  },
  {
   "cell_type": "code",
   "execution_count": 33,
   "metadata": {
    "colab": {
     "base_uri": "https://localhost:8080/"
    },
    "id": "WirBl-JE9hE3",
    "outputId": "71b30ca2-8294-4d9d-8aa2-800d90d399de",
    "scrolled": true
   },
   "outputs": [
    {
     "name": "stdout",
     "output_type": "stream",
     "text": [
      "Epoch 1/1000\n",
      "45/60 [=====================>........] - ETA: 0s - loss: 2.2797 - accuracy: 0.1125 \n",
      "Epoch 1: saving model to model/keypoint_classifier\\keypoint_classifier.hdf5\n",
      "60/60 [==============================] - 1s 4ms/step - loss: 2.2522 - accuracy: 0.1240 - val_loss: 2.1042 - val_accuracy: 0.1837\n",
      "Epoch 2/1000\n",
      "47/60 [======================>.......] - ETA: 0s - loss: 2.0753 - accuracy: 0.2078\n",
      "Epoch 2: saving model to model/keypoint_classifier\\keypoint_classifier.hdf5\n",
      "60/60 [==============================] - 0s 2ms/step - loss: 2.0510 - accuracy: 0.2170 - val_loss: 1.8244 - val_accuracy: 0.3717\n",
      "Epoch 3/1000\n",
      "51/60 [========================>.....] - ETA: 0s - loss: 1.8376 - accuracy: 0.2869\n",
      "Epoch 3: saving model to model/keypoint_classifier\\keypoint_classifier.hdf5\n",
      "60/60 [==============================] - 0s 2ms/step - loss: 1.8203 - accuracy: 0.2924 - val_loss: 1.5614 - val_accuracy: 0.5751\n",
      "Epoch 4/1000\n",
      "35/60 [================>.............] - ETA: 0s - loss: 1.6543 - accuracy: 0.3632\n",
      "Epoch 4: saving model to model/keypoint_classifier\\keypoint_classifier.hdf5\n",
      "60/60 [==============================] - 0s 2ms/step - loss: 1.6357 - accuracy: 0.3721 - val_loss: 1.3740 - val_accuracy: 0.6760\n",
      "Epoch 5/1000\n",
      "45/60 [=====================>........] - ETA: 0s - loss: 1.4815 - accuracy: 0.4488\n",
      "Epoch 5: saving model to model/keypoint_classifier\\keypoint_classifier.hdf5\n",
      "60/60 [==============================] - 0s 2ms/step - loss: 1.4678 - accuracy: 0.4576 - val_loss: 1.1827 - val_accuracy: 0.7473\n",
      "Epoch 6/1000\n",
      "40/60 [===================>..........] - ETA: 0s - loss: 1.3612 - accuracy: 0.4955\n",
      "Epoch 6: saving model to model/keypoint_classifier\\keypoint_classifier.hdf5\n",
      "60/60 [==============================] - 0s 2ms/step - loss: 1.3361 - accuracy: 0.5091 - val_loss: 1.0347 - val_accuracy: 0.8490\n",
      "Epoch 7/1000\n",
      "41/60 [===================>..........] - ETA: 0s - loss: 1.2379 - accuracy: 0.5596\n",
      "Epoch 7: saving model to model/keypoint_classifier\\keypoint_classifier.hdf5\n",
      "60/60 [==============================] - 0s 2ms/step - loss: 1.2213 - accuracy: 0.5656 - val_loss: 0.9075 - val_accuracy: 0.8806\n",
      "Epoch 8/1000\n",
      "44/60 [=====================>........] - ETA: 0s - loss: 1.1417 - accuracy: 0.5879\n",
      "Epoch 8: saving model to model/keypoint_classifier\\keypoint_classifier.hdf5\n",
      "60/60 [==============================] - 0s 2ms/step - loss: 1.1401 - accuracy: 0.5895 - val_loss: 0.8000 - val_accuracy: 0.9275\n",
      "Epoch 9/1000\n",
      "46/60 [======================>.......] - ETA: 0s - loss: 1.0791 - accuracy: 0.6206\n",
      "Epoch 9: saving model to model/keypoint_classifier\\keypoint_classifier.hdf5\n",
      "60/60 [==============================] - 0s 2ms/step - loss: 1.0756 - accuracy: 0.6192 - val_loss: 0.7113 - val_accuracy: 0.9176\n",
      "Epoch 10/1000\n",
      "42/60 [====================>.........] - ETA: 0s - loss: 1.0168 - accuracy: 0.6350\n",
      "Epoch 10: saving model to model/keypoint_classifier\\keypoint_classifier.hdf5\n",
      "60/60 [==============================] - 0s 2ms/step - loss: 1.0095 - accuracy: 0.6373 - val_loss: 0.6323 - val_accuracy: 0.9661\n",
      "Epoch 11/1000\n",
      "43/60 [====================>.........] - ETA: 0s - loss: 0.9627 - accuracy: 0.6428\n",
      "Epoch 11: saving model to model/keypoint_classifier\\keypoint_classifier.hdf5\n",
      "60/60 [==============================] - 0s 2ms/step - loss: 0.9593 - accuracy: 0.6432 - val_loss: 0.5687 - val_accuracy: 0.9653\n",
      "Epoch 12/1000\n",
      "48/60 [=======================>......] - ETA: 0s - loss: 0.9239 - accuracy: 0.6724\n",
      "Epoch 12: saving model to model/keypoint_classifier\\keypoint_classifier.hdf5\n",
      "60/60 [==============================] - 0s 2ms/step - loss: 0.9194 - accuracy: 0.6704 - val_loss: 0.5195 - val_accuracy: 0.9756\n",
      "Epoch 13/1000\n",
      "51/60 [========================>.....] - ETA: 0s - loss: 0.8858 - accuracy: 0.6783\n",
      "Epoch 13: saving model to model/keypoint_classifier\\keypoint_classifier.hdf5\n",
      "60/60 [==============================] - 0s 2ms/step - loss: 0.8823 - accuracy: 0.6795 - val_loss: 0.4700 - val_accuracy: 0.9799\n",
      "Epoch 14/1000\n",
      "44/60 [=====================>........] - ETA: 0s - loss: 0.8546 - accuracy: 0.6957\n",
      "Epoch 14: saving model to model/keypoint_classifier\\keypoint_classifier.hdf5\n",
      "60/60 [==============================] - 0s 2ms/step - loss: 0.8512 - accuracy: 0.6942 - val_loss: 0.4355 - val_accuracy: 0.9811\n",
      "Epoch 15/1000\n",
      "50/60 [========================>.....] - ETA: 0s - loss: 0.8166 - accuracy: 0.7063\n",
      "Epoch 15: saving model to model/keypoint_classifier\\keypoint_classifier.hdf5\n",
      "60/60 [==============================] - 0s 2ms/step - loss: 0.8080 - accuracy: 0.7079 - val_loss: 0.3920 - val_accuracy: 0.9854\n",
      "Epoch 16/1000\n",
      "44/60 [=====================>........] - ETA: 0s - loss: 0.7834 - accuracy: 0.7136\n",
      "Epoch 16: saving model to model/keypoint_classifier\\keypoint_classifier.hdf5\n",
      "60/60 [==============================] - 0s 2ms/step - loss: 0.7874 - accuracy: 0.7106 - val_loss: 0.3738 - val_accuracy: 0.9811\n",
      "Epoch 17/1000\n",
      "51/60 [========================>.....] - ETA: 0s - loss: 0.7605 - accuracy: 0.7243\n",
      "Epoch 17: saving model to model/keypoint_classifier\\keypoint_classifier.hdf5\n",
      "60/60 [==============================] - 0s 2ms/step - loss: 0.7647 - accuracy: 0.7209 - val_loss: 0.3478 - val_accuracy: 0.9823\n",
      "Epoch 18/1000\n",
      "49/60 [=======================>......] - ETA: 0s - loss: 0.7409 - accuracy: 0.7301\n",
      "Epoch 18: saving model to model/keypoint_classifier\\keypoint_classifier.hdf5\n",
      "60/60 [==============================] - 0s 2ms/step - loss: 0.7351 - accuracy: 0.7348 - val_loss: 0.3212 - val_accuracy: 0.9831\n",
      "Epoch 19/1000\n",
      "47/60 [======================>.......] - ETA: 0s - loss: 0.7332 - accuracy: 0.7335\n",
      "Epoch 19: saving model to model/keypoint_classifier\\keypoint_classifier.hdf5\n",
      "60/60 [==============================] - 0s 2ms/step - loss: 0.7313 - accuracy: 0.7331 - val_loss: 0.3039 - val_accuracy: 0.9834\n",
      "Epoch 20/1000\n",
      "50/60 [========================>.....] - ETA: 0s - loss: 0.7137 - accuracy: 0.7356\n",
      "Epoch 20: saving model to model/keypoint_classifier\\keypoint_classifier.hdf5\n",
      "60/60 [==============================] - 0s 2ms/step - loss: 0.7079 - accuracy: 0.7420 - val_loss: 0.2840 - val_accuracy: 0.9886\n",
      "Epoch 21/1000\n",
      "51/60 [========================>.....] - ETA: 0s - loss: 0.7002 - accuracy: 0.7417\n",
      "Epoch 21: saving model to model/keypoint_classifier\\keypoint_classifier.hdf5\n",
      "60/60 [==============================] - 0s 2ms/step - loss: 0.6961 - accuracy: 0.7427 - val_loss: 0.2661 - val_accuracy: 0.9811\n",
      "Epoch 22/1000\n",
      "50/60 [========================>.....] - ETA: 0s - loss: 0.6868 - accuracy: 0.7548\n",
      "Epoch 22: saving model to model/keypoint_classifier\\keypoint_classifier.hdf5\n",
      "60/60 [==============================] - 0s 2ms/step - loss: 0.6855 - accuracy: 0.7551 - val_loss: 0.2514 - val_accuracy: 0.9854\n",
      "Epoch 23/1000\n",
      "45/60 [=====================>........] - ETA: 0s - loss: 0.6761 - accuracy: 0.7566\n",
      "Epoch 23: saving model to model/keypoint_classifier\\keypoint_classifier.hdf5\n",
      "60/60 [==============================] - 0s 2ms/step - loss: 0.6717 - accuracy: 0.7560 - val_loss: 0.2517 - val_accuracy: 0.9890\n",
      "Epoch 24/1000\n",
      "49/60 [=======================>......] - ETA: 0s - loss: 0.6599 - accuracy: 0.7578\n",
      "Epoch 24: saving model to model/keypoint_classifier\\keypoint_classifier.hdf5\n",
      "60/60 [==============================] - 0s 2ms/step - loss: 0.6603 - accuracy: 0.7574 - val_loss: 0.2370 - val_accuracy: 0.9957\n",
      "Epoch 25/1000\n",
      "51/60 [========================>.....] - ETA: 0s - loss: 0.6449 - accuracy: 0.7678\n",
      "Epoch 25: saving model to model/keypoint_classifier\\keypoint_classifier.hdf5\n",
      "60/60 [==============================] - 0s 2ms/step - loss: 0.6342 - accuracy: 0.7728 - val_loss: 0.2203 - val_accuracy: 0.9925\n",
      "Epoch 26/1000\n",
      "50/60 [========================>.....] - ETA: 0s - loss: 0.6274 - accuracy: 0.7711\n",
      "Epoch 26: saving model to model/keypoint_classifier\\keypoint_classifier.hdf5\n",
      "60/60 [==============================] - 0s 2ms/step - loss: 0.6271 - accuracy: 0.7732 - val_loss: 0.2259 - val_accuracy: 0.9929\n",
      "Epoch 27/1000\n",
      "48/60 [=======================>......] - ETA: 0s - loss: 0.6311 - accuracy: 0.7778\n",
      "Epoch 27: saving model to model/keypoint_classifier\\keypoint_classifier.hdf5\n",
      "60/60 [==============================] - 0s 2ms/step - loss: 0.6322 - accuracy: 0.7778 - val_loss: 0.2200 - val_accuracy: 0.9917\n",
      "Epoch 28/1000\n"
     ]
    },
    {
     "name": "stdout",
     "output_type": "stream",
     "text": [
      "48/60 [=======================>......] - ETA: 0s - loss: 0.6138 - accuracy: 0.7760\n",
      "Epoch 28: saving model to model/keypoint_classifier\\keypoint_classifier.hdf5\n",
      "60/60 [==============================] - 0s 2ms/step - loss: 0.6109 - accuracy: 0.7781 - val_loss: 0.2089 - val_accuracy: 0.9890\n",
      "Epoch 29/1000\n",
      "48/60 [=======================>......] - ETA: 0s - loss: 0.5790 - accuracy: 0.7949\n",
      "Epoch 29: saving model to model/keypoint_classifier\\keypoint_classifier.hdf5\n",
      "60/60 [==============================] - 0s 2ms/step - loss: 0.5934 - accuracy: 0.7887 - val_loss: 0.1965 - val_accuracy: 0.9921\n",
      "Epoch 30/1000\n",
      "52/60 [=========================>....] - ETA: 0s - loss: 0.5860 - accuracy: 0.7895\n",
      "Epoch 30: saving model to model/keypoint_classifier\\keypoint_classifier.hdf5\n",
      "60/60 [==============================] - 0s 2ms/step - loss: 0.5832 - accuracy: 0.7896 - val_loss: 0.1885 - val_accuracy: 0.9921\n",
      "Epoch 31/1000\n",
      "52/60 [=========================>....] - ETA: 0s - loss: 0.5824 - accuracy: 0.7963\n",
      "Epoch 31: saving model to model/keypoint_classifier\\keypoint_classifier.hdf5\n",
      "60/60 [==============================] - 0s 2ms/step - loss: 0.5806 - accuracy: 0.7974 - val_loss: 0.1859 - val_accuracy: 0.9901\n",
      "Epoch 32/1000\n",
      "52/60 [=========================>....] - ETA: 0s - loss: 0.5856 - accuracy: 0.7888\n",
      "Epoch 32: saving model to model/keypoint_classifier\\keypoint_classifier.hdf5\n",
      "60/60 [==============================] - 0s 2ms/step - loss: 0.5792 - accuracy: 0.7924 - val_loss: 0.1907 - val_accuracy: 0.9901\n",
      "Epoch 33/1000\n",
      "51/60 [========================>.....] - ETA: 0s - loss: 0.5586 - accuracy: 0.8074\n",
      "Epoch 33: saving model to model/keypoint_classifier\\keypoint_classifier.hdf5\n",
      "60/60 [==============================] - 0s 2ms/step - loss: 0.5603 - accuracy: 0.8057 - val_loss: 0.1706 - val_accuracy: 0.9898\n",
      "Epoch 34/1000\n",
      "40/60 [===================>..........] - ETA: 0s - loss: 0.5682 - accuracy: 0.8033\n",
      "Epoch 34: saving model to model/keypoint_classifier\\keypoint_classifier.hdf5\n",
      "60/60 [==============================] - 0s 2ms/step - loss: 0.5656 - accuracy: 0.8049 - val_loss: 0.1682 - val_accuracy: 0.9913\n",
      "Epoch 35/1000\n",
      "43/60 [====================>.........] - ETA: 0s - loss: 0.5666 - accuracy: 0.7947\n",
      "Epoch 35: saving model to model/keypoint_classifier\\keypoint_classifier.hdf5\n",
      "60/60 [==============================] - 0s 2ms/step - loss: 0.5650 - accuracy: 0.7954 - val_loss: 0.1612 - val_accuracy: 0.9917\n",
      "Epoch 36/1000\n",
      "43/60 [====================>.........] - ETA: 0s - loss: 0.5509 - accuracy: 0.8000\n",
      "Epoch 36: saving model to model/keypoint_classifier\\keypoint_classifier.hdf5\n",
      "60/60 [==============================] - 0s 2ms/step - loss: 0.5498 - accuracy: 0.8018 - val_loss: 0.1632 - val_accuracy: 0.9917\n",
      "Epoch 37/1000\n",
      "48/60 [=======================>......] - ETA: 0s - loss: 0.5503 - accuracy: 0.8083\n",
      "Epoch 37: saving model to model/keypoint_classifier\\keypoint_classifier.hdf5\n",
      "60/60 [==============================] - 0s 2ms/step - loss: 0.5559 - accuracy: 0.8070 - val_loss: 0.1604 - val_accuracy: 0.9925\n",
      "Epoch 38/1000\n",
      "50/60 [========================>.....] - ETA: 0s - loss: 0.5383 - accuracy: 0.8130\n",
      "Epoch 38: saving model to model/keypoint_classifier\\keypoint_classifier.hdf5\n",
      "60/60 [==============================] - 0s 2ms/step - loss: 0.5422 - accuracy: 0.8122 - val_loss: 0.1525 - val_accuracy: 0.9925\n",
      "Epoch 39/1000\n",
      "51/60 [========================>.....] - ETA: 0s - loss: 0.5430 - accuracy: 0.8081\n",
      "Epoch 39: saving model to model/keypoint_classifier\\keypoint_classifier.hdf5\n",
      "60/60 [==============================] - 0s 2ms/step - loss: 0.5428 - accuracy: 0.8096 - val_loss: 0.1459 - val_accuracy: 0.9921\n",
      "Epoch 40/1000\n",
      "46/60 [======================>.......] - ETA: 0s - loss: 0.5158 - accuracy: 0.8173\n",
      "Epoch 40: saving model to model/keypoint_classifier\\keypoint_classifier.hdf5\n",
      "60/60 [==============================] - 0s 2ms/step - loss: 0.5167 - accuracy: 0.8160 - val_loss: 0.1511 - val_accuracy: 0.9882\n",
      "Epoch 41/1000\n",
      "49/60 [=======================>......] - ETA: 0s - loss: 0.5155 - accuracy: 0.8238\n",
      "Epoch 41: saving model to model/keypoint_classifier\\keypoint_classifier.hdf5\n",
      "60/60 [==============================] - 0s 2ms/step - loss: 0.5220 - accuracy: 0.8213 - val_loss: 0.1390 - val_accuracy: 0.9921\n",
      "Epoch 42/1000\n",
      "49/60 [=======================>......] - ETA: 0s - loss: 0.5153 - accuracy: 0.8213\n",
      "Epoch 42: saving model to model/keypoint_classifier\\keypoint_classifier.hdf5\n",
      "60/60 [==============================] - 0s 2ms/step - loss: 0.5118 - accuracy: 0.8214 - val_loss: 0.1401 - val_accuracy: 0.9921\n",
      "Epoch 43/1000\n",
      "49/60 [=======================>......] - ETA: 0s - loss: 0.5232 - accuracy: 0.8174\n",
      "Epoch 43: saving model to model/keypoint_classifier\\keypoint_classifier.hdf5\n",
      "60/60 [==============================] - 0s 2ms/step - loss: 0.5158 - accuracy: 0.8218 - val_loss: 0.1407 - val_accuracy: 0.9921\n",
      "Epoch 44/1000\n",
      "46/60 [======================>.......] - ETA: 0s - loss: 0.5166 - accuracy: 0.8225\n",
      "Epoch 44: saving model to model/keypoint_classifier\\keypoint_classifier.hdf5\n",
      "60/60 [==============================] - 0s 2ms/step - loss: 0.5115 - accuracy: 0.8231 - val_loss: 0.1321 - val_accuracy: 0.9925\n",
      "Epoch 45/1000\n",
      "47/60 [======================>.......] - ETA: 0s - loss: 0.5155 - accuracy: 0.8185\n",
      "Epoch 45: saving model to model/keypoint_classifier\\keypoint_classifier.hdf5\n",
      "60/60 [==============================] - 0s 2ms/step - loss: 0.5149 - accuracy: 0.8188 - val_loss: 0.1349 - val_accuracy: 0.9925\n",
      "Epoch 46/1000\n",
      "49/60 [=======================>......] - ETA: 0s - loss: 0.5108 - accuracy: 0.8249\n",
      "Epoch 46: saving model to model/keypoint_classifier\\keypoint_classifier.hdf5\n",
      "60/60 [==============================] - 0s 2ms/step - loss: 0.5039 - accuracy: 0.8267 - val_loss: 0.1307 - val_accuracy: 0.9901\n",
      "Epoch 47/1000\n",
      "47/60 [======================>.......] - ETA: 0s - loss: 0.4983 - accuracy: 0.8278\n",
      "Epoch 47: saving model to model/keypoint_classifier\\keypoint_classifier.hdf5\n",
      "60/60 [==============================] - 0s 2ms/step - loss: 0.5034 - accuracy: 0.8250 - val_loss: 0.1267 - val_accuracy: 0.9945\n",
      "Epoch 48/1000\n",
      "48/60 [=======================>......] - ETA: 0s - loss: 0.5042 - accuracy: 0.8247\n",
      "Epoch 48: saving model to model/keypoint_classifier\\keypoint_classifier.hdf5\n",
      "60/60 [==============================] - 0s 2ms/step - loss: 0.5007 - accuracy: 0.8250 - val_loss: 0.1238 - val_accuracy: 0.9945\n",
      "Epoch 49/1000\n",
      "49/60 [=======================>......] - ETA: 0s - loss: 0.4808 - accuracy: 0.8355\n",
      "Epoch 49: saving model to model/keypoint_classifier\\keypoint_classifier.hdf5\n",
      "60/60 [==============================] - 0s 2ms/step - loss: 0.4889 - accuracy: 0.8296 - val_loss: 0.1119 - val_accuracy: 0.9937\n",
      "Epoch 50/1000\n",
      "50/60 [========================>.....] - ETA: 0s - loss: 0.4925 - accuracy: 0.8234\n",
      "Epoch 50: saving model to model/keypoint_classifier\\keypoint_classifier.hdf5\n",
      "60/60 [==============================] - 0s 2ms/step - loss: 0.4956 - accuracy: 0.8238 - val_loss: 0.1246 - val_accuracy: 0.9933\n",
      "Epoch 51/1000\n",
      "48/60 [=======================>......] - ETA: 0s - loss: 0.4865 - accuracy: 0.8340\n",
      "Epoch 51: saving model to model/keypoint_classifier\\keypoint_classifier.hdf5\n",
      "60/60 [==============================] - 0s 2ms/step - loss: 0.4868 - accuracy: 0.8306 - val_loss: 0.1194 - val_accuracy: 0.9933\n",
      "Epoch 52/1000\n",
      "47/60 [======================>.......] - ETA: 0s - loss: 0.4837 - accuracy: 0.8310\n",
      "Epoch 52: saving model to model/keypoint_classifier\\keypoint_classifier.hdf5\n",
      "60/60 [==============================] - 0s 2ms/step - loss: 0.4816 - accuracy: 0.8329 - val_loss: 0.1145 - val_accuracy: 0.9937\n",
      "Epoch 53/1000\n",
      "46/60 [======================>.......] - ETA: 0s - loss: 0.4650 - accuracy: 0.8390\n",
      "Epoch 53: saving model to model/keypoint_classifier\\keypoint_classifier.hdf5\n",
      "60/60 [==============================] - 0s 2ms/step - loss: 0.4679 - accuracy: 0.8367 - val_loss: 0.1146 - val_accuracy: 0.9929\n",
      "Epoch 54/1000\n",
      "48/60 [=======================>......] - ETA: 0s - loss: 0.4560 - accuracy: 0.8438\n",
      "Epoch 54: saving model to model/keypoint_classifier\\keypoint_classifier.hdf5\n",
      "60/60 [==============================] - 0s 2ms/step - loss: 0.4601 - accuracy: 0.8420 - val_loss: 0.1096 - val_accuracy: 0.9933\n",
      "Epoch 55/1000\n"
     ]
    },
    {
     "name": "stdout",
     "output_type": "stream",
     "text": [
      "49/60 [=======================>......] - ETA: 0s - loss: 0.4848 - accuracy: 0.8283\n",
      "Epoch 55: saving model to model/keypoint_classifier\\keypoint_classifier.hdf5\n",
      "60/60 [==============================] - 0s 2ms/step - loss: 0.4771 - accuracy: 0.8318 - val_loss: 0.1044 - val_accuracy: 0.9941\n",
      "Epoch 56/1000\n",
      "51/60 [========================>.....] - ETA: 0s - loss: 0.4749 - accuracy: 0.8376\n",
      "Epoch 56: saving model to model/keypoint_classifier\\keypoint_classifier.hdf5\n",
      "60/60 [==============================] - 0s 2ms/step - loss: 0.4773 - accuracy: 0.8363 - val_loss: 0.1050 - val_accuracy: 0.9937\n",
      "Epoch 57/1000\n",
      "49/60 [=======================>......] - ETA: 0s - loss: 0.4678 - accuracy: 0.8386\n",
      "Epoch 57: saving model to model/keypoint_classifier\\keypoint_classifier.hdf5\n",
      "60/60 [==============================] - 0s 2ms/step - loss: 0.4676 - accuracy: 0.8390 - val_loss: 0.1013 - val_accuracy: 0.9933\n",
      "Epoch 58/1000\n",
      "50/60 [========================>.....] - ETA: 0s - loss: 0.4788 - accuracy: 0.8317\n",
      "Epoch 58: saving model to model/keypoint_classifier\\keypoint_classifier.hdf5\n",
      "60/60 [==============================] - 0s 2ms/step - loss: 0.4753 - accuracy: 0.8334 - val_loss: 0.0987 - val_accuracy: 0.9949\n",
      "Epoch 59/1000\n",
      "48/60 [=======================>......] - ETA: 0s - loss: 0.4628 - accuracy: 0.8418\n",
      "Epoch 59: saving model to model/keypoint_classifier\\keypoint_classifier.hdf5\n",
      "60/60 [==============================] - 0s 2ms/step - loss: 0.4640 - accuracy: 0.8418 - val_loss: 0.0998 - val_accuracy: 0.9945\n",
      "Epoch 60/1000\n",
      "50/60 [========================>.....] - ETA: 0s - loss: 0.4700 - accuracy: 0.8367\n",
      "Epoch 60: saving model to model/keypoint_classifier\\keypoint_classifier.hdf5\n",
      "60/60 [==============================] - 0s 2ms/step - loss: 0.4670 - accuracy: 0.8381 - val_loss: 0.1015 - val_accuracy: 0.9953\n",
      "Epoch 61/1000\n",
      "49/60 [=======================>......] - ETA: 0s - loss: 0.4600 - accuracy: 0.8385\n",
      "Epoch 61: saving model to model/keypoint_classifier\\keypoint_classifier.hdf5\n",
      "60/60 [==============================] - 0s 2ms/step - loss: 0.4586 - accuracy: 0.8401 - val_loss: 0.1035 - val_accuracy: 0.9949\n",
      "Epoch 62/1000\n",
      "47/60 [======================>.......] - ETA: 0s - loss: 0.4373 - accuracy: 0.8511\n",
      "Epoch 62: saving model to model/keypoint_classifier\\keypoint_classifier.hdf5\n",
      "60/60 [==============================] - 0s 2ms/step - loss: 0.4389 - accuracy: 0.8499 - val_loss: 0.0894 - val_accuracy: 0.9957\n",
      "Epoch 63/1000\n",
      "49/60 [=======================>......] - ETA: 0s - loss: 0.4616 - accuracy: 0.8348\n",
      "Epoch 63: saving model to model/keypoint_classifier\\keypoint_classifier.hdf5\n",
      "60/60 [==============================] - 0s 2ms/step - loss: 0.4550 - accuracy: 0.8382 - val_loss: 0.0933 - val_accuracy: 0.9953\n",
      "Epoch 64/1000\n",
      "49/60 [=======================>......] - ETA: 0s - loss: 0.4561 - accuracy: 0.8450\n",
      "Epoch 64: saving model to model/keypoint_classifier\\keypoint_classifier.hdf5\n",
      "60/60 [==============================] - 0s 2ms/step - loss: 0.4493 - accuracy: 0.8477 - val_loss: 0.0952 - val_accuracy: 0.9953\n",
      "Epoch 65/1000\n",
      "49/60 [=======================>......] - ETA: 0s - loss: 0.4357 - accuracy: 0.8501\n",
      "Epoch 65: saving model to model/keypoint_classifier\\keypoint_classifier.hdf5\n",
      "60/60 [==============================] - 0s 2ms/step - loss: 0.4405 - accuracy: 0.8481 - val_loss: 0.0870 - val_accuracy: 0.9953\n",
      "Epoch 66/1000\n",
      "49/60 [=======================>......] - ETA: 0s - loss: 0.4432 - accuracy: 0.8492\n",
      "Epoch 66: saving model to model/keypoint_classifier\\keypoint_classifier.hdf5\n",
      "60/60 [==============================] - 0s 2ms/step - loss: 0.4491 - accuracy: 0.8493 - val_loss: 0.0914 - val_accuracy: 0.9953\n",
      "Epoch 67/1000\n",
      "48/60 [=======================>......] - ETA: 0s - loss: 0.4523 - accuracy: 0.8442\n",
      "Epoch 67: saving model to model/keypoint_classifier\\keypoint_classifier.hdf5\n",
      "60/60 [==============================] - 0s 2ms/step - loss: 0.4458 - accuracy: 0.8457 - val_loss: 0.0912 - val_accuracy: 0.9953\n",
      "Epoch 68/1000\n",
      "51/60 [========================>.....] - ETA: 0s - loss: 0.4212 - accuracy: 0.8583\n",
      "Epoch 68: saving model to model/keypoint_classifier\\keypoint_classifier.hdf5\n",
      "60/60 [==============================] - 0s 2ms/step - loss: 0.4250 - accuracy: 0.8548 - val_loss: 0.0858 - val_accuracy: 0.9953\n",
      "Epoch 69/1000\n",
      "48/60 [=======================>......] - ETA: 0s - loss: 0.4460 - accuracy: 0.8472\n",
      "Epoch 69: saving model to model/keypoint_classifier\\keypoint_classifier.hdf5\n",
      "60/60 [==============================] - 0s 2ms/step - loss: 0.4481 - accuracy: 0.8455 - val_loss: 0.0868 - val_accuracy: 0.9953\n",
      "Epoch 70/1000\n",
      "51/60 [========================>.....] - ETA: 0s - loss: 0.4388 - accuracy: 0.8482\n",
      "Epoch 70: saving model to model/keypoint_classifier\\keypoint_classifier.hdf5\n",
      "60/60 [==============================] - 0s 2ms/step - loss: 0.4397 - accuracy: 0.8501 - val_loss: 0.0828 - val_accuracy: 0.9953\n",
      "Epoch 71/1000\n",
      "50/60 [========================>.....] - ETA: 0s - loss: 0.4311 - accuracy: 0.8527\n",
      "Epoch 71: saving model to model/keypoint_classifier\\keypoint_classifier.hdf5\n",
      "60/60 [==============================] - 0s 2ms/step - loss: 0.4321 - accuracy: 0.8519 - val_loss: 0.0843 - val_accuracy: 0.9957\n",
      "Epoch 72/1000\n",
      "49/60 [=======================>......] - ETA: 0s - loss: 0.4459 - accuracy: 0.8428\n",
      "Epoch 72: saving model to model/keypoint_classifier\\keypoint_classifier.hdf5\n",
      "60/60 [==============================] - 0s 2ms/step - loss: 0.4371 - accuracy: 0.8474 - val_loss: 0.0884 - val_accuracy: 0.9949\n",
      "Epoch 73/1000\n",
      "49/60 [=======================>......] - ETA: 0s - loss: 0.4312 - accuracy: 0.8528\n",
      "Epoch 73: saving model to model/keypoint_classifier\\keypoint_classifier.hdf5\n",
      "60/60 [==============================] - 0s 2ms/step - loss: 0.4278 - accuracy: 0.8539 - val_loss: 0.0771 - val_accuracy: 0.9953\n",
      "Epoch 74/1000\n",
      "50/60 [========================>.....] - ETA: 0s - loss: 0.4183 - accuracy: 0.8589\n",
      "Epoch 74: saving model to model/keypoint_classifier\\keypoint_classifier.hdf5\n",
      "60/60 [==============================] - 0s 2ms/step - loss: 0.4172 - accuracy: 0.8585 - val_loss: 0.0798 - val_accuracy: 0.9957\n",
      "Epoch 75/1000\n",
      "44/60 [=====================>........] - ETA: 0s - loss: 0.4339 - accuracy: 0.8535\n",
      "Epoch 75: saving model to model/keypoint_classifier\\keypoint_classifier.hdf5\n",
      "60/60 [==============================] - 0s 2ms/step - loss: 0.4289 - accuracy: 0.8523 - val_loss: 0.0800 - val_accuracy: 0.9968\n",
      "Epoch 76/1000\n",
      "48/60 [=======================>......] - ETA: 0s - loss: 0.4301 - accuracy: 0.8511\n",
      "Epoch 76: saving model to model/keypoint_classifier\\keypoint_classifier.hdf5\n",
      "60/60 [==============================] - 0s 2ms/step - loss: 0.4319 - accuracy: 0.8503 - val_loss: 0.0834 - val_accuracy: 0.9957\n",
      "Epoch 77/1000\n",
      "47/60 [======================>.......] - ETA: 0s - loss: 0.4250 - accuracy: 0.8619\n",
      "Epoch 77: saving model to model/keypoint_classifier\\keypoint_classifier.hdf5\n",
      "60/60 [==============================] - 0s 2ms/step - loss: 0.4301 - accuracy: 0.8583 - val_loss: 0.0818 - val_accuracy: 0.9953\n",
      "Epoch 78/1000\n",
      "50/60 [========================>.....] - ETA: 0s - loss: 0.4192 - accuracy: 0.8525\n",
      "Epoch 78: saving model to model/keypoint_classifier\\keypoint_classifier.hdf5\n",
      "60/60 [==============================] - 0s 2ms/step - loss: 0.4212 - accuracy: 0.8532 - val_loss: 0.0737 - val_accuracy: 0.9965\n",
      "Epoch 79/1000\n",
      "49/60 [=======================>......] - ETA: 0s - loss: 0.4158 - accuracy: 0.8605\n",
      "Epoch 79: saving model to model/keypoint_classifier\\keypoint_classifier.hdf5\n",
      "60/60 [==============================] - 0s 2ms/step - loss: 0.4226 - accuracy: 0.8574 - val_loss: 0.0788 - val_accuracy: 0.9961\n",
      "Epoch 80/1000\n",
      "48/60 [=======================>......] - ETA: 0s - loss: 0.4339 - accuracy: 0.8507\n",
      "Epoch 80: saving model to model/keypoint_classifier\\keypoint_classifier.hdf5\n",
      "60/60 [==============================] - 0s 2ms/step - loss: 0.4311 - accuracy: 0.8526 - val_loss: 0.0780 - val_accuracy: 0.9957\n",
      "Epoch 81/1000\n",
      "51/60 [========================>.....] - ETA: 0s - loss: 0.4153 - accuracy: 0.8569\n",
      "Epoch 81: saving model to model/keypoint_classifier\\keypoint_classifier.hdf5\n",
      "60/60 [==============================] - 0s 2ms/step - loss: 0.4118 - accuracy: 0.8578 - val_loss: 0.0723 - val_accuracy: 0.9953\n",
      "Epoch 82/1000\n"
     ]
    },
    {
     "name": "stdout",
     "output_type": "stream",
     "text": [
      "48/60 [=======================>......] - ETA: 0s - loss: 0.4199 - accuracy: 0.8555\n",
      "Epoch 82: saving model to model/keypoint_classifier\\keypoint_classifier.hdf5\n",
      "60/60 [==============================] - 0s 2ms/step - loss: 0.4155 - accuracy: 0.8578 - val_loss: 0.0742 - val_accuracy: 0.9953\n",
      "Epoch 83/1000\n",
      "43/60 [====================>.........] - ETA: 0s - loss: 0.3997 - accuracy: 0.8601\n",
      "Epoch 83: saving model to model/keypoint_classifier\\keypoint_classifier.hdf5\n",
      "60/60 [==============================] - 0s 2ms/step - loss: 0.3971 - accuracy: 0.8624 - val_loss: 0.0732 - val_accuracy: 0.9957\n",
      "Epoch 84/1000\n",
      "44/60 [=====================>........] - ETA: 0s - loss: 0.4117 - accuracy: 0.8596\n",
      "Epoch 84: saving model to model/keypoint_classifier\\keypoint_classifier.hdf5\n",
      "60/60 [==============================] - 0s 2ms/step - loss: 0.4188 - accuracy: 0.8573 - val_loss: 0.0682 - val_accuracy: 0.9965\n",
      "Epoch 85/1000\n",
      "47/60 [======================>.......] - ETA: 0s - loss: 0.4146 - accuracy: 0.8564\n",
      "Epoch 85: saving model to model/keypoint_classifier\\keypoint_classifier.hdf5\n",
      "60/60 [==============================] - 0s 2ms/step - loss: 0.4096 - accuracy: 0.8576 - val_loss: 0.0694 - val_accuracy: 0.9953\n",
      "Epoch 86/1000\n",
      "46/60 [======================>.......] - ETA: 0s - loss: 0.4149 - accuracy: 0.8580\n",
      "Epoch 86: saving model to model/keypoint_classifier\\keypoint_classifier.hdf5\n",
      "60/60 [==============================] - 0s 2ms/step - loss: 0.4170 - accuracy: 0.8557 - val_loss: 0.0742 - val_accuracy: 0.9953\n",
      "Epoch 87/1000\n",
      "49/60 [=======================>......] - ETA: 0s - loss: 0.4019 - accuracy: 0.8694\n",
      "Epoch 87: saving model to model/keypoint_classifier\\keypoint_classifier.hdf5\n",
      "60/60 [==============================] - 0s 2ms/step - loss: 0.4017 - accuracy: 0.8682 - val_loss: 0.0815 - val_accuracy: 0.9965\n",
      "Epoch 88/1000\n",
      "39/60 [==================>...........] - ETA: 0s - loss: 0.3997 - accuracy: 0.8670\n",
      "Epoch 88: saving model to model/keypoint_classifier\\keypoint_classifier.hdf5\n",
      "60/60 [==============================] - 0s 2ms/step - loss: 0.4063 - accuracy: 0.8636 - val_loss: 0.0721 - val_accuracy: 0.9965\n",
      "Epoch 89/1000\n",
      "43/60 [====================>.........] - ETA: 0s - loss: 0.4006 - accuracy: 0.8654\n",
      "Epoch 89: saving model to model/keypoint_classifier\\keypoint_classifier.hdf5\n",
      "60/60 [==============================] - 0s 2ms/step - loss: 0.4097 - accuracy: 0.8639 - val_loss: 0.0709 - val_accuracy: 0.9957\n",
      "Epoch 90/1000\n",
      "46/60 [======================>.......] - ETA: 0s - loss: 0.3721 - accuracy: 0.8731\n",
      "Epoch 90: saving model to model/keypoint_classifier\\keypoint_classifier.hdf5\n",
      "60/60 [==============================] - 0s 2ms/step - loss: 0.3837 - accuracy: 0.8683 - val_loss: 0.0730 - val_accuracy: 0.9961\n",
      "Epoch 91/1000\n",
      "50/60 [========================>.....] - ETA: 0s - loss: 0.3849 - accuracy: 0.8687\n",
      "Epoch 91: saving model to model/keypoint_classifier\\keypoint_classifier.hdf5\n",
      "60/60 [==============================] - 0s 2ms/step - loss: 0.3853 - accuracy: 0.8677 - val_loss: 0.0671 - val_accuracy: 0.9965\n",
      "Epoch 92/1000\n",
      "40/60 [===================>..........] - ETA: 0s - loss: 0.3931 - accuracy: 0.8711\n",
      "Epoch 92: saving model to model/keypoint_classifier\\keypoint_classifier.hdf5\n",
      "60/60 [==============================] - 0s 2ms/step - loss: 0.3967 - accuracy: 0.8694 - val_loss: 0.0635 - val_accuracy: 0.9965\n",
      "Epoch 93/1000\n",
      "47/60 [======================>.......] - ETA: 0s - loss: 0.3767 - accuracy: 0.8743\n",
      "Epoch 93: saving model to model/keypoint_classifier\\keypoint_classifier.hdf5\n",
      "60/60 [==============================] - 0s 2ms/step - loss: 0.3785 - accuracy: 0.8711 - val_loss: 0.0787 - val_accuracy: 0.9957\n",
      "Epoch 94/1000\n",
      "50/60 [========================>.....] - ETA: 0s - loss: 0.3987 - accuracy: 0.8672\n",
      "Epoch 94: saving model to model/keypoint_classifier\\keypoint_classifier.hdf5\n",
      "60/60 [==============================] - 0s 2ms/step - loss: 0.3946 - accuracy: 0.8694 - val_loss: 0.0704 - val_accuracy: 0.9957\n",
      "Epoch 95/1000\n",
      "50/60 [========================>.....] - ETA: 0s - loss: 0.3930 - accuracy: 0.8662\n",
      "Epoch 95: saving model to model/keypoint_classifier\\keypoint_classifier.hdf5\n",
      "60/60 [==============================] - 0s 2ms/step - loss: 0.3914 - accuracy: 0.8671 - val_loss: 0.0695 - val_accuracy: 0.9965\n",
      "Epoch 96/1000\n",
      "45/60 [=====================>........] - ETA: 0s - loss: 0.3809 - accuracy: 0.8703\n",
      "Epoch 96: saving model to model/keypoint_classifier\\keypoint_classifier.hdf5\n",
      "60/60 [==============================] - 0s 2ms/step - loss: 0.3820 - accuracy: 0.8668 - val_loss: 0.0664 - val_accuracy: 0.9965\n",
      "Epoch 97/1000\n",
      "46/60 [======================>.......] - ETA: 0s - loss: 0.3889 - accuracy: 0.8692\n",
      "Epoch 97: saving model to model/keypoint_classifier\\keypoint_classifier.hdf5\n",
      "60/60 [==============================] - 0s 2ms/step - loss: 0.3823 - accuracy: 0.8708 - val_loss: 0.0647 - val_accuracy: 0.9965\n",
      "Epoch 98/1000\n",
      "49/60 [=======================>......] - ETA: 0s - loss: 0.3905 - accuracy: 0.8681\n",
      "Epoch 98: saving model to model/keypoint_classifier\\keypoint_classifier.hdf5\n",
      "60/60 [==============================] - 0s 2ms/step - loss: 0.3944 - accuracy: 0.8685 - val_loss: 0.0587 - val_accuracy: 0.9965\n",
      "Epoch 99/1000\n",
      "46/60 [======================>.......] - ETA: 0s - loss: 0.3783 - accuracy: 0.8697\n",
      "Epoch 99: saving model to model/keypoint_classifier\\keypoint_classifier.hdf5\n",
      "60/60 [==============================] - 0s 2ms/step - loss: 0.3759 - accuracy: 0.8699 - val_loss: 0.0587 - val_accuracy: 0.9965\n",
      "Epoch 100/1000\n",
      "49/60 [=======================>......] - ETA: 0s - loss: 0.3784 - accuracy: 0.8731\n",
      "Epoch 100: saving model to model/keypoint_classifier\\keypoint_classifier.hdf5\n",
      "60/60 [==============================] - 0s 2ms/step - loss: 0.3788 - accuracy: 0.8733 - val_loss: 0.0674 - val_accuracy: 0.9965\n",
      "Epoch 101/1000\n",
      "45/60 [=====================>........] - ETA: 0s - loss: 0.3763 - accuracy: 0.8733\n",
      "Epoch 101: saving model to model/keypoint_classifier\\keypoint_classifier.hdf5\n",
      "60/60 [==============================] - 0s 2ms/step - loss: 0.3871 - accuracy: 0.8660 - val_loss: 0.0597 - val_accuracy: 0.9980\n",
      "Epoch 102/1000\n",
      "47/60 [======================>.......] - ETA: 0s - loss: 0.3832 - accuracy: 0.8703\n",
      "Epoch 102: saving model to model/keypoint_classifier\\keypoint_classifier.hdf5\n",
      "60/60 [==============================] - 0s 2ms/step - loss: 0.3850 - accuracy: 0.8693 - val_loss: 0.0586 - val_accuracy: 0.9996\n",
      "Epoch 103/1000\n",
      "42/60 [====================>.........] - ETA: 0s - loss: 0.3763 - accuracy: 0.8737\n",
      "Epoch 103: saving model to model/keypoint_classifier\\keypoint_classifier.hdf5\n",
      "60/60 [==============================] - 0s 2ms/step - loss: 0.3759 - accuracy: 0.8740 - val_loss: 0.0583 - val_accuracy: 0.9965\n",
      "Epoch 104/1000\n",
      "51/60 [========================>.....] - ETA: 0s - loss: 0.3754 - accuracy: 0.8721\n",
      "Epoch 104: saving model to model/keypoint_classifier\\keypoint_classifier.hdf5\n",
      "60/60 [==============================] - 0s 2ms/step - loss: 0.3812 - accuracy: 0.8710 - val_loss: 0.0648 - val_accuracy: 0.9961\n",
      "Epoch 105/1000\n",
      "50/60 [========================>.....] - ETA: 0s - loss: 0.3987 - accuracy: 0.8686\n",
      "Epoch 105: saving model to model/keypoint_classifier\\keypoint_classifier.hdf5\n",
      "60/60 [==============================] - 0s 2ms/step - loss: 0.3900 - accuracy: 0.8704 - val_loss: 0.0678 - val_accuracy: 0.9965\n",
      "Epoch 106/1000\n",
      "49/60 [=======================>......] - ETA: 0s - loss: 0.3842 - accuracy: 0.8702\n",
      "Epoch 106: saving model to model/keypoint_classifier\\keypoint_classifier.hdf5\n",
      "60/60 [==============================] - 0s 2ms/step - loss: 0.3825 - accuracy: 0.8710 - val_loss: 0.0684 - val_accuracy: 0.9965\n",
      "Epoch 107/1000\n",
      "49/60 [=======================>......] - ETA: 0s - loss: 0.3837 - accuracy: 0.8755\n",
      "Epoch 107: saving model to model/keypoint_classifier\\keypoint_classifier.hdf5\n",
      "60/60 [==============================] - 0s 2ms/step - loss: 0.3794 - accuracy: 0.8766 - val_loss: 0.0571 - val_accuracy: 0.9965\n",
      "Epoch 108/1000\n",
      "50/60 [========================>.....] - ETA: 0s - loss: 0.3744 - accuracy: 0.8736\n",
      "Epoch 108: saving model to model/keypoint_classifier\\keypoint_classifier.hdf5\n",
      "60/60 [==============================] - 0s 2ms/step - loss: 0.3706 - accuracy: 0.8735 - val_loss: 0.0565 - val_accuracy: 0.9965\n",
      "Epoch 109/1000\n"
     ]
    },
    {
     "name": "stdout",
     "output_type": "stream",
     "text": [
      "44/60 [=====================>........] - ETA: 0s - loss: 0.3860 - accuracy: 0.8683\n",
      "Epoch 109: saving model to model/keypoint_classifier\\keypoint_classifier.hdf5\n",
      "60/60 [==============================] - 0s 2ms/step - loss: 0.3862 - accuracy: 0.8678 - val_loss: 0.0594 - val_accuracy: 0.9965\n",
      "Epoch 110/1000\n",
      "47/60 [======================>.......] - ETA: 0s - loss: 0.3509 - accuracy: 0.8833\n",
      "Epoch 110: saving model to model/keypoint_classifier\\keypoint_classifier.hdf5\n",
      "60/60 [==============================] - 0s 2ms/step - loss: 0.3570 - accuracy: 0.8806 - val_loss: 0.0582 - val_accuracy: 0.9980\n",
      "Epoch 111/1000\n",
      "46/60 [======================>.......] - ETA: 0s - loss: 0.3708 - accuracy: 0.8760\n",
      "Epoch 111: saving model to model/keypoint_classifier\\keypoint_classifier.hdf5\n",
      "60/60 [==============================] - 0s 2ms/step - loss: 0.3717 - accuracy: 0.8745 - val_loss: 0.0527 - val_accuracy: 0.9965\n",
      "Epoch 112/1000\n",
      "48/60 [=======================>......] - ETA: 0s - loss: 0.3575 - accuracy: 0.8815\n",
      "Epoch 112: saving model to model/keypoint_classifier\\keypoint_classifier.hdf5\n",
      "60/60 [==============================] - 0s 2ms/step - loss: 0.3638 - accuracy: 0.8783 - val_loss: 0.0598 - val_accuracy: 0.9984\n",
      "Epoch 113/1000\n",
      "47/60 [======================>.......] - ETA: 0s - loss: 0.3764 - accuracy: 0.8747\n",
      "Epoch 113: saving model to model/keypoint_classifier\\keypoint_classifier.hdf5\n",
      "60/60 [==============================] - 0s 2ms/step - loss: 0.3750 - accuracy: 0.8754 - val_loss: 0.0579 - val_accuracy: 0.9965\n",
      "Epoch 114/1000\n",
      "43/60 [====================>.........] - ETA: 0s - loss: 0.3532 - accuracy: 0.8815\n",
      "Epoch 114: saving model to model/keypoint_classifier\\keypoint_classifier.hdf5\n",
      "60/60 [==============================] - 0s 2ms/step - loss: 0.3576 - accuracy: 0.8788 - val_loss: 0.0588 - val_accuracy: 0.9976\n",
      "Epoch 115/1000\n",
      "48/60 [=======================>......] - ETA: 0s - loss: 0.3785 - accuracy: 0.8817\n",
      "Epoch 115: saving model to model/keypoint_classifier\\keypoint_classifier.hdf5\n",
      "60/60 [==============================] - 0s 2ms/step - loss: 0.3745 - accuracy: 0.8811 - val_loss: 0.0633 - val_accuracy: 0.9965\n",
      "Epoch 116/1000\n",
      "49/60 [=======================>......] - ETA: 0s - loss: 0.3669 - accuracy: 0.8803\n",
      "Epoch 116: saving model to model/keypoint_classifier\\keypoint_classifier.hdf5\n",
      "60/60 [==============================] - 0s 2ms/step - loss: 0.3688 - accuracy: 0.8798 - val_loss: 0.0507 - val_accuracy: 0.9988\n",
      "Epoch 117/1000\n",
      "38/60 [==================>...........] - ETA: 0s - loss: 0.3742 - accuracy: 0.8742\n",
      "Epoch 117: saving model to model/keypoint_classifier\\keypoint_classifier.hdf5\n",
      "60/60 [==============================] - 0s 2ms/step - loss: 0.3725 - accuracy: 0.8754 - val_loss: 0.0524 - val_accuracy: 0.9965\n",
      "Epoch 118/1000\n",
      "49/60 [=======================>......] - ETA: 0s - loss: 0.3574 - accuracy: 0.8807\n",
      "Epoch 118: saving model to model/keypoint_classifier\\keypoint_classifier.hdf5\n",
      "60/60 [==============================] - 0s 2ms/step - loss: 0.3615 - accuracy: 0.8812 - val_loss: 0.0556 - val_accuracy: 0.9980\n",
      "Epoch 119/1000\n",
      "50/60 [========================>.....] - ETA: 0s - loss: 0.3598 - accuracy: 0.8809\n",
      "Epoch 119: saving model to model/keypoint_classifier\\keypoint_classifier.hdf5\n",
      "60/60 [==============================] - 0s 2ms/step - loss: 0.3598 - accuracy: 0.8823 - val_loss: 0.0623 - val_accuracy: 0.9965\n",
      "Epoch 120/1000\n",
      "50/60 [========================>.....] - ETA: 0s - loss: 0.3667 - accuracy: 0.8767\n",
      "Epoch 120: saving model to model/keypoint_classifier\\keypoint_classifier.hdf5\n",
      "60/60 [==============================] - 0s 2ms/step - loss: 0.3666 - accuracy: 0.8774 - val_loss: 0.0584 - val_accuracy: 0.9965\n",
      "Epoch 121/1000\n",
      "49/60 [=======================>......] - ETA: 0s - loss: 0.3654 - accuracy: 0.8769\n",
      "Epoch 121: saving model to model/keypoint_classifier\\keypoint_classifier.hdf5\n",
      "60/60 [==============================] - 0s 2ms/step - loss: 0.3693 - accuracy: 0.8769 - val_loss: 0.0530 - val_accuracy: 0.9965\n",
      "Epoch 122/1000\n",
      "47/60 [======================>.......] - ETA: 0s - loss: 0.3452 - accuracy: 0.8850\n",
      "Epoch 122: saving model to model/keypoint_classifier\\keypoint_classifier.hdf5\n",
      "60/60 [==============================] - 0s 2ms/step - loss: 0.3470 - accuracy: 0.8829 - val_loss: 0.0570 - val_accuracy: 0.9988\n",
      "Epoch 123/1000\n",
      "50/60 [========================>.....] - ETA: 0s - loss: 0.3618 - accuracy: 0.8752\n",
      "Epoch 123: saving model to model/keypoint_classifier\\keypoint_classifier.hdf5\n",
      "60/60 [==============================] - 0s 2ms/step - loss: 0.3597 - accuracy: 0.8766 - val_loss: 0.0592 - val_accuracy: 0.9965\n",
      "Epoch 124/1000\n",
      "48/60 [=======================>......] - ETA: 0s - loss: 0.3421 - accuracy: 0.8910\n",
      "Epoch 124: saving model to model/keypoint_classifier\\keypoint_classifier.hdf5\n",
      "60/60 [==============================] - 0s 2ms/step - loss: 0.3429 - accuracy: 0.8900 - val_loss: 0.0494 - val_accuracy: 0.9965\n",
      "Epoch 125/1000\n",
      "46/60 [======================>.......] - ETA: 0s - loss: 0.3508 - accuracy: 0.8849\n",
      "Epoch 125: saving model to model/keypoint_classifier\\keypoint_classifier.hdf5\n",
      "60/60 [==============================] - 0s 2ms/step - loss: 0.3553 - accuracy: 0.8853 - val_loss: 0.0535 - val_accuracy: 0.9965\n",
      "Epoch 126/1000\n",
      "46/60 [======================>.......] - ETA: 0s - loss: 0.3626 - accuracy: 0.8838\n",
      "Epoch 126: saving model to model/keypoint_classifier\\keypoint_classifier.hdf5\n",
      "60/60 [==============================] - 0s 2ms/step - loss: 0.3623 - accuracy: 0.8829 - val_loss: 0.0565 - val_accuracy: 0.9965\n",
      "Epoch 127/1000\n",
      "50/60 [========================>.....] - ETA: 0s - loss: 0.3427 - accuracy: 0.8841\n",
      "Epoch 127: saving model to model/keypoint_classifier\\keypoint_classifier.hdf5\n",
      "60/60 [==============================] - 0s 2ms/step - loss: 0.3491 - accuracy: 0.8840 - val_loss: 0.0528 - val_accuracy: 0.9965\n",
      "Epoch 128/1000\n",
      "49/60 [=======================>......] - ETA: 0s - loss: 0.3473 - accuracy: 0.8870\n",
      "Epoch 128: saving model to model/keypoint_classifier\\keypoint_classifier.hdf5\n",
      "60/60 [==============================] - 0s 2ms/step - loss: 0.3505 - accuracy: 0.8876 - val_loss: 0.0534 - val_accuracy: 0.9988\n",
      "Epoch 129/1000\n",
      "47/60 [======================>.......] - ETA: 0s - loss: 0.3646 - accuracy: 0.8798\n",
      "Epoch 129: saving model to model/keypoint_classifier\\keypoint_classifier.hdf5\n",
      "60/60 [==============================] - 0s 2ms/step - loss: 0.3568 - accuracy: 0.8820 - val_loss: 0.0487 - val_accuracy: 0.9976\n",
      "Epoch 130/1000\n",
      "39/60 [==================>...........] - ETA: 0s - loss: 0.3410 - accuracy: 0.8862\n",
      "Epoch 130: saving model to model/keypoint_classifier\\keypoint_classifier.hdf5\n",
      "60/60 [==============================] - 0s 2ms/step - loss: 0.3413 - accuracy: 0.8884 - val_loss: 0.0511 - val_accuracy: 0.9965\n",
      "Epoch 131/1000\n",
      "48/60 [=======================>......] - ETA: 0s - loss: 0.3457 - accuracy: 0.8823\n",
      "Epoch 131: saving model to model/keypoint_classifier\\keypoint_classifier.hdf5\n",
      "60/60 [==============================] - 0s 2ms/step - loss: 0.3479 - accuracy: 0.8821 - val_loss: 0.0553 - val_accuracy: 0.9965\n",
      "Epoch 132/1000\n",
      "51/60 [========================>.....] - ETA: 0s - loss: 0.3496 - accuracy: 0.8816\n",
      "Epoch 132: saving model to model/keypoint_classifier\\keypoint_classifier.hdf5\n",
      "60/60 [==============================] - 0s 2ms/step - loss: 0.3481 - accuracy: 0.8827 - val_loss: 0.0431 - val_accuracy: 1.0000\n",
      "Epoch 133/1000\n",
      "48/60 [=======================>......] - ETA: 0s - loss: 0.3457 - accuracy: 0.8862\n",
      "Epoch 133: saving model to model/keypoint_classifier\\keypoint_classifier.hdf5\n",
      "60/60 [==============================] - 0s 2ms/step - loss: 0.3516 - accuracy: 0.8838 - val_loss: 0.0493 - val_accuracy: 0.9988\n",
      "Epoch 134/1000\n",
      "47/60 [======================>.......] - ETA: 0s - loss: 0.3392 - accuracy: 0.8905\n",
      "Epoch 134: saving model to model/keypoint_classifier\\keypoint_classifier.hdf5\n",
      "60/60 [==============================] - 0s 2ms/step - loss: 0.3434 - accuracy: 0.8873 - val_loss: 0.0487 - val_accuracy: 0.9976\n",
      "Epoch 135/1000\n",
      "49/60 [=======================>......] - ETA: 0s - loss: 0.3433 - accuracy: 0.8858\n",
      "Epoch 135: saving model to model/keypoint_classifier\\keypoint_classifier.hdf5\n",
      "60/60 [==============================] - 0s 2ms/step - loss: 0.3410 - accuracy: 0.8863 - val_loss: 0.0458 - val_accuracy: 0.9976\n"
     ]
    },
    {
     "name": "stdout",
     "output_type": "stream",
     "text": [
      "Epoch 136/1000\n",
      "49/60 [=======================>......] - ETA: 0s - loss: 0.3502 - accuracy: 0.8870\n",
      "Epoch 136: saving model to model/keypoint_classifier\\keypoint_classifier.hdf5\n",
      "60/60 [==============================] - 0s 2ms/step - loss: 0.3444 - accuracy: 0.8883 - val_loss: 0.0449 - val_accuracy: 1.0000\n",
      "Epoch 137/1000\n",
      "46/60 [======================>.......] - ETA: 0s - loss: 0.3620 - accuracy: 0.8784\n",
      "Epoch 137: saving model to model/keypoint_classifier\\keypoint_classifier.hdf5\n",
      "60/60 [==============================] - 0s 2ms/step - loss: 0.3623 - accuracy: 0.8788 - val_loss: 0.0492 - val_accuracy: 0.9988\n",
      "Epoch 138/1000\n",
      "49/60 [=======================>......] - ETA: 0s - loss: 0.3417 - accuracy: 0.8878\n",
      "Epoch 138: saving model to model/keypoint_classifier\\keypoint_classifier.hdf5\n",
      "60/60 [==============================] - 0s 2ms/step - loss: 0.3452 - accuracy: 0.8857 - val_loss: 0.0514 - val_accuracy: 0.9965\n",
      "Epoch 139/1000\n",
      "49/60 [=======================>......] - ETA: 0s - loss: 0.3436 - accuracy: 0.8830\n",
      "Epoch 139: saving model to model/keypoint_classifier\\keypoint_classifier.hdf5\n",
      "60/60 [==============================] - 0s 2ms/step - loss: 0.3437 - accuracy: 0.8837 - val_loss: 0.0470 - val_accuracy: 0.9980\n",
      "Epoch 140/1000\n",
      "50/60 [========================>.....] - ETA: 0s - loss: 0.3519 - accuracy: 0.8780\n",
      "Epoch 140: saving model to model/keypoint_classifier\\keypoint_classifier.hdf5\n",
      "60/60 [==============================] - 0s 2ms/step - loss: 0.3501 - accuracy: 0.8791 - val_loss: 0.0519 - val_accuracy: 0.9965\n",
      "Epoch 141/1000\n",
      "48/60 [=======================>......] - ETA: 0s - loss: 0.3376 - accuracy: 0.8901\n",
      "Epoch 141: saving model to model/keypoint_classifier\\keypoint_classifier.hdf5\n",
      "60/60 [==============================] - 0s 2ms/step - loss: 0.3390 - accuracy: 0.8899 - val_loss: 0.0509 - val_accuracy: 0.9965\n",
      "Epoch 142/1000\n",
      "47/60 [======================>.......] - ETA: 0s - loss: 0.3343 - accuracy: 0.8905\n",
      "Epoch 142: saving model to model/keypoint_classifier\\keypoint_classifier.hdf5\n",
      "60/60 [==============================] - 0s 2ms/step - loss: 0.3354 - accuracy: 0.8905 - val_loss: 0.0431 - val_accuracy: 1.0000\n",
      "Epoch 143/1000\n",
      "49/60 [=======================>......] - ETA: 0s - loss: 0.3266 - accuracy: 0.8876\n",
      "Epoch 143: saving model to model/keypoint_classifier\\keypoint_classifier.hdf5\n",
      "60/60 [==============================] - 0s 2ms/step - loss: 0.3301 - accuracy: 0.8855 - val_loss: 0.0448 - val_accuracy: 0.9980\n",
      "Epoch 144/1000\n",
      "49/60 [=======================>......] - ETA: 0s - loss: 0.3452 - accuracy: 0.8796\n",
      "Epoch 144: saving model to model/keypoint_classifier\\keypoint_classifier.hdf5\n",
      "60/60 [==============================] - 0s 2ms/step - loss: 0.3406 - accuracy: 0.8816 - val_loss: 0.0478 - val_accuracy: 0.9965\n",
      "Epoch 145/1000\n",
      "49/60 [=======================>......] - ETA: 0s - loss: 0.3496 - accuracy: 0.8838\n",
      "Epoch 145: saving model to model/keypoint_classifier\\keypoint_classifier.hdf5\n",
      "60/60 [==============================] - 0s 2ms/step - loss: 0.3509 - accuracy: 0.8845 - val_loss: 0.0465 - val_accuracy: 0.9980\n",
      "Epoch 146/1000\n",
      "51/60 [========================>.....] - ETA: 0s - loss: 0.3484 - accuracy: 0.8837\n",
      "Epoch 146: saving model to model/keypoint_classifier\\keypoint_classifier.hdf5\n",
      "60/60 [==============================] - 0s 2ms/step - loss: 0.3456 - accuracy: 0.8853 - val_loss: 0.0524 - val_accuracy: 0.9980\n",
      "Epoch 147/1000\n",
      "49/60 [=======================>......] - ETA: 0s - loss: 0.3424 - accuracy: 0.8884\n",
      "Epoch 147: saving model to model/keypoint_classifier\\keypoint_classifier.hdf5\n",
      "60/60 [==============================] - 0s 2ms/step - loss: 0.3409 - accuracy: 0.8882 - val_loss: 0.0436 - val_accuracy: 0.9984\n",
      "Epoch 148/1000\n",
      "47/60 [======================>.......] - ETA: 0s - loss: 0.3520 - accuracy: 0.8836\n",
      "Epoch 148: saving model to model/keypoint_classifier\\keypoint_classifier.hdf5\n",
      "60/60 [==============================] - 0s 2ms/step - loss: 0.3508 - accuracy: 0.8816 - val_loss: 0.0454 - val_accuracy: 0.9976\n",
      "Epoch 149/1000\n",
      "48/60 [=======================>......] - ETA: 0s - loss: 0.3410 - accuracy: 0.8854\n",
      "Epoch 149: saving model to model/keypoint_classifier\\keypoint_classifier.hdf5\n",
      "60/60 [==============================] - 0s 2ms/step - loss: 0.3377 - accuracy: 0.8873 - val_loss: 0.0477 - val_accuracy: 0.9965\n",
      "Epoch 150/1000\n",
      "48/60 [=======================>......] - ETA: 0s - loss: 0.3282 - accuracy: 0.8908\n",
      "Epoch 150: saving model to model/keypoint_classifier\\keypoint_classifier.hdf5\n",
      "60/60 [==============================] - 0s 2ms/step - loss: 0.3263 - accuracy: 0.8920 - val_loss: 0.0435 - val_accuracy: 0.9984\n",
      "Epoch 151/1000\n",
      "47/60 [======================>.......] - ETA: 0s - loss: 0.3487 - accuracy: 0.8798\n",
      "Epoch 151: saving model to model/keypoint_classifier\\keypoint_classifier.hdf5\n",
      "60/60 [==============================] - 0s 2ms/step - loss: 0.3493 - accuracy: 0.8799 - val_loss: 0.0491 - val_accuracy: 1.0000\n",
      "Epoch 152/1000\n",
      "50/60 [========================>.....] - ETA: 0s - loss: 0.3266 - accuracy: 0.8900\n",
      "Epoch 152: saving model to model/keypoint_classifier\\keypoint_classifier.hdf5\n",
      "60/60 [==============================] - 0s 2ms/step - loss: 0.3267 - accuracy: 0.8899 - val_loss: 0.0471 - val_accuracy: 0.9965\n",
      "Epoch 152: early stopping\n"
     ]
    },
    {
     "data": {
      "text/plain": [
       "<keras.callbacks.History at 0x2624d6a3070>"
      ]
     },
     "execution_count": 33,
     "metadata": {},
     "output_type": "execute_result"
    }
   ],
   "source": [
    "model.fit(\n",
    "    X_train,\n",
    "    y_train,\n",
    "    epochs=1000,\n",
    "    batch_size=128,\n",
    "    validation_data=(X_test, y_test),\n",
    "    callbacks=[cp_callback, es_callback]\n",
    ")"
   ]
  },
  {
   "cell_type": "code",
   "execution_count": 34,
   "metadata": {
    "colab": {
     "base_uri": "https://localhost:8080/"
    },
    "id": "pxvb2Y299hE3",
    "outputId": "59eb3185-2e37-4b9e-bc9d-ab1b8ac29b7f"
   },
   "outputs": [
    {
     "name": "stdout",
     "output_type": "stream",
     "text": [
      "20/20 [==============================] - 0s 688us/step - loss: 0.0471 - accuracy: 0.9965\n"
     ]
    }
   ],
   "source": [
    "# Model evaluation\n",
    "val_loss, val_acc = model.evaluate(X_test, y_test, batch_size=128)"
   ]
  },
  {
   "cell_type": "code",
   "execution_count": 35,
   "metadata": {
    "id": "RBkmDeUW9hE4"
   },
   "outputs": [],
   "source": [
    "# Loading the saved model\n",
    "model = tf.keras.models.load_model(model_save_path)"
   ]
  },
  {
   "cell_type": "code",
   "execution_count": 36,
   "metadata": {
    "colab": {
     "base_uri": "https://localhost:8080/"
    },
    "id": "tFz9Tb0I9hE4",
    "outputId": "1c3b3528-54ae-4ee2-ab04-77429211cbef"
   },
   "outputs": [
    {
     "name": "stdout",
     "output_type": "stream",
     "text": [
      "1/1 [==============================] - 0s 45ms/step\n",
      "[2.8551254e-05 2.9225303e-06 5.5906723e-05 4.5755098e-07 1.8969700e-06\n",
      " 2.2310720e-09 5.6975327e-06 1.8097927e-03 5.3505690e-18 9.9809474e-01]\n",
      "9\n"
     ]
    }
   ],
   "source": [
    "# Inference test\n",
    "predict_result = model.predict(np.array([X_test[0]]))\n",
    "print(np.squeeze(predict_result))\n",
    "print(np.argmax(np.squeeze(predict_result)))"
   ]
  },
  {
   "cell_type": "markdown",
   "metadata": {
    "id": "S3U4yNWx9hE4"
   },
   "source": [
    "# Confusion matrix"
   ]
  },
  {
   "cell_type": "code",
   "execution_count": 37,
   "metadata": {
    "colab": {
     "base_uri": "https://localhost:8080/",
     "height": 582
    },
    "id": "AP1V6SCk9hE5",
    "outputId": "08e41a80-7a4a-4619-8125-ecc371368d19"
   },
   "outputs": [
    {
     "name": "stdout",
     "output_type": "stream",
     "text": [
      "80/80 [==============================] - 0s 573us/step\n"
     ]
    },
    {
     "data": {
      "image/png": "[encoded data removed]",
      "text/plain": [
       "<Figure size 504x432 with 2 Axes>"
      ]
     },
     "metadata": {
      "needs_background": "light"
     },
     "output_type": "display_data"
    },
    {
     "name": "stdout",
     "output_type": "stream",
     "text": [
      "Classification Report\n",
      "              precision    recall  f1-score   support\n",
      "\n",
      "           0       1.00      1.00      1.00       263\n",
      "           1       1.00      1.00      1.00       264\n",
      "           2       1.00      1.00      1.00       234\n",
      "           3       0.97      1.00      0.98       278\n",
      "           4       1.00      0.97      0.98       268\n",
      "           5       1.00      1.00      1.00       233\n",
      "           6       1.00      1.00      1.00       267\n",
      "           7       1.00      1.00      1.00       245\n",
      "           8       1.00      1.00      1.00       229\n",
      "           9       1.00      1.00      1.00       256\n",
      "\n",
      "    accuracy                           1.00      2537\n",
      "   macro avg       1.00      1.00      1.00      2537\n",
      "weighted avg       1.00      1.00      1.00      2537\n",
      "\n"
     ]
    }
   ],
   "source": [
    "import pandas as pd\n",
    "import seaborn as sns\n",
    "import matplotlib.pyplot as plt\n",
    "from sklearn.metrics import confusion_matrix, classification_report\n",
    "\n",
    "def print_confusion_matrix(y_true, y_pred, report=True):\n",
    "    labels = sorted(list(set(y_true)))\n",
    "    cmx_data = confusion_matrix(y_true, y_pred, labels=labels)\n",
    "    \n",
    "    df_cmx = pd.DataFrame(cmx_data, index=labels, columns=labels)\n",
    " \n",
    "    fig, ax = plt.subplots(figsize=(7, 6))\n",
    "    sns.heatmap(df_cmx, annot=True, fmt='g' ,square=False)\n",
    "    ax.set_ylim(len(set(y_true)), 0)\n",
    "    plt.show()\n",
    "    \n",
    "    if report:\n",
    "        print('Classification Report')\n",
    "        print(classification_report(y_test, y_pred))\n",
    "\n",
    "Y_pred = model.predict(X_test)\n",
    "y_pred = np.argmax(Y_pred, axis=1)\n",
    "\n",
    "print_confusion_matrix(y_test, y_pred)"
   ]
  },
  {
   "cell_type": "markdown",
   "metadata": {
    "id": "FNP6aqzc9hE5"
   },
   "source": [
    "# Convert to model for Tensorflow-Lite"
   ]
  },
  {
   "cell_type": "code",
   "execution_count": 38,
   "metadata": {
    "id": "ODjnYyld9hE6"
   },
   "outputs": [],
   "source": [
    "# Save as a model dedicated to inference\n",
    "model.save(model_save_path, include_optimizer=False)"
   ]
  },
  {
   "cell_type": "code",
   "execution_count": 39,
   "metadata": {
    "colab": {
     "base_uri": "https://localhost:8080/"
    },
    "id": "zRfuK8Y59hE6",
    "outputId": "a4ca585c-b5d5-4244-8291-8674063209bb"
   },
   "outputs": [
    {
     "name": "stdout",
     "output_type": "stream",
     "text": [
      "INFO:tensorflow:Assets written to: C:\\Users\\mfaja\\AppData\\Local\\Temp\\tmp81blh7cm\\assets\n"
     ]
    },
    {
     "name": "stderr",
     "output_type": "stream",
     "text": [
      "INFO:tensorflow:Assets written to: C:\\Users\\mfaja\\AppData\\Local\\Temp\\tmp81blh7cm\\assets\n"
     ]
    },
    {
     "data": {
      "text/plain": [
       "6836"
      ]
     },
     "execution_count": 39,
     "metadata": {},
     "output_type": "execute_result"
    }
   ],
   "source": [
    "# Transform model (quantization)\n",
    "\n",
    "converter = tf.lite.TFLiteConverter.from_keras_model(model)\n",
    "converter.optimizations = [tf.lite.Optimize.DEFAULT]\n",
    "tflite_quantized_model = converter.convert()\n",
    "\n",
    "open(tflite_save_path, 'wb').write(tflite_quantized_model)"
   ]
  },
  {
   "cell_type": "markdown",
   "metadata": {
    "id": "CHBPBXdx9hE6"
   },
   "source": [
    "# Inference test"
   ]
  },
  {
   "cell_type": "code",
   "execution_count": 40,
   "metadata": {
    "id": "mGAzLocO9hE7"
   },
   "outputs": [],
   "source": [
    "interpreter = tf.lite.Interpreter(model_path=tflite_save_path)\n",
    "interpreter.allocate_tensors()"
   ]
  },
  {
   "cell_type": "code",
   "execution_count": 41,
   "metadata": {
    "id": "oQuDK8YS9hE7"
   },
   "outputs": [],
   "source": [
    "# Get I / O tensor\n",
    "input_details = interpreter.get_input_details()\n",
    "output_details = interpreter.get_output_details()"
   ]
  },
  {
   "cell_type": "code",
   "execution_count": 42,
   "metadata": {
    "id": "2_ixAf_l9hE7"
   },
   "outputs": [],
   "source": [
    "interpreter.set_tensor(input_details[0]['index'], np.array([X_test[0]]))"
   ]
  },
  {
   "cell_type": "code",
   "execution_count": 43,
   "metadata": {
    "colab": {
     "base_uri": "https://localhost:8080/"
    },
    "id": "s4FoAnuc9hE7",
    "outputId": "91f18257-8d8b-4ef3-c558-e9b5f94fabbf",
    "scrolled": true
   },
   "outputs": [
    {
     "name": "stdout",
     "output_type": "stream",
     "text": [
      "CPU times: total: 0 ns\n",
      "Wall time: 0 ns\n"
     ]
    }
   ],
   "source": [
    "%%time\n",
    "# Inference implementation\n",
    "interpreter.invoke()\n",
    "tflite_results = interpreter.get_tensor(output_details[0]['index'])"
   ]
  },
  {
   "cell_type": "code",
   "execution_count": 44,
   "metadata": {
    "colab": {
     "base_uri": "https://localhost:8080/"
    },
    "id": "vONjp19J9hE8",
    "outputId": "77205e24-fd00-42c4-f7b6-e06e527c2cba"
   },
   "outputs": [
    {
     "name": "stdout",
     "output_type": "stream",
     "text": [
      "[2.8551307e-05 2.9225275e-06 5.5906716e-05 4.5755098e-07 1.8969700e-06\n",
      " 2.2310676e-09 5.6975437e-06 1.8097952e-03 5.3505690e-18 9.9809474e-01]\n",
      "9\n"
     ]
    }
   ],
   "source": [
    "print(np.squeeze(tflite_results))\n",
    "print(np.argmax(np.squeeze(tflite_results)))"
   ]
  }
 ],
 "metadata": {
  "accelerator": "GPU",
  "colab": {
   "collapsed_sections": [],
   "name": "keypoint_classification_EN.ipynb",
   "provenance": [],
   "toc_visible": true
  },
  "kernelspec": {
   "display_name": "Python 3 (ipykernel)",
   "language": "python",
   "name": "python3"
  },
  "language_info": {
   "codemirror_mode": {
    "name": "ipython",
    "version": 3
   },
   "file_extension": ".py",
   "mimetype": "text/x-python",
   "name": "python",
   "nbconvert_exporter": "python",
   "pygments_lexer": "ipython3",
   "version": "3.9.12"
  }
 },
 "nbformat": 4,
 "nbformat_minor": 1
}
