{
 "cells": [
  {
   "cell_type": "code",
   "execution_count": 1,
   "metadata": {
    "id": "igMyGnjE9hEp"
   },
   "outputs": [],
   "source": [
    "import csv\n",
    "import pandas as pd\n",
    "import numpy as np\n",
    "import tensorflow as tf\n",
    "from sklearn.model_selection import train_test_split\n",
    "BATCH_SIZE = 128\n",
    "RANDOM_SEED = 42"
   ]
  },
  {
   "cell_type": "markdown",
   "metadata": {
    "id": "t2HDvhIu9hEr"
   },
   "source": [
    "# Specify each path"
   ]
  },
  {
   "cell_type": "code",
   "execution_count": 2,
   "metadata": {
    "id": "9NvZP2Zn9hEy"
   },
   "outputs": [],
   "source": [
    "dataset = 'model/keypoint_classifier/keypoint.csv'\n",
    "model_save_path = 'model/keypoint_classifier/keypoint_classifier.hdf5'\n",
    "tflite_save_path = 'model/keypoint_classifier/keypoint_classifier.tflite'"
   ]
  },
  {
   "cell_type": "markdown",
   "metadata": {
    "id": "s5oMH7x19hEz"
   },
   "source": [
    "# Set number of classes"
   ]
  },
  {
   "cell_type": "code",
   "execution_count": 3,
   "metadata": {
    "id": "du4kodXL9hEz"
   },
   "outputs": [],
   "source": [
    "NUM_CLASSES = 24"
   ]
  },
  {
   "cell_type": "markdown",
   "metadata": {
    "id": "XjnL0uso9hEz"
   },
   "source": [
    "# Dataset reading"
   ]
  },
  {
   "cell_type": "code",
   "execution_count": 4,
   "metadata": {
    "id": "QT5ZqtEz9hE0"
   },
   "outputs": [],
   "source": [
    "X_dataset = np.loadtxt(dataset, delimiter=',', dtype='float32', usecols=list(range(1, (21 * 2) + 1)))"
   ]
  },
  {
   "cell_type": "code",
   "execution_count": 5,
   "metadata": {
    "id": "QmoKFsp49hE0"
   },
   "outputs": [],
   "source": [
    "y_dataset = np.loadtxt(dataset, delimiter=',', dtype='int32', usecols=(0))"
   ]
  },
  {
   "cell_type": "code",
   "execution_count": 6,
   "metadata": {
    "id": "xQU7JTZ_9hE0"
   },
   "outputs": [],
   "source": [
    "X_train, X_test, y_train, y_test = train_test_split(X_dataset, y_dataset, train_size=0.75, random_state=RANDOM_SEED)"
   ]
  },
  {
   "cell_type": "markdown",
   "metadata": {
    "id": "mxK_lETT9hE0"
   },
   "source": [
    "# Model building"
   ]
  },
  {
   "cell_type": "code",
   "execution_count": 7,
   "metadata": {
    "id": "vHBmUf1t9hE1"
   },
   "outputs": [],
   "source": [
    "model = tf.keras.models.Sequential([\n",
    "    tf.keras.layers.Input((21 * 2, )),\n",
    "    tf.keras.layers.Dropout(0.2),\n",
    "    tf.keras.layers.Dense(20, activation='relu'),\n",
    "    tf.keras.layers.Dropout(0.4),\n",
    "    tf.keras.layers.Dense(10, activation='relu'),\n",
    "    tf.keras.layers.Dense(NUM_CLASSES, activation='softmax')\n",
    "])"
   ]
  },
  {
   "cell_type": "code",
   "execution_count": 8,
   "metadata": {
    "colab": {
     "base_uri": "https://localhost:8080/"
    },
    "id": "ypqky9tc9hE1",
    "outputId": "5db082bb-30e3-4110-bf63-a1ee777ecd46"
   },
   "outputs": [
    {
     "name": "stdout",
     "output_type": "stream",
     "text": [
      "Model: \"sequential\"\n",
      "_________________________________________________________________\n",
      " Layer (type)                Output Shape              Param #   \n",
      "=================================================================\n",
      " dropout (Dropout)           (None, 42)                0         \n",
      "                                                                 \n",
      " dense (Dense)               (None, 20)                860       \n",
      "                                                                 \n",
      " dropout_1 (Dropout)         (None, 20)                0         \n",
      "                                                                 \n",
      " dense_1 (Dense)             (None, 10)                210       \n",
      "                                                                 \n",
      " dense_2 (Dense)             (None, 24)                264       \n",
      "                                                                 \n",
      "=================================================================\n",
      "Total params: 1,334\n",
      "Trainable params: 1,334\n",
      "Non-trainable params: 0\n",
      "_________________________________________________________________\n"
     ]
    }
   ],
   "source": [
    "model.summary()  # tf.keras.utils.plot_model(model, show_shapes=True)"
   ]
  },
  {
   "cell_type": "code",
   "execution_count": 9,
   "metadata": {
    "id": "MbMjOflQ9hE1"
   },
   "outputs": [],
   "source": [
    "# Model checkpoint callback\n",
    "cp_callback = tf.keras.callbacks.ModelCheckpoint(\n",
    "    model_save_path, verbose=1, save_weights_only=False)\n",
    "# Callback for early stopping\n",
    "es_callback = tf.keras.callbacks.EarlyStopping(patience=20, verbose=1)"
   ]
  },
  {
   "cell_type": "code",
   "execution_count": 10,
   "metadata": {
    "id": "c3Dac0M_9hE2"
   },
   "outputs": [],
   "source": [
    "# Model compilation\n",
    "model.compile(\n",
    "    optimizer='adam',\n",
    "    loss='sparse_categorical_crossentropy',\n",
    "    metrics=['accuracy']\n",
    ")"
   ]
  },
  {
   "cell_type": "markdown",
   "metadata": {
    "id": "7XI0j1Iu9hE2"
   },
   "source": [
    "# Model training"
   ]
  },
  {
   "cell_type": "code",
   "execution_count": 11,
   "metadata": {
    "colab": {
     "base_uri": "https://localhost:8080/"
    },
    "id": "WirBl-JE9hE3",
    "outputId": "71b30ca2-8294-4d9d-8aa2-800d90d399de",
    "scrolled": true
   },
   "outputs": [
    {
     "name": "stdout",
     "output_type": "stream",
     "text": [
      "Epoch 1/1000\n",
      "186/211 [=========================>....] - ETA: 0s - loss: 2.9643 - accuracy: 0.0985\n",
      "Epoch 1: saving model to model/keypoint_classifier\\keypoint_classifier.hdf5\n",
      "211/211 [==============================] - 1s 2ms/step - loss: 2.9227 - accuracy: 0.1110 - val_loss: 2.3733 - val_accuracy: 0.4538\n",
      "Epoch 2/1000\n",
      "191/211 [==========================>...] - ETA: 0s - loss: 2.1048 - accuracy: 0.3256\n",
      "Epoch 2: saving model to model/keypoint_classifier\\keypoint_classifier.hdf5\n",
      "211/211 [==============================] - 0s 1ms/step - loss: 2.0673 - accuracy: 0.3336 - val_loss: 1.2967 - val_accuracy: 0.7747\n",
      "Epoch 3/1000\n",
      "191/211 [==========================>...] - ETA: 0s - loss: 1.5610 - accuracy: 0.4456\n",
      "Epoch 3: saving model to model/keypoint_classifier\\keypoint_classifier.hdf5\n",
      "211/211 [==============================] - 0s 1ms/step - loss: 1.5448 - accuracy: 0.4509 - val_loss: 0.9005 - val_accuracy: 0.8812\n",
      "Epoch 4/1000\n",
      "188/211 [=========================>....] - ETA: 0s - loss: 1.3279 - accuracy: 0.5153\n",
      "Epoch 4: saving model to model/keypoint_classifier\\keypoint_classifier.hdf5\n",
      "211/211 [==============================] - 0s 1ms/step - loss: 1.3172 - accuracy: 0.5199 - val_loss: 0.7131 - val_accuracy: 0.9073\n",
      "Epoch 5/1000\n",
      "200/211 [===========================>..] - ETA: 0s - loss: 1.1933 - accuracy: 0.5667\n",
      "Epoch 5: saving model to model/keypoint_classifier\\keypoint_classifier.hdf5\n",
      "211/211 [==============================] - 0s 1ms/step - loss: 1.1909 - accuracy: 0.5679 - val_loss: 0.5982 - val_accuracy: 0.9377\n",
      "Epoch 6/1000\n",
      "206/211 [============================>.] - ETA: 0s - loss: 1.1179 - accuracy: 0.5890\n",
      "Epoch 6: saving model to model/keypoint_classifier\\keypoint_classifier.hdf5\n",
      "211/211 [==============================] - 0s 1ms/step - loss: 1.1176 - accuracy: 0.5886 - val_loss: 0.5294 - val_accuracy: 0.9284\n",
      "Epoch 7/1000\n",
      "207/211 [============================>.] - ETA: 0s - loss: 1.0509 - accuracy: 0.6102\n",
      "Epoch 7: saving model to model/keypoint_classifier\\keypoint_classifier.hdf5\n",
      "211/211 [==============================] - 0s 1ms/step - loss: 1.0505 - accuracy: 0.6103 - val_loss: 0.4739 - val_accuracy: 0.9466\n",
      "Epoch 8/1000\n",
      "206/211 [============================>.] - ETA: 0s - loss: 1.0075 - accuracy: 0.6283\n",
      "Epoch 8: saving model to model/keypoint_classifier\\keypoint_classifier.hdf5\n",
      "211/211 [==============================] - 0s 1ms/step - loss: 1.0057 - accuracy: 0.6289 - val_loss: 0.4380 - val_accuracy: 0.9468\n",
      "Epoch 9/1000\n",
      "205/211 [============================>.] - ETA: 0s - loss: 0.9774 - accuracy: 0.6363\n",
      "Epoch 9: saving model to model/keypoint_classifier\\keypoint_classifier.hdf5\n",
      "211/211 [==============================] - 0s 1ms/step - loss: 0.9774 - accuracy: 0.6367 - val_loss: 0.4159 - val_accuracy: 0.9506\n",
      "Epoch 10/1000\n",
      "205/211 [============================>.] - ETA: 0s - loss: 0.9434 - accuracy: 0.6528\n",
      "Epoch 10: saving model to model/keypoint_classifier\\keypoint_classifier.hdf5\n",
      "211/211 [==============================] - 0s 1ms/step - loss: 0.9439 - accuracy: 0.6521 - val_loss: 0.3818 - val_accuracy: 0.9492\n",
      "Epoch 11/1000\n",
      "202/211 [===========================>..] - ETA: 0s - loss: 0.9111 - accuracy: 0.6633\n",
      "Epoch 11: saving model to model/keypoint_classifier\\keypoint_classifier.hdf5\n",
      "211/211 [==============================] - 0s 1ms/step - loss: 0.9110 - accuracy: 0.6630 - val_loss: 0.3730 - val_accuracy: 0.9314\n",
      "Epoch 12/1000\n",
      "199/211 [===========================>..] - ETA: 0s - loss: 0.8959 - accuracy: 0.6681\n",
      "Epoch 12: saving model to model/keypoint_classifier\\keypoint_classifier.hdf5\n",
      "211/211 [==============================] - 0s 1ms/step - loss: 0.8946 - accuracy: 0.6686 - val_loss: 0.3505 - val_accuracy: 0.9506\n",
      "Epoch 13/1000\n",
      "205/211 [============================>.] - ETA: 0s - loss: 0.8702 - accuracy: 0.6777\n",
      "Epoch 13: saving model to model/keypoint_classifier\\keypoint_classifier.hdf5\n",
      "211/211 [==============================] - 0s 1ms/step - loss: 0.8695 - accuracy: 0.6776 - val_loss: 0.3258 - val_accuracy: 0.9503\n",
      "Epoch 14/1000\n",
      "202/211 [===========================>..] - ETA: 0s - loss: 0.8582 - accuracy: 0.6833\n",
      "Epoch 14: saving model to model/keypoint_classifier\\keypoint_classifier.hdf5\n",
      "211/211 [==============================] - 0s 1ms/step - loss: 0.8567 - accuracy: 0.6833 - val_loss: 0.3175 - val_accuracy: 0.9681\n",
      "Epoch 15/1000\n",
      "203/211 [===========================>..] - ETA: 0s - loss: 0.8254 - accuracy: 0.6946\n",
      "Epoch 15: saving model to model/keypoint_classifier\\keypoint_classifier.hdf5\n",
      "211/211 [==============================] - 0s 1ms/step - loss: 0.8256 - accuracy: 0.6940 - val_loss: 0.2970 - val_accuracy: 0.9517\n",
      "Epoch 16/1000\n",
      "200/211 [===========================>..] - ETA: 0s - loss: 0.8132 - accuracy: 0.7016\n",
      "Epoch 16: saving model to model/keypoint_classifier\\keypoint_classifier.hdf5\n",
      "211/211 [==============================] - 0s 1ms/step - loss: 0.8137 - accuracy: 0.7013 - val_loss: 0.2888 - val_accuracy: 0.9563\n",
      "Epoch 17/1000\n",
      "204/211 [============================>.] - ETA: 0s - loss: 0.8168 - accuracy: 0.7017\n",
      "Epoch 17: saving model to model/keypoint_classifier\\keypoint_classifier.hdf5\n",
      "211/211 [==============================] - 0s 1ms/step - loss: 0.8155 - accuracy: 0.7018 - val_loss: 0.2829 - val_accuracy: 0.9709\n",
      "Epoch 18/1000\n",
      "203/211 [===========================>..] - ETA: 0s - loss: 0.7926 - accuracy: 0.7093\n",
      "Epoch 18: saving model to model/keypoint_classifier\\keypoint_classifier.hdf5\n",
      "211/211 [==============================] - 0s 1ms/step - loss: 0.7917 - accuracy: 0.7099 - val_loss: 0.2668 - val_accuracy: 0.9544\n",
      "Epoch 19/1000\n",
      "206/211 [============================>.] - ETA: 0s - loss: 0.7808 - accuracy: 0.7138\n",
      "Epoch 19: saving model to model/keypoint_classifier\\keypoint_classifier.hdf5\n",
      "211/211 [==============================] - 0s 1ms/step - loss: 0.7811 - accuracy: 0.7140 - val_loss: 0.2622 - val_accuracy: 0.9973\n",
      "Epoch 20/1000\n",
      "204/211 [============================>.] - ETA: 0s - loss: 0.7713 - accuracy: 0.7152\n",
      "Epoch 20: saving model to model/keypoint_classifier\\keypoint_classifier.hdf5\n",
      "211/211 [==============================] - 0s 1ms/step - loss: 0.7714 - accuracy: 0.7153 - val_loss: 0.2544 - val_accuracy: 0.9459\n",
      "Epoch 21/1000\n",
      "203/211 [===========================>..] - ETA: 0s - loss: 0.7653 - accuracy: 0.7198\n",
      "Epoch 21: saving model to model/keypoint_classifier\\keypoint_classifier.hdf5\n",
      "211/211 [==============================] - 0s 1ms/step - loss: 0.7651 - accuracy: 0.7193 - val_loss: 0.2458 - val_accuracy: 0.9836\n",
      "Epoch 22/1000\n",
      "206/211 [============================>.] - ETA: 0s - loss: 0.7600 - accuracy: 0.7212\n",
      "Epoch 22: saving model to model/keypoint_classifier\\keypoint_classifier.hdf5\n",
      "211/211 [==============================] - 0s 1ms/step - loss: 0.7600 - accuracy: 0.7211 - val_loss: 0.2548 - val_accuracy: 0.9549\n",
      "Epoch 23/1000\n",
      "204/211 [============================>.] - ETA: 0s - loss: 0.7464 - accuracy: 0.7265\n",
      "Epoch 23: saving model to model/keypoint_classifier\\keypoint_classifier.hdf5\n",
      "211/211 [==============================] - 0s 1ms/step - loss: 0.7466 - accuracy: 0.7263 - val_loss: 0.2372 - val_accuracy: 0.9539\n",
      "Epoch 24/1000\n",
      "200/211 [===========================>..] - ETA: 0s - loss: 0.7429 - accuracy: 0.7280\n",
      "Epoch 24: saving model to model/keypoint_classifier\\keypoint_classifier.hdf5\n",
      "211/211 [==============================] - 0s 1ms/step - loss: 0.7425 - accuracy: 0.7285 - val_loss: 0.2295 - val_accuracy: 0.9528\n",
      "Epoch 25/1000\n",
      "205/211 [============================>.] - ETA: 0s - loss: 0.7350 - accuracy: 0.7315\n",
      "Epoch 25: saving model to model/keypoint_classifier\\keypoint_classifier.hdf5\n",
      "211/211 [==============================] - 0s 1ms/step - loss: 0.7336 - accuracy: 0.7321 - val_loss: 0.2273 - val_accuracy: 0.9566\n",
      "Epoch 26/1000\n",
      "194/211 [==========================>...] - ETA: 0s - loss: 0.7308 - accuracy: 0.7344\n",
      "Epoch 26: saving model to model/keypoint_classifier\\keypoint_classifier.hdf5\n",
      "211/211 [==============================] - 0s 1ms/step - loss: 0.7286 - accuracy: 0.7350 - val_loss: 0.2230 - val_accuracy: 0.9942\n",
      "Epoch 27/1000\n",
      "195/211 [==========================>...] - ETA: 0s - loss: 0.7152 - accuracy: 0.7367\n",
      "Epoch 27: saving model to model/keypoint_classifier\\keypoint_classifier.hdf5\n",
      "211/211 [==============================] - 0s 1ms/step - loss: 0.7141 - accuracy: 0.7368 - val_loss: 0.2193 - val_accuracy: 0.9610\n"
     ]
    },
    {
     "name": "stdout",
     "output_type": "stream",
     "text": [
      "Epoch 28/1000\n",
      "204/211 [============================>.] - ETA: 0s - loss: 0.7219 - accuracy: 0.7389\n",
      "Epoch 28: saving model to model/keypoint_classifier\\keypoint_classifier.hdf5\n",
      "211/211 [==============================] - 0s 1ms/step - loss: 0.7211 - accuracy: 0.7388 - val_loss: 0.2167 - val_accuracy: 0.9903\n",
      "Epoch 29/1000\n",
      "204/211 [============================>.] - ETA: 0s - loss: 0.7189 - accuracy: 0.7408\n",
      "Epoch 29: saving model to model/keypoint_classifier\\keypoint_classifier.hdf5\n",
      "211/211 [==============================] - 0s 1ms/step - loss: 0.7189 - accuracy: 0.7401 - val_loss: 0.2200 - val_accuracy: 0.9592\n",
      "Epoch 30/1000\n",
      "204/211 [============================>.] - ETA: 0s - loss: 0.7046 - accuracy: 0.7400\n",
      "Epoch 30: saving model to model/keypoint_classifier\\keypoint_classifier.hdf5\n",
      "211/211 [==============================] - 0s 1ms/step - loss: 0.7057 - accuracy: 0.7399 - val_loss: 0.2106 - val_accuracy: 0.9831\n",
      "Epoch 31/1000\n",
      "201/211 [===========================>..] - ETA: 0s - loss: 0.6956 - accuracy: 0.7444\n",
      "Epoch 31: saving model to model/keypoint_classifier\\keypoint_classifier.hdf5\n",
      "211/211 [==============================] - 0s 1ms/step - loss: 0.6946 - accuracy: 0.7443 - val_loss: 0.1959 - val_accuracy: 0.9982\n",
      "Epoch 32/1000\n",
      "198/211 [===========================>..] - ETA: 0s - loss: 0.6966 - accuracy: 0.7439\n",
      "Epoch 32: saving model to model/keypoint_classifier\\keypoint_classifier.hdf5\n",
      "211/211 [==============================] - 0s 1ms/step - loss: 0.6965 - accuracy: 0.7443 - val_loss: 0.2007 - val_accuracy: 0.9947\n",
      "Epoch 33/1000\n",
      "177/211 [========================>.....] - ETA: 0s - loss: 0.6894 - accuracy: 0.7491\n",
      "Epoch 33: saving model to model/keypoint_classifier\\keypoint_classifier.hdf5\n",
      "211/211 [==============================] - 0s 2ms/step - loss: 0.6880 - accuracy: 0.7490 - val_loss: 0.1948 - val_accuracy: 0.9563\n",
      "Epoch 34/1000\n",
      "172/211 [=======================>......] - ETA: 0s - loss: 0.6938 - accuracy: 0.7459\n",
      "Epoch 34: saving model to model/keypoint_classifier\\keypoint_classifier.hdf5\n",
      "211/211 [==============================] - 0s 2ms/step - loss: 0.6936 - accuracy: 0.7453 - val_loss: 0.1955 - val_accuracy: 0.9729\n",
      "Epoch 35/1000\n",
      "198/211 [===========================>..] - ETA: 0s - loss: 0.6788 - accuracy: 0.7524\n",
      "Epoch 35: saving model to model/keypoint_classifier\\keypoint_classifier.hdf5\n",
      "211/211 [==============================] - 0s 1ms/step - loss: 0.6788 - accuracy: 0.7527 - val_loss: 0.1912 - val_accuracy: 0.9578\n",
      "Epoch 36/1000\n",
      "206/211 [============================>.] - ETA: 0s - loss: 0.6679 - accuracy: 0.7566\n",
      "Epoch 36: saving model to model/keypoint_classifier\\keypoint_classifier.hdf5\n",
      "211/211 [==============================] - 0s 1ms/step - loss: 0.6661 - accuracy: 0.7569 - val_loss: 0.1845 - val_accuracy: 0.9929\n",
      "Epoch 37/1000\n",
      "201/211 [===========================>..] - ETA: 0s - loss: 0.6691 - accuracy: 0.7584\n",
      "Epoch 37: saving model to model/keypoint_classifier\\keypoint_classifier.hdf5\n",
      "211/211 [==============================] - 0s 1ms/step - loss: 0.6685 - accuracy: 0.7580 - val_loss: 0.1855 - val_accuracy: 0.9964\n",
      "Epoch 38/1000\n",
      "189/211 [=========================>....] - ETA: 0s - loss: 0.6656 - accuracy: 0.7569\n",
      "Epoch 38: saving model to model/keypoint_classifier\\keypoint_classifier.hdf5\n",
      "211/211 [==============================] - 0s 1ms/step - loss: 0.6658 - accuracy: 0.7576 - val_loss: 0.1925 - val_accuracy: 0.9881\n",
      "Epoch 39/1000\n",
      "198/211 [===========================>..] - ETA: 0s - loss: 0.6664 - accuracy: 0.7562\n",
      "Epoch 39: saving model to model/keypoint_classifier\\keypoint_classifier.hdf5\n",
      "211/211 [==============================] - 0s 1ms/step - loss: 0.6670 - accuracy: 0.7561 - val_loss: 0.1863 - val_accuracy: 0.9929\n",
      "Epoch 40/1000\n",
      "199/211 [===========================>..] - ETA: 0s - loss: 0.6604 - accuracy: 0.7601\n",
      "Epoch 40: saving model to model/keypoint_classifier\\keypoint_classifier.hdf5\n",
      "211/211 [==============================] - 0s 1ms/step - loss: 0.6625 - accuracy: 0.7593 - val_loss: 0.1788 - val_accuracy: 0.9957\n",
      "Epoch 41/1000\n",
      "204/211 [============================>.] - ETA: 0s - loss: 0.6576 - accuracy: 0.7622\n",
      "Epoch 41: saving model to model/keypoint_classifier\\keypoint_classifier.hdf5\n",
      "211/211 [==============================] - 0s 1ms/step - loss: 0.6565 - accuracy: 0.7620 - val_loss: 0.1769 - val_accuracy: 0.9787\n",
      "Epoch 42/1000\n",
      "202/211 [===========================>..] - ETA: 0s - loss: 0.6653 - accuracy: 0.7579\n",
      "Epoch 42: saving model to model/keypoint_classifier\\keypoint_classifier.hdf5\n",
      "211/211 [==============================] - 0s 1ms/step - loss: 0.6652 - accuracy: 0.7580 - val_loss: 0.1810 - val_accuracy: 0.9941\n",
      "Epoch 43/1000\n",
      "205/211 [============================>.] - ETA: 0s - loss: 0.6602 - accuracy: 0.7584\n",
      "Epoch 43: saving model to model/keypoint_classifier\\keypoint_classifier.hdf5\n",
      "211/211 [==============================] - 0s 1ms/step - loss: 0.6611 - accuracy: 0.7586 - val_loss: 0.1757 - val_accuracy: 0.9888\n",
      "Epoch 44/1000\n",
      "204/211 [============================>.] - ETA: 0s - loss: 0.6517 - accuracy: 0.7610\n",
      "Epoch 44: saving model to model/keypoint_classifier\\keypoint_classifier.hdf5\n",
      "211/211 [==============================] - 0s 1ms/step - loss: 0.6511 - accuracy: 0.7614 - val_loss: 0.1764 - val_accuracy: 0.9772\n",
      "Epoch 45/1000\n",
      "200/211 [===========================>..] - ETA: 0s - loss: 0.6542 - accuracy: 0.7601\n",
      "Epoch 45: saving model to model/keypoint_classifier\\keypoint_classifier.hdf5\n",
      "211/211 [==============================] - 0s 1ms/step - loss: 0.6522 - accuracy: 0.7609 - val_loss: 0.1783 - val_accuracy: 0.9967\n",
      "Epoch 46/1000\n",
      "205/211 [============================>.] - ETA: 0s - loss: 0.6481 - accuracy: 0.7631\n",
      "Epoch 46: saving model to model/keypoint_classifier\\keypoint_classifier.hdf5\n",
      "211/211 [==============================] - 0s 1ms/step - loss: 0.6489 - accuracy: 0.7627 - val_loss: 0.1760 - val_accuracy: 0.9968\n",
      "Epoch 47/1000\n",
      "204/211 [============================>.] - ETA: 0s - loss: 0.6474 - accuracy: 0.7660\n",
      "Epoch 47: saving model to model/keypoint_classifier\\keypoint_classifier.hdf5\n",
      "211/211 [==============================] - 0s 1ms/step - loss: 0.6488 - accuracy: 0.7652 - val_loss: 0.1691 - val_accuracy: 0.9961\n",
      "Epoch 48/1000\n",
      "206/211 [============================>.] - ETA: 0s - loss: 0.6479 - accuracy: 0.7643\n",
      "Epoch 48: saving model to model/keypoint_classifier\\keypoint_classifier.hdf5\n",
      "211/211 [==============================] - 0s 1ms/step - loss: 0.6485 - accuracy: 0.7640 - val_loss: 0.1648 - val_accuracy: 0.9916\n",
      "Epoch 49/1000\n",
      "206/211 [============================>.] - ETA: 0s - loss: 0.6402 - accuracy: 0.7651\n",
      "Epoch 49: saving model to model/keypoint_classifier\\keypoint_classifier.hdf5\n",
      "211/211 [==============================] - 0s 1ms/step - loss: 0.6403 - accuracy: 0.7654 - val_loss: 0.1641 - val_accuracy: 0.9839\n",
      "Epoch 50/1000\n",
      "207/211 [============================>.] - ETA: 0s - loss: 0.6333 - accuracy: 0.7679\n",
      "Epoch 50: saving model to model/keypoint_classifier\\keypoint_classifier.hdf5\n",
      "211/211 [==============================] - 0s 1ms/step - loss: 0.6334 - accuracy: 0.7683 - val_loss: 0.1624 - val_accuracy: 0.9978\n",
      "Epoch 51/1000\n",
      "205/211 [============================>.] - ETA: 0s - loss: 0.6433 - accuracy: 0.7658\n",
      "Epoch 51: saving model to model/keypoint_classifier\\keypoint_classifier.hdf5\n",
      "211/211 [==============================] - 0s 1ms/step - loss: 0.6433 - accuracy: 0.7658 - val_loss: 0.1657 - val_accuracy: 0.9874\n",
      "Epoch 52/1000\n",
      "202/211 [===========================>..] - ETA: 0s - loss: 0.6251 - accuracy: 0.7724\n",
      "Epoch 52: saving model to model/keypoint_classifier\\keypoint_classifier.hdf5\n",
      "211/211 [==============================] - 0s 1ms/step - loss: 0.6245 - accuracy: 0.7726 - val_loss: 0.1547 - val_accuracy: 0.9981\n",
      "Epoch 53/1000\n",
      "208/211 [============================>.] - ETA: 0s - loss: 0.6396 - accuracy: 0.7647\n",
      "Epoch 53: saving model to model/keypoint_classifier\\keypoint_classifier.hdf5\n",
      "211/211 [==============================] - 0s 1ms/step - loss: 0.6403 - accuracy: 0.7647 - val_loss: 0.1611 - val_accuracy: 0.9948\n",
      "Epoch 54/1000\n",
      "205/211 [============================>.] - ETA: 0s - loss: 0.6325 - accuracy: 0.7699\n",
      "Epoch 54: saving model to model/keypoint_classifier\\keypoint_classifier.hdf5\n",
      "211/211 [==============================] - 0s 1ms/step - loss: 0.6318 - accuracy: 0.7701 - val_loss: 0.1648 - val_accuracy: 0.9607\n"
     ]
    },
    {
     "name": "stdout",
     "output_type": "stream",
     "text": [
      "Epoch 55/1000\n",
      "203/211 [===========================>..] - ETA: 0s - loss: 0.6312 - accuracy: 0.7674\n",
      "Epoch 55: saving model to model/keypoint_classifier\\keypoint_classifier.hdf5\n",
      "211/211 [==============================] - 0s 1ms/step - loss: 0.6309 - accuracy: 0.7671 - val_loss: 0.1616 - val_accuracy: 0.9943\n",
      "Epoch 56/1000\n",
      "204/211 [============================>.] - ETA: 0s - loss: 0.6289 - accuracy: 0.7698\n",
      "Epoch 56: saving model to model/keypoint_classifier\\keypoint_classifier.hdf5\n",
      "211/211 [==============================] - 0s 1ms/step - loss: 0.6298 - accuracy: 0.7695 - val_loss: 0.1599 - val_accuracy: 0.9893\n",
      "Epoch 57/1000\n",
      "205/211 [============================>.] - ETA: 0s - loss: 0.6221 - accuracy: 0.7740\n",
      "Epoch 57: saving model to model/keypoint_classifier\\keypoint_classifier.hdf5\n",
      "211/211 [==============================] - 0s 1ms/step - loss: 0.6204 - accuracy: 0.7748 - val_loss: 0.1519 - val_accuracy: 0.9772\n",
      "Epoch 58/1000\n",
      "191/211 [==========================>...] - ETA: 0s - loss: 0.6141 - accuracy: 0.7799\n",
      "Epoch 58: saving model to model/keypoint_classifier\\keypoint_classifier.hdf5\n",
      "211/211 [==============================] - 0s 1ms/step - loss: 0.6152 - accuracy: 0.7797 - val_loss: 0.1590 - val_accuracy: 0.9590\n",
      "Epoch 59/1000\n",
      "199/211 [===========================>..] - ETA: 0s - loss: 0.6245 - accuracy: 0.7743\n",
      "Epoch 59: saving model to model/keypoint_classifier\\keypoint_classifier.hdf5\n",
      "211/211 [==============================] - 0s 1ms/step - loss: 0.6233 - accuracy: 0.7743 - val_loss: 0.1599 - val_accuracy: 0.9992\n",
      "Epoch 60/1000\n",
      "204/211 [============================>.] - ETA: 0s - loss: 0.6113 - accuracy: 0.7774\n",
      "Epoch 60: saving model to model/keypoint_classifier\\keypoint_classifier.hdf5\n",
      "211/211 [==============================] - 0s 1ms/step - loss: 0.6117 - accuracy: 0.7778 - val_loss: 0.1524 - val_accuracy: 0.9952\n",
      "Epoch 61/1000\n",
      "203/211 [===========================>..] - ETA: 0s - loss: 0.6160 - accuracy: 0.7812\n",
      "Epoch 61: saving model to model/keypoint_classifier\\keypoint_classifier.hdf5\n",
      "211/211 [==============================] - 0s 1ms/step - loss: 0.6161 - accuracy: 0.7812 - val_loss: 0.1537 - val_accuracy: 0.9937\n",
      "Epoch 62/1000\n",
      "201/211 [===========================>..] - ETA: 0s - loss: 0.6083 - accuracy: 0.7776\n",
      "Epoch 62: saving model to model/keypoint_classifier\\keypoint_classifier.hdf5\n",
      "211/211 [==============================] - 0s 1ms/step - loss: 0.6095 - accuracy: 0.7775 - val_loss: 0.1614 - val_accuracy: 0.9884\n",
      "Epoch 63/1000\n",
      "203/211 [===========================>..] - ETA: 0s - loss: 0.6139 - accuracy: 0.7772\n",
      "Epoch 63: saving model to model/keypoint_classifier\\keypoint_classifier.hdf5\n",
      "211/211 [==============================] - 0s 1ms/step - loss: 0.6135 - accuracy: 0.7778 - val_loss: 0.1500 - val_accuracy: 0.9968\n",
      "Epoch 64/1000\n",
      "205/211 [============================>.] - ETA: 0s - loss: 0.6084 - accuracy: 0.7799\n",
      "Epoch 64: saving model to model/keypoint_classifier\\keypoint_classifier.hdf5\n",
      "211/211 [==============================] - 0s 1ms/step - loss: 0.6075 - accuracy: 0.7799 - val_loss: 0.1481 - val_accuracy: 0.9949\n",
      "Epoch 65/1000\n",
      "203/211 [===========================>..] - ETA: 0s - loss: 0.6096 - accuracy: 0.7806\n",
      "Epoch 65: saving model to model/keypoint_classifier\\keypoint_classifier.hdf5\n",
      "211/211 [==============================] - 0s 1ms/step - loss: 0.6100 - accuracy: 0.7805 - val_loss: 0.1429 - val_accuracy: 0.9980\n",
      "Epoch 66/1000\n",
      "204/211 [============================>.] - ETA: 0s - loss: 0.6002 - accuracy: 0.7833\n",
      "Epoch 66: saving model to model/keypoint_classifier\\keypoint_classifier.hdf5\n",
      "211/211 [==============================] - 0s 1ms/step - loss: 0.6012 - accuracy: 0.7823 - val_loss: 0.1502 - val_accuracy: 0.9964\n",
      "Epoch 67/1000\n",
      "204/211 [============================>.] - ETA: 0s - loss: 0.6086 - accuracy: 0.7770\n",
      "Epoch 67: saving model to model/keypoint_classifier\\keypoint_classifier.hdf5\n",
      "211/211 [==============================] - 0s 1ms/step - loss: 0.6078 - accuracy: 0.7774 - val_loss: 0.1441 - val_accuracy: 0.9908\n",
      "Epoch 68/1000\n",
      "195/211 [==========================>...] - ETA: 0s - loss: 0.6025 - accuracy: 0.7809\n",
      "Epoch 68: saving model to model/keypoint_classifier\\keypoint_classifier.hdf5\n",
      "211/211 [==============================] - 0s 1ms/step - loss: 0.6041 - accuracy: 0.7801 - val_loss: 0.1388 - val_accuracy: 0.9962\n",
      "Epoch 69/1000\n",
      "196/211 [==========================>...] - ETA: 0s - loss: 0.5987 - accuracy: 0.7872\n",
      "Epoch 69: saving model to model/keypoint_classifier\\keypoint_classifier.hdf5\n",
      "211/211 [==============================] - 0s 1ms/step - loss: 0.6015 - accuracy: 0.7853 - val_loss: 0.1482 - val_accuracy: 0.9910\n",
      "Epoch 70/1000\n",
      "201/211 [===========================>..] - ETA: 0s - loss: 0.5997 - accuracy: 0.7867\n",
      "Epoch 70: saving model to model/keypoint_classifier\\keypoint_classifier.hdf5\n",
      "211/211 [==============================] - 0s 1ms/step - loss: 0.5995 - accuracy: 0.7870 - val_loss: 0.1389 - val_accuracy: 0.9963\n",
      "Epoch 71/1000\n",
      "196/211 [==========================>...] - ETA: 0s - loss: 0.5877 - accuracy: 0.7891\n",
      "Epoch 71: saving model to model/keypoint_classifier\\keypoint_classifier.hdf5\n",
      "211/211 [==============================] - 0s 1ms/step - loss: 0.5912 - accuracy: 0.7883 - val_loss: 0.1423 - val_accuracy: 0.9888\n",
      "Epoch 72/1000\n",
      "202/211 [===========================>..] - ETA: 0s - loss: 0.5854 - accuracy: 0.7873\n",
      "Epoch 72: saving model to model/keypoint_classifier\\keypoint_classifier.hdf5\n",
      "211/211 [==============================] - 0s 1ms/step - loss: 0.5835 - accuracy: 0.7877 - val_loss: 0.1408 - val_accuracy: 0.9931\n",
      "Epoch 73/1000\n",
      "204/211 [============================>.] - ETA: 0s - loss: 0.5865 - accuracy: 0.7881\n",
      "Epoch 73: saving model to model/keypoint_classifier\\keypoint_classifier.hdf5\n",
      "211/211 [==============================] - 0s 1ms/step - loss: 0.5886 - accuracy: 0.7869 - val_loss: 0.1367 - val_accuracy: 0.9966\n",
      "Epoch 74/1000\n",
      "204/211 [============================>.] - ETA: 0s - loss: 0.5833 - accuracy: 0.7866\n",
      "Epoch 74: saving model to model/keypoint_classifier\\keypoint_classifier.hdf5\n",
      "211/211 [==============================] - 0s 1ms/step - loss: 0.5824 - accuracy: 0.7870 - val_loss: 0.1386 - val_accuracy: 0.9967\n",
      "Epoch 75/1000\n",
      "201/211 [===========================>..] - ETA: 0s - loss: 0.5966 - accuracy: 0.7832\n",
      "Epoch 75: saving model to model/keypoint_classifier\\keypoint_classifier.hdf5\n",
      "211/211 [==============================] - 0s 1ms/step - loss: 0.5984 - accuracy: 0.7824 - val_loss: 0.1453 - val_accuracy: 0.9912\n",
      "Epoch 76/1000\n",
      "203/211 [===========================>..] - ETA: 0s - loss: 0.5840 - accuracy: 0.7867\n",
      "Epoch 76: saving model to model/keypoint_classifier\\keypoint_classifier.hdf5\n",
      "211/211 [==============================] - 0s 1ms/step - loss: 0.5847 - accuracy: 0.7871 - val_loss: 0.1373 - val_accuracy: 0.9930\n",
      "Epoch 77/1000\n",
      "198/211 [===========================>..] - ETA: 0s - loss: 0.5778 - accuracy: 0.7897\n",
      "Epoch 77: saving model to model/keypoint_classifier\\keypoint_classifier.hdf5\n",
      "211/211 [==============================] - 0s 1ms/step - loss: 0.5784 - accuracy: 0.7893 - val_loss: 0.1399 - val_accuracy: 0.9907\n",
      "Epoch 78/1000\n",
      "174/211 [=======================>......] - ETA: 0s - loss: 0.5821 - accuracy: 0.7941\n",
      "Epoch 78: saving model to model/keypoint_classifier\\keypoint_classifier.hdf5\n",
      "211/211 [==============================] - 0s 2ms/step - loss: 0.5810 - accuracy: 0.7940 - val_loss: 0.1341 - val_accuracy: 0.9971\n",
      "Epoch 79/1000\n",
      "200/211 [===========================>..] - ETA: 0s - loss: 0.5805 - accuracy: 0.7895\n",
      "Epoch 79: saving model to model/keypoint_classifier\\keypoint_classifier.hdf5\n",
      "211/211 [==============================] - 0s 1ms/step - loss: 0.5797 - accuracy: 0.7894 - val_loss: 0.1363 - val_accuracy: 0.9894\n",
      "Epoch 80/1000\n",
      "200/211 [===========================>..] - ETA: 0s - loss: 0.5788 - accuracy: 0.7883\n",
      "Epoch 80: saving model to model/keypoint_classifier\\keypoint_classifier.hdf5\n",
      "211/211 [==============================] - 0s 1ms/step - loss: 0.5775 - accuracy: 0.7893 - val_loss: 0.1380 - val_accuracy: 0.9961\n",
      "Epoch 81/1000\n",
      "207/211 [============================>.] - ETA: 0s - loss: 0.5723 - accuracy: 0.7950\n",
      "Epoch 81: saving model to model/keypoint_classifier\\keypoint_classifier.hdf5\n",
      "211/211 [==============================] - 0s 1ms/step - loss: 0.5732 - accuracy: 0.7948 - val_loss: 0.1269 - val_accuracy: 0.9970\n"
     ]
    },
    {
     "name": "stdout",
     "output_type": "stream",
     "text": [
      "Epoch 82/1000\n",
      "206/211 [============================>.] - ETA: 0s - loss: 0.5773 - accuracy: 0.7919\n",
      "Epoch 82: saving model to model/keypoint_classifier\\keypoint_classifier.hdf5\n",
      "211/211 [==============================] - 0s 1ms/step - loss: 0.5788 - accuracy: 0.7916 - val_loss: 0.1403 - val_accuracy: 0.9897\n",
      "Epoch 83/1000\n",
      "205/211 [============================>.] - ETA: 0s - loss: 0.5742 - accuracy: 0.7915\n",
      "Epoch 83: saving model to model/keypoint_classifier\\keypoint_classifier.hdf5\n",
      "211/211 [==============================] - 0s 1ms/step - loss: 0.5749 - accuracy: 0.7911 - val_loss: 0.1334 - val_accuracy: 0.9973\n",
      "Epoch 84/1000\n",
      "205/211 [============================>.] - ETA: 0s - loss: 0.5764 - accuracy: 0.7952\n",
      "Epoch 84: saving model to model/keypoint_classifier\\keypoint_classifier.hdf5\n",
      "211/211 [==============================] - 0s 1ms/step - loss: 0.5777 - accuracy: 0.7949 - val_loss: 0.1316 - val_accuracy: 0.9961\n",
      "Epoch 85/1000\n",
      "207/211 [============================>.] - ETA: 0s - loss: 0.5632 - accuracy: 0.7985\n",
      "Epoch 85: saving model to model/keypoint_classifier\\keypoint_classifier.hdf5\n",
      "211/211 [==============================] - 0s 1ms/step - loss: 0.5638 - accuracy: 0.7981 - val_loss: 0.1309 - val_accuracy: 0.9952\n",
      "Epoch 86/1000\n",
      "205/211 [============================>.] - ETA: 0s - loss: 0.5638 - accuracy: 0.7963\n",
      "Epoch 86: saving model to model/keypoint_classifier\\keypoint_classifier.hdf5\n",
      "211/211 [==============================] - 0s 1ms/step - loss: 0.5638 - accuracy: 0.7956 - val_loss: 0.1375 - val_accuracy: 0.9938\n",
      "Epoch 87/1000\n",
      "199/211 [===========================>..] - ETA: 0s - loss: 0.5769 - accuracy: 0.7953\n",
      "Epoch 87: saving model to model/keypoint_classifier\\keypoint_classifier.hdf5\n",
      "211/211 [==============================] - 0s 1ms/step - loss: 0.5766 - accuracy: 0.7953 - val_loss: 0.1273 - val_accuracy: 0.9917\n",
      "Epoch 88/1000\n",
      "208/211 [============================>.] - ETA: 0s - loss: 0.5602 - accuracy: 0.7963\n",
      "Epoch 88: saving model to model/keypoint_classifier\\keypoint_classifier.hdf5\n",
      "211/211 [==============================] - 0s 1ms/step - loss: 0.5612 - accuracy: 0.7961 - val_loss: 0.1283 - val_accuracy: 0.9850\n",
      "Epoch 89/1000\n",
      "205/211 [============================>.] - ETA: 0s - loss: 0.5668 - accuracy: 0.7945\n",
      "Epoch 89: saving model to model/keypoint_classifier\\keypoint_classifier.hdf5\n",
      "211/211 [==============================] - 0s 1ms/step - loss: 0.5665 - accuracy: 0.7952 - val_loss: 0.1328 - val_accuracy: 0.9898\n",
      "Epoch 90/1000\n",
      "201/211 [===========================>..] - ETA: 0s - loss: 0.5575 - accuracy: 0.7972\n",
      "Epoch 90: saving model to model/keypoint_classifier\\keypoint_classifier.hdf5\n",
      "211/211 [==============================] - 0s 1ms/step - loss: 0.5583 - accuracy: 0.7974 - val_loss: 0.1303 - val_accuracy: 0.9892\n",
      "Epoch 91/1000\n",
      "197/211 [===========================>..] - ETA: 0s - loss: 0.5706 - accuracy: 0.7949\n",
      "Epoch 91: saving model to model/keypoint_classifier\\keypoint_classifier.hdf5\n",
      "211/211 [==============================] - 0s 1ms/step - loss: 0.5694 - accuracy: 0.7958 - val_loss: 0.1285 - val_accuracy: 0.9923\n",
      "Epoch 92/1000\n",
      "200/211 [===========================>..] - ETA: 0s - loss: 0.5627 - accuracy: 0.7986\n",
      "Epoch 92: saving model to model/keypoint_classifier\\keypoint_classifier.hdf5\n",
      "211/211 [==============================] - 0s 1ms/step - loss: 0.5627 - accuracy: 0.7984 - val_loss: 0.1286 - val_accuracy: 0.9940\n",
      "Epoch 93/1000\n",
      "205/211 [============================>.] - ETA: 0s - loss: 0.5533 - accuracy: 0.8008\n",
      "Epoch 93: saving model to model/keypoint_classifier\\keypoint_classifier.hdf5\n",
      "211/211 [==============================] - 0s 1ms/step - loss: 0.5522 - accuracy: 0.8010 - val_loss: 0.1259 - val_accuracy: 0.9962\n",
      "Epoch 94/1000\n",
      "202/211 [===========================>..] - ETA: 0s - loss: 0.5619 - accuracy: 0.7993\n",
      "Epoch 94: saving model to model/keypoint_classifier\\keypoint_classifier.hdf5\n",
      "211/211 [==============================] - 0s 1ms/step - loss: 0.5634 - accuracy: 0.7987 - val_loss: 0.1292 - val_accuracy: 0.9949\n",
      "Epoch 95/1000\n",
      "199/211 [===========================>..] - ETA: 0s - loss: 0.5495 - accuracy: 0.8018\n",
      "Epoch 95: saving model to model/keypoint_classifier\\keypoint_classifier.hdf5\n",
      "211/211 [==============================] - 0s 1ms/step - loss: 0.5508 - accuracy: 0.8022 - val_loss: 0.1273 - val_accuracy: 0.9971\n",
      "Epoch 96/1000\n",
      "204/211 [============================>.] - ETA: 0s - loss: 0.5626 - accuracy: 0.7978\n",
      "Epoch 96: saving model to model/keypoint_classifier\\keypoint_classifier.hdf5\n",
      "211/211 [==============================] - 0s 1ms/step - loss: 0.5604 - accuracy: 0.7981 - val_loss: 0.1284 - val_accuracy: 0.9859\n",
      "Epoch 97/1000\n",
      "204/211 [============================>.] - ETA: 0s - loss: 0.5605 - accuracy: 0.7989\n",
      "Epoch 97: saving model to model/keypoint_classifier\\keypoint_classifier.hdf5\n",
      "211/211 [==============================] - 0s 1ms/step - loss: 0.5611 - accuracy: 0.7986 - val_loss: 0.1301 - val_accuracy: 0.9917\n",
      "Epoch 98/1000\n",
      "207/211 [============================>.] - ETA: 0s - loss: 0.5544 - accuracy: 0.7995\n",
      "Epoch 98: saving model to model/keypoint_classifier\\keypoint_classifier.hdf5\n",
      "211/211 [==============================] - 0s 1ms/step - loss: 0.5526 - accuracy: 0.8001 - val_loss: 0.1254 - val_accuracy: 0.9919\n",
      "Epoch 99/1000\n",
      "203/211 [===========================>..] - ETA: 0s - loss: 0.5572 - accuracy: 0.7983\n",
      "Epoch 99: saving model to model/keypoint_classifier\\keypoint_classifier.hdf5\n",
      "211/211 [==============================] - 0s 1ms/step - loss: 0.5583 - accuracy: 0.7979 - val_loss: 0.1274 - val_accuracy: 0.9903\n",
      "Epoch 100/1000\n",
      "206/211 [============================>.] - ETA: 0s - loss: 0.5641 - accuracy: 0.7955\n",
      "Epoch 100: saving model to model/keypoint_classifier\\keypoint_classifier.hdf5\n",
      "211/211 [==============================] - 0s 1ms/step - loss: 0.5629 - accuracy: 0.7961 - val_loss: 0.1206 - val_accuracy: 0.9973\n",
      "Epoch 101/1000\n",
      "204/211 [============================>.] - ETA: 0s - loss: 0.5477 - accuracy: 0.8038\n",
      "Epoch 101: saving model to model/keypoint_classifier\\keypoint_classifier.hdf5\n",
      "211/211 [==============================] - 0s 1ms/step - loss: 0.5469 - accuracy: 0.8039 - val_loss: 0.1213 - val_accuracy: 0.9933\n",
      "Epoch 102/1000\n",
      "205/211 [============================>.] - ETA: 0s - loss: 0.5557 - accuracy: 0.8001\n",
      "Epoch 102: saving model to model/keypoint_classifier\\keypoint_classifier.hdf5\n",
      "211/211 [==============================] - 0s 1ms/step - loss: 0.5540 - accuracy: 0.8007 - val_loss: 0.1246 - val_accuracy: 0.9924\n",
      "Epoch 103/1000\n",
      "205/211 [============================>.] - ETA: 0s - loss: 0.5465 - accuracy: 0.8054\n",
      "Epoch 103: saving model to model/keypoint_classifier\\keypoint_classifier.hdf5\n",
      "211/211 [==============================] - 0s 1ms/step - loss: 0.5464 - accuracy: 0.8054 - val_loss: 0.1207 - val_accuracy: 0.9888\n",
      "Epoch 104/1000\n",
      "206/211 [============================>.] - ETA: 0s - loss: 0.5427 - accuracy: 0.8040\n",
      "Epoch 104: saving model to model/keypoint_classifier\\keypoint_classifier.hdf5\n",
      "211/211 [==============================] - 0s 1ms/step - loss: 0.5416 - accuracy: 0.8045 - val_loss: 0.1216 - val_accuracy: 0.9938\n",
      "Epoch 105/1000\n",
      "205/211 [============================>.] - ETA: 0s - loss: 0.5460 - accuracy: 0.8002\n",
      "Epoch 105: saving model to model/keypoint_classifier\\keypoint_classifier.hdf5\n",
      "211/211 [==============================] - 0s 1ms/step - loss: 0.5466 - accuracy: 0.7999 - val_loss: 0.1241 - val_accuracy: 0.9944\n",
      "Epoch 106/1000\n",
      "205/211 [============================>.] - ETA: 0s - loss: 0.5469 - accuracy: 0.8038\n",
      "Epoch 106: saving model to model/keypoint_classifier\\keypoint_classifier.hdf5\n",
      "211/211 [==============================] - 0s 1ms/step - loss: 0.5469 - accuracy: 0.8037 - val_loss: 0.1298 - val_accuracy: 0.9871\n",
      "Epoch 107/1000\n",
      "208/211 [============================>.] - ETA: 0s - loss: 0.5437 - accuracy: 0.8054\n",
      "Epoch 107: saving model to model/keypoint_classifier\\keypoint_classifier.hdf5\n",
      "211/211 [==============================] - 0s 1ms/step - loss: 0.5446 - accuracy: 0.8054 - val_loss: 0.1243 - val_accuracy: 0.9910\n",
      "Epoch 108/1000\n",
      "207/211 [============================>.] - ETA: 0s - loss: 0.5432 - accuracy: 0.8053\n",
      "Epoch 108: saving model to model/keypoint_classifier\\keypoint_classifier.hdf5\n",
      "211/211 [==============================] - 0s 1ms/step - loss: 0.5423 - accuracy: 0.8054 - val_loss: 0.1250 - val_accuracy: 0.9906\n"
     ]
    },
    {
     "name": "stdout",
     "output_type": "stream",
     "text": [
      "Epoch 109/1000\n",
      "204/211 [============================>.] - ETA: 0s - loss: 0.5465 - accuracy: 0.8050\n",
      "Epoch 109: saving model to model/keypoint_classifier\\keypoint_classifier.hdf5\n",
      "211/211 [==============================] - 0s 1ms/step - loss: 0.5463 - accuracy: 0.8047 - val_loss: 0.1308 - val_accuracy: 0.9899\n",
      "Epoch 110/1000\n",
      "206/211 [============================>.] - ETA: 0s - loss: 0.5379 - accuracy: 0.8071\n",
      "Epoch 110: saving model to model/keypoint_classifier\\keypoint_classifier.hdf5\n",
      "211/211 [==============================] - 0s 1ms/step - loss: 0.5374 - accuracy: 0.8072 - val_loss: 0.1237 - val_accuracy: 0.9940\n",
      "Epoch 111/1000\n",
      "203/211 [===========================>..] - ETA: 0s - loss: 0.5437 - accuracy: 0.8021\n",
      "Epoch 111: saving model to model/keypoint_classifier\\keypoint_classifier.hdf5\n",
      "211/211 [==============================] - 0s 1ms/step - loss: 0.5434 - accuracy: 0.8019 - val_loss: 0.1117 - val_accuracy: 0.9952\n",
      "Epoch 112/1000\n",
      "201/211 [===========================>..] - ETA: 0s - loss: 0.5493 - accuracy: 0.8035\n",
      "Epoch 112: saving model to model/keypoint_classifier\\keypoint_classifier.hdf5\n",
      "211/211 [==============================] - 0s 1ms/step - loss: 0.5497 - accuracy: 0.8034 - val_loss: 0.1238 - val_accuracy: 0.9909\n",
      "Epoch 113/1000\n",
      "205/211 [============================>.] - ETA: 0s - loss: 0.5450 - accuracy: 0.8025\n",
      "Epoch 113: saving model to model/keypoint_classifier\\keypoint_classifier.hdf5\n",
      "211/211 [==============================] - 0s 1ms/step - loss: 0.5440 - accuracy: 0.8031 - val_loss: 0.1129 - val_accuracy: 0.9978\n",
      "Epoch 114/1000\n",
      "208/211 [============================>.] - ETA: 0s - loss: 0.5440 - accuracy: 0.8042\n",
      "Epoch 114: saving model to model/keypoint_classifier\\keypoint_classifier.hdf5\n",
      "211/211 [==============================] - 0s 1ms/step - loss: 0.5442 - accuracy: 0.8039 - val_loss: 0.1199 - val_accuracy: 0.9948\n",
      "Epoch 115/1000\n",
      "193/211 [==========================>...] - ETA: 0s - loss: 0.5335 - accuracy: 0.8083\n",
      "Epoch 115: saving model to model/keypoint_classifier\\keypoint_classifier.hdf5\n",
      "211/211 [==============================] - 0s 1ms/step - loss: 0.5348 - accuracy: 0.8073 - val_loss: 0.1242 - val_accuracy: 0.9956\n",
      "Epoch 116/1000\n",
      "197/211 [===========================>..] - ETA: 0s - loss: 0.5395 - accuracy: 0.8065\n",
      "Epoch 116: saving model to model/keypoint_classifier\\keypoint_classifier.hdf5\n",
      "211/211 [==============================] - 0s 1ms/step - loss: 0.5381 - accuracy: 0.8070 - val_loss: 0.1181 - val_accuracy: 0.9970\n",
      "Epoch 117/1000\n",
      "206/211 [============================>.] - ETA: 0s - loss: 0.5344 - accuracy: 0.8050\n",
      "Epoch 117: saving model to model/keypoint_classifier\\keypoint_classifier.hdf5\n",
      "211/211 [==============================] - 0s 1ms/step - loss: 0.5338 - accuracy: 0.8050 - val_loss: 0.1239 - val_accuracy: 0.9900\n",
      "Epoch 118/1000\n",
      "206/211 [============================>.] - ETA: 0s - loss: 0.5267 - accuracy: 0.8106\n",
      "Epoch 118: saving model to model/keypoint_classifier\\keypoint_classifier.hdf5\n",
      "211/211 [==============================] - 0s 1ms/step - loss: 0.5272 - accuracy: 0.8102 - val_loss: 0.1202 - val_accuracy: 0.9959\n",
      "Epoch 119/1000\n",
      "197/211 [===========================>..] - ETA: 0s - loss: 0.5297 - accuracy: 0.8070\n",
      "Epoch 119: saving model to model/keypoint_classifier\\keypoint_classifier.hdf5\n",
      "211/211 [==============================] - 0s 1ms/step - loss: 0.5305 - accuracy: 0.8066 - val_loss: 0.1096 - val_accuracy: 0.9969\n",
      "Epoch 120/1000\n",
      "207/211 [============================>.] - ETA: 0s - loss: 0.5367 - accuracy: 0.8075\n",
      "Epoch 120: saving model to model/keypoint_classifier\\keypoint_classifier.hdf5\n",
      "211/211 [==============================] - 0s 1ms/step - loss: 0.5371 - accuracy: 0.8072 - val_loss: 0.1162 - val_accuracy: 0.9876\n",
      "Epoch 121/1000\n",
      "204/211 [============================>.] - ETA: 0s - loss: 0.5275 - accuracy: 0.8082\n",
      "Epoch 121: saving model to model/keypoint_classifier\\keypoint_classifier.hdf5\n",
      "211/211 [==============================] - 0s 1ms/step - loss: 0.5262 - accuracy: 0.8087 - val_loss: 0.1234 - val_accuracy: 0.9877\n",
      "Epoch 122/1000\n",
      "207/211 [============================>.] - ETA: 0s - loss: 0.5402 - accuracy: 0.8047\n",
      "Epoch 122: saving model to model/keypoint_classifier\\keypoint_classifier.hdf5\n",
      "211/211 [==============================] - 0s 1ms/step - loss: 0.5404 - accuracy: 0.8048 - val_loss: 0.1139 - val_accuracy: 0.9921\n",
      "Epoch 123/1000\n",
      "207/211 [============================>.] - ETA: 0s - loss: 0.5402 - accuracy: 0.8076\n",
      "Epoch 123: saving model to model/keypoint_classifier\\keypoint_classifier.hdf5\n",
      "211/211 [==============================] - 0s 1ms/step - loss: 0.5387 - accuracy: 0.8080 - val_loss: 0.1146 - val_accuracy: 0.9947\n",
      "Epoch 124/1000\n",
      "203/211 [===========================>..] - ETA: 0s - loss: 0.5306 - accuracy: 0.8110\n",
      "Epoch 124: saving model to model/keypoint_classifier\\keypoint_classifier.hdf5\n",
      "211/211 [==============================] - 0s 1ms/step - loss: 0.5307 - accuracy: 0.8112 - val_loss: 0.1244 - val_accuracy: 0.9892\n",
      "Epoch 125/1000\n",
      "207/211 [============================>.] - ETA: 0s - loss: 0.5384 - accuracy: 0.8053\n",
      "Epoch 125: saving model to model/keypoint_classifier\\keypoint_classifier.hdf5\n",
      "211/211 [==============================] - 0s 1ms/step - loss: 0.5392 - accuracy: 0.8048 - val_loss: 0.1168 - val_accuracy: 0.9951\n",
      "Epoch 126/1000\n",
      "208/211 [============================>.] - ETA: 0s - loss: 0.5348 - accuracy: 0.8079\n",
      "Epoch 126: saving model to model/keypoint_classifier\\keypoint_classifier.hdf5\n",
      "211/211 [==============================] - 0s 1ms/step - loss: 0.5339 - accuracy: 0.8084 - val_loss: 0.1180 - val_accuracy: 0.9962\n",
      "Epoch 127/1000\n",
      "199/211 [===========================>..] - ETA: 0s - loss: 0.5177 - accuracy: 0.8123\n",
      "Epoch 127: saving model to model/keypoint_classifier\\keypoint_classifier.hdf5\n",
      "211/211 [==============================] - 0s 1ms/step - loss: 0.5189 - accuracy: 0.8116 - val_loss: 0.1192 - val_accuracy: 0.9908\n",
      "Epoch 128/1000\n",
      "206/211 [============================>.] - ETA: 0s - loss: 0.5398 - accuracy: 0.8073\n",
      "Epoch 128: saving model to model/keypoint_classifier\\keypoint_classifier.hdf5\n",
      "211/211 [==============================] - 0s 1ms/step - loss: 0.5401 - accuracy: 0.8070 - val_loss: 0.1143 - val_accuracy: 0.9948\n",
      "Epoch 129/1000\n",
      "205/211 [============================>.] - ETA: 0s - loss: 0.5271 - accuracy: 0.8069\n",
      "Epoch 129: saving model to model/keypoint_classifier\\keypoint_classifier.hdf5\n",
      "211/211 [==============================] - 0s 1ms/step - loss: 0.5269 - accuracy: 0.8074 - val_loss: 0.1174 - val_accuracy: 0.9909\n",
      "Epoch 130/1000\n",
      "202/211 [===========================>..] - ETA: 0s - loss: 0.5296 - accuracy: 0.8074\n",
      "Epoch 130: saving model to model/keypoint_classifier\\keypoint_classifier.hdf5\n",
      "211/211 [==============================] - 0s 1ms/step - loss: 0.5284 - accuracy: 0.8080 - val_loss: 0.1124 - val_accuracy: 0.9902\n",
      "Epoch 131/1000\n",
      "195/211 [==========================>...] - ETA: 0s - loss: 0.5232 - accuracy: 0.8098\n",
      "Epoch 131: saving model to model/keypoint_classifier\\keypoint_classifier.hdf5\n",
      "211/211 [==============================] - 0s 1ms/step - loss: 0.5231 - accuracy: 0.8113 - val_loss: 0.1196 - val_accuracy: 0.9898\n",
      "Epoch 132/1000\n",
      "201/211 [===========================>..] - ETA: 0s - loss: 0.5277 - accuracy: 0.8088\n",
      "Epoch 132: saving model to model/keypoint_classifier\\keypoint_classifier.hdf5\n",
      "211/211 [==============================] - 0s 1ms/step - loss: 0.5267 - accuracy: 0.8090 - val_loss: 0.1270 - val_accuracy: 0.9900\n",
      "Epoch 133/1000\n",
      "200/211 [===========================>..] - ETA: 0s - loss: 0.5211 - accuracy: 0.8138\n",
      "Epoch 133: saving model to model/keypoint_classifier\\keypoint_classifier.hdf5\n",
      "211/211 [==============================] - 0s 1ms/step - loss: 0.5203 - accuracy: 0.8136 - val_loss: 0.1163 - val_accuracy: 0.9880\n",
      "Epoch 134/1000\n",
      "205/211 [============================>.] - ETA: 0s - loss: 0.5312 - accuracy: 0.8091\n",
      "Epoch 134: saving model to model/keypoint_classifier\\keypoint_classifier.hdf5\n",
      "211/211 [==============================] - 0s 1ms/step - loss: 0.5305 - accuracy: 0.8088 - val_loss: 0.1070 - val_accuracy: 0.9969\n",
      "Epoch 135/1000\n",
      "204/211 [============================>.] - ETA: 0s - loss: 0.5312 - accuracy: 0.8069\n",
      "Epoch 135: saving model to model/keypoint_classifier\\keypoint_classifier.hdf5\n"
     ]
    },
    {
     "name": "stdout",
     "output_type": "stream",
     "text": [
      "211/211 [==============================] - 0s 1ms/step - loss: 0.5317 - accuracy: 0.8063 - val_loss: 0.1206 - val_accuracy: 0.9972\n",
      "Epoch 136/1000\n",
      "207/211 [============================>.] - ETA: 0s - loss: 0.5258 - accuracy: 0.8091\n",
      "Epoch 136: saving model to model/keypoint_classifier\\keypoint_classifier.hdf5\n",
      "211/211 [==============================] - 0s 1ms/step - loss: 0.5270 - accuracy: 0.8080 - val_loss: 0.1184 - val_accuracy: 0.9914\n",
      "Epoch 137/1000\n",
      "207/211 [============================>.] - ETA: 0s - loss: 0.5220 - accuracy: 0.8102\n",
      "Epoch 137: saving model to model/keypoint_classifier\\keypoint_classifier.hdf5\n",
      "211/211 [==============================] - 0s 1ms/step - loss: 0.5224 - accuracy: 0.8099 - val_loss: 0.1120 - val_accuracy: 0.9939\n",
      "Epoch 138/1000\n",
      "205/211 [============================>.] - ETA: 0s - loss: 0.5266 - accuracy: 0.8129\n",
      "Epoch 138: saving model to model/keypoint_classifier\\keypoint_classifier.hdf5\n",
      "211/211 [==============================] - 0s 1ms/step - loss: 0.5267 - accuracy: 0.8119 - val_loss: 0.1177 - val_accuracy: 0.9958\n",
      "Epoch 139/1000\n",
      "211/211 [==============================] - ETA: 0s - loss: 0.5245 - accuracy: 0.8074\n",
      "Epoch 139: saving model to model/keypoint_classifier\\keypoint_classifier.hdf5\n",
      "211/211 [==============================] - 0s 1ms/step - loss: 0.5245 - accuracy: 0.8074 - val_loss: 0.1139 - val_accuracy: 0.9924\n",
      "Epoch 140/1000\n",
      "206/211 [============================>.] - ETA: 0s - loss: 0.5247 - accuracy: 0.8117\n",
      "Epoch 140: saving model to model/keypoint_classifier\\keypoint_classifier.hdf5\n",
      "211/211 [==============================] - 0s 1ms/step - loss: 0.5239 - accuracy: 0.8124 - val_loss: 0.1138 - val_accuracy: 0.9944\n",
      "Epoch 141/1000\n",
      "206/211 [============================>.] - ETA: 0s - loss: 0.5168 - accuracy: 0.8096\n",
      "Epoch 141: saving model to model/keypoint_classifier\\keypoint_classifier.hdf5\n",
      "211/211 [==============================] - 0s 1ms/step - loss: 0.5166 - accuracy: 0.8100 - val_loss: 0.1121 - val_accuracy: 0.9933\n",
      "Epoch 142/1000\n",
      "203/211 [===========================>..] - ETA: 0s - loss: 0.5219 - accuracy: 0.8117\n",
      "Epoch 142: saving model to model/keypoint_classifier\\keypoint_classifier.hdf5\n",
      "211/211 [==============================] - 0s 1ms/step - loss: 0.5211 - accuracy: 0.8120 - val_loss: 0.1225 - val_accuracy: 0.9849\n",
      "Epoch 143/1000\n",
      "209/211 [============================>.] - ETA: 0s - loss: 0.5186 - accuracy: 0.8116\n",
      "Epoch 143: saving model to model/keypoint_classifier\\keypoint_classifier.hdf5\n",
      "211/211 [==============================] - 0s 1ms/step - loss: 0.5191 - accuracy: 0.8114 - val_loss: 0.1168 - val_accuracy: 0.9911\n",
      "Epoch 144/1000\n",
      "206/211 [============================>.] - ETA: 0s - loss: 0.5255 - accuracy: 0.8108\n",
      "Epoch 144: saving model to model/keypoint_classifier\\keypoint_classifier.hdf5\n",
      "211/211 [==============================] - 0s 1ms/step - loss: 0.5258 - accuracy: 0.8107 - val_loss: 0.1229 - val_accuracy: 0.9841\n",
      "Epoch 145/1000\n",
      "198/211 [===========================>..] - ETA: 0s - loss: 0.5151 - accuracy: 0.8104\n",
      "Epoch 145: saving model to model/keypoint_classifier\\keypoint_classifier.hdf5\n",
      "211/211 [==============================] - 0s 1ms/step - loss: 0.5163 - accuracy: 0.8094 - val_loss: 0.1178 - val_accuracy: 0.9908\n",
      "Epoch 146/1000\n",
      "178/211 [========================>.....] - ETA: 0s - loss: 0.5237 - accuracy: 0.8085\n",
      "Epoch 146: saving model to model/keypoint_classifier\\keypoint_classifier.hdf5\n",
      "211/211 [==============================] - 0s 2ms/step - loss: 0.5216 - accuracy: 0.8107 - val_loss: 0.1271 - val_accuracy: 0.9862\n",
      "Epoch 147/1000\n",
      "206/211 [============================>.] - ETA: 0s - loss: 0.5177 - accuracy: 0.8142\n",
      "Epoch 147: saving model to model/keypoint_classifier\\keypoint_classifier.hdf5\n",
      "211/211 [==============================] - 0s 1ms/step - loss: 0.5174 - accuracy: 0.8142 - val_loss: 0.1112 - val_accuracy: 0.9934\n",
      "Epoch 148/1000\n",
      "203/211 [===========================>..] - ETA: 0s - loss: 0.5080 - accuracy: 0.8155\n",
      "Epoch 148: saving model to model/keypoint_classifier\\keypoint_classifier.hdf5\n",
      "211/211 [==============================] - 0s 1ms/step - loss: 0.5093 - accuracy: 0.8147 - val_loss: 0.1136 - val_accuracy: 0.9910\n",
      "Epoch 149/1000\n",
      "206/211 [============================>.] - ETA: 0s - loss: 0.5205 - accuracy: 0.8125\n",
      "Epoch 149: saving model to model/keypoint_classifier\\keypoint_classifier.hdf5\n",
      "211/211 [==============================] - 0s 1ms/step - loss: 0.5211 - accuracy: 0.8128 - val_loss: 0.1228 - val_accuracy: 0.9887\n",
      "Epoch 150/1000\n",
      "203/211 [===========================>..] - ETA: 0s - loss: 0.5172 - accuracy: 0.8122\n",
      "Epoch 150: saving model to model/keypoint_classifier\\keypoint_classifier.hdf5\n",
      "211/211 [==============================] - 0s 1ms/step - loss: 0.5170 - accuracy: 0.8119 - val_loss: 0.1189 - val_accuracy: 0.9880\n",
      "Epoch 151/1000\n",
      "202/211 [===========================>..] - ETA: 0s - loss: 0.5191 - accuracy: 0.8102\n",
      "Epoch 151: saving model to model/keypoint_classifier\\keypoint_classifier.hdf5\n",
      "211/211 [==============================] - 0s 1ms/step - loss: 0.5187 - accuracy: 0.8105 - val_loss: 0.1114 - val_accuracy: 0.9964\n",
      "Epoch 152/1000\n",
      "202/211 [===========================>..] - ETA: 0s - loss: 0.5258 - accuracy: 0.8061\n",
      "Epoch 152: saving model to model/keypoint_classifier\\keypoint_classifier.hdf5\n",
      "211/211 [==============================] - 0s 1ms/step - loss: 0.5271 - accuracy: 0.8056 - val_loss: 0.1223 - val_accuracy: 0.9941\n",
      "Epoch 153/1000\n",
      "202/211 [===========================>..] - ETA: 0s - loss: 0.5015 - accuracy: 0.8151\n",
      "Epoch 153: saving model to model/keypoint_classifier\\keypoint_classifier.hdf5\n",
      "211/211 [==============================] - 0s 1ms/step - loss: 0.5019 - accuracy: 0.8147 - val_loss: 0.1145 - val_accuracy: 0.9833\n",
      "Epoch 154/1000\n",
      "202/211 [===========================>..] - ETA: 0s - loss: 0.5207 - accuracy: 0.8079\n",
      "Epoch 154: saving model to model/keypoint_classifier\\keypoint_classifier.hdf5\n",
      "211/211 [==============================] - 0s 1ms/step - loss: 0.5203 - accuracy: 0.8080 - val_loss: 0.1161 - val_accuracy: 0.9968\n",
      "Epoch 154: early stopping\n"
     ]
    },
    {
     "data": {
      "text/plain": [
       "<keras.callbacks.History at 0x21fcb177f40>"
      ]
     },
     "execution_count": 11,
     "metadata": {},
     "output_type": "execute_result"
    }
   ],
   "source": [
    "model.fit(\n",
    "    X_train,\n",
    "    y_train,\n",
    "    epochs=1000,\n",
    "    batch_size=BATCH_SIZE,\n",
    "    validation_data=(X_test, y_test),\n",
    "    callbacks=[cp_callback, es_callback]\n",
    ")"
   ]
  },
  {
   "cell_type": "code",
   "execution_count": 12,
   "metadata": {
    "colab": {
     "base_uri": "https://localhost:8080/"
    },
    "id": "pxvb2Y299hE3",
    "outputId": "59eb3185-2e37-4b9e-bc9d-ab1b8ac29b7f"
   },
   "outputs": [
    {
     "name": "stdout",
     "output_type": "stream",
     "text": [
      "71/71 [==============================] - 0s 629us/step - loss: 0.1161 - accuracy: 0.9968\n"
     ]
    }
   ],
   "source": [
    "# Model evaluation\n",
    "val_loss, val_acc = model.evaluate(X_test, y_test, batch_size=BATCH_SIZE)"
   ]
  },
  {
   "cell_type": "code",
   "execution_count": 13,
   "metadata": {
    "id": "RBkmDeUW9hE4"
   },
   "outputs": [],
   "source": [
    "# Loading the saved model\n",
    "model = tf.keras.models.load_model(model_save_path)"
   ]
  },
  {
   "cell_type": "code",
   "execution_count": 14,
   "metadata": {
    "colab": {
     "base_uri": "https://localhost:8080/"
    },
    "id": "tFz9Tb0I9hE4",
    "outputId": "1c3b3528-54ae-4ee2-ab04-77429211cbef"
   },
   "outputs": [
    {
     "name": "stdout",
     "output_type": "stream",
     "text": [
      "1/1 [==============================] - 0s 61ms/step\n",
      "[1.3080918e-03 3.1645435e-08 2.6157382e-05 4.5158197e-07 8.1084127e-04\n",
      " 9.6704223e-04 4.2910492e-10 2.6037763e-09 2.0219442e-04 6.3039192e-09\n",
      " 9.9358058e-01 1.6142448e-12 1.9245310e-13 4.8542975e-06 1.4887569e-21\n",
      " 6.0707044e-09 1.8395894e-14 7.7317981e-04 4.7197188e-15 1.9015180e-17\n",
      " 1.8355033e-21 2.4593138e-15 2.2961579e-03 3.0395286e-05]\n",
      "10\n"
     ]
    }
   ],
   "source": [
    "# Inference test\n",
    "predict_result = model.predict(np.array([X_test[0]]))\n",
    "print(np.squeeze(predict_result))\n",
    "print(np.argmax(np.squeeze(predict_result)))"
   ]
  },
  {
   "cell_type": "markdown",
   "metadata": {
    "id": "S3U4yNWx9hE4"
   },
   "source": [
    "# Confusion matrix"
   ]
  },
  {
   "cell_type": "code",
   "execution_count": 15,
   "metadata": {
    "colab": {
     "base_uri": "https://localhost:8080/",
     "height": 582
    },
    "id": "AP1V6SCk9hE5",
    "outputId": "08e41a80-7a4a-4619-8125-ecc371368d19"
   },
   "outputs": [
    {
     "name": "stdout",
     "output_type": "stream",
     "text": [
      "282/282 [==============================] - 0s 515us/step\n"
     ]
    },
    {
     "data": {
      "image/png": "[encoded data removed]",
      "text/plain": [
       "<Figure size 504x432 with 2 Axes>"
      ]
     },
     "metadata": {
      "needs_background": "light"
     },
     "output_type": "display_data"
    },
    {
     "name": "stdout",
     "output_type": "stream",
     "text": [
      "Classification Report\n",
      "              precision    recall  f1-score   support\n",
      "\n",
      "           0       1.00      0.96      0.98       379\n",
      "           1       1.00      1.00      1.00       358\n",
      "           2       1.00      0.98      0.99       387\n",
      "           3       1.00      1.00      1.00       387\n",
      "           4       1.00      0.98      0.99       366\n",
      "           5       1.00      1.00      1.00       396\n",
      "           6       1.00      1.00      1.00       361\n",
      "           7       1.00      1.00      1.00       345\n",
      "           8       1.00      1.00      1.00       392\n",
      "           9       1.00      1.00      1.00       397\n",
      "          10       1.00      1.00      1.00       377\n",
      "          11       1.00      1.00      1.00       351\n",
      "          12       1.00      1.00      1.00       383\n",
      "          13       0.98      1.00      0.99       378\n",
      "          14       1.00      1.00      1.00       387\n",
      "          15       1.00      1.00      1.00       344\n",
      "          16       1.00      1.00      1.00       378\n",
      "          17       0.94      1.00      0.97       342\n",
      "          18       1.00      1.00      1.00       380\n",
      "          19       1.00      1.00      1.00       353\n",
      "          20       1.00      1.00      1.00       400\n",
      "          21       1.00      1.00      1.00       380\n",
      "          22       1.00      1.00      1.00       407\n",
      "          23       1.00      1.00      1.00       372\n",
      "\n",
      "    accuracy                           1.00      9000\n",
      "   macro avg       1.00      1.00      1.00      9000\n",
      "weighted avg       1.00      1.00      1.00      9000\n",
      "\n"
     ]
    }
   ],
   "source": [
    "import pandas as pd\n",
    "import seaborn as sns\n",
    "import matplotlib.pyplot as plt\n",
    "from sklearn.metrics import confusion_matrix, classification_report\n",
    "\n",
    "def print_confusion_matrix(y_true, y_pred, report=True):\n",
    "    labels = sorted(list(set(y_true)))\n",
    "    cmx_data = confusion_matrix(y_true, y_pred, labels=labels)\n",
    "    \n",
    "    df_cmx = pd.DataFrame(cmx_data, index=labels, columns=labels)\n",
    " \n",
    "    fig, ax = plt.subplots(figsize=(7, 6))\n",
    "    sns.heatmap(df_cmx, annot=True, fmt='g' ,square=False)\n",
    "    ax.set_ylim(len(set(y_true)), 0)\n",
    "    plt.show()\n",
    "    \n",
    "    if report:\n",
    "        print('Classification Report')\n",
    "        print(classification_report(y_test, y_pred))\n",
    "\n",
    "Y_pred = model.predict(X_test)\n",
    "y_pred = np.argmax(Y_pred, axis=1)\n",
    "\n",
    "print_confusion_matrix(y_test, y_pred)"
   ]
  },
  {
   "cell_type": "markdown",
   "metadata": {
    "id": "FNP6aqzc9hE5"
   },
   "source": [
    "# Convert to model for Tensorflow-Lite"
   ]
  },
  {
   "cell_type": "code",
   "execution_count": 16,
   "metadata": {
    "id": "ODjnYyld9hE6"
   },
   "outputs": [],
   "source": [
    "# Save as a model dedicated to inference\n",
    "model.save(model_save_path, include_optimizer=False)"
   ]
  },
  {
   "cell_type": "code",
   "execution_count": 17,
   "metadata": {
    "colab": {
     "base_uri": "https://localhost:8080/"
    },
    "id": "zRfuK8Y59hE6",
    "outputId": "a4ca585c-b5d5-4244-8291-8674063209bb"
   },
   "outputs": [
    {
     "name": "stdout",
     "output_type": "stream",
     "text": [
      "INFO:tensorflow:Assets written to: C:\\Users\\mfaja\\AppData\\Local\\Temp\\tmprdv2ks5b\\assets\n"
     ]
    },
    {
     "data": {
      "text/plain": [
       "7424"
      ]
     },
     "execution_count": 17,
     "metadata": {},
     "output_type": "execute_result"
    }
   ],
   "source": [
    "# Transform model (quantization)\n",
    "\n",
    "converter = tf.lite.TFLiteConverter.from_keras_model(model)\n",
    "converter.optimizations = [tf.lite.Optimize.DEFAULT]\n",
    "tflite_quantized_model = converter.convert()\n",
    "\n",
    "open(tflite_save_path, 'wb').write(tflite_quantized_model)"
   ]
  },
  {
   "cell_type": "markdown",
   "metadata": {
    "id": "CHBPBXdx9hE6"
   },
   "source": [
    "# Inference test"
   ]
  },
  {
   "cell_type": "code",
   "execution_count": 18,
   "metadata": {
    "id": "mGAzLocO9hE7"
   },
   "outputs": [],
   "source": [
    "interpreter = tf.lite.Interpreter(model_path=tflite_save_path)\n",
    "interpreter.allocate_tensors()"
   ]
  },
  {
   "cell_type": "code",
   "execution_count": 19,
   "metadata": {
    "id": "oQuDK8YS9hE7"
   },
   "outputs": [],
   "source": [
    "# Get I / O tensor\n",
    "input_details = interpreter.get_input_details()\n",
    "output_details = interpreter.get_output_details()"
   ]
  },
  {
   "cell_type": "code",
   "execution_count": 20,
   "metadata": {
    "id": "2_ixAf_l9hE7"
   },
   "outputs": [],
   "source": [
    "interpreter.set_tensor(input_details[0]['index'], np.array([X_test[0]]))"
   ]
  },
  {
   "cell_type": "code",
   "execution_count": 21,
   "metadata": {
    "colab": {
     "base_uri": "https://localhost:8080/"
    },
    "id": "s4FoAnuc9hE7",
    "outputId": "91f18257-8d8b-4ef3-c558-e9b5f94fabbf",
    "scrolled": true
   },
   "outputs": [
    {
     "name": "stdout",
     "output_type": "stream",
     "text": [
      "CPU times: total: 0 ns\n",
      "Wall time: 0 ns\n"
     ]
    }
   ],
   "source": [
    "%%time\n",
    "# Inference implementation\n",
    "interpreter.invoke()\n",
    "tflite_results = interpreter.get_tensor(output_details[0]['index'])"
   ]
  },
  {
   "cell_type": "code",
   "execution_count": 22,
   "metadata": {
    "colab": {
     "base_uri": "https://localhost:8080/"
    },
    "id": "vONjp19J9hE8",
    "outputId": "77205e24-fd00-42c4-f7b6-e06e527c2cba"
   },
   "outputs": [
    {
     "name": "stdout",
     "output_type": "stream",
     "text": [
      "[1.3080895e-03 3.1645492e-08 2.6157404e-05 4.5158328e-07 8.1084005e-04\n",
      " 9.6704176e-04 4.2910736e-10 2.6037861e-09 2.0219402e-04 6.3039303e-09\n",
      " 9.9358058e-01 1.6142477e-12 1.9245272e-13 4.8542979e-06 1.4887681e-21\n",
      " 6.0706924e-09 1.8396036e-14 7.7317824e-04 4.7197553e-15 1.9015398e-17\n",
      " 1.8355101e-21 2.4593231e-15 2.2961621e-03 3.0395166e-05]\n",
      "10\n"
     ]
    }
   ],
   "source": [
    "print(np.squeeze(tflite_results))\n",
    "print(np.argmax(np.squeeze(tflite_results)))"
   ]
  }
 ],
 "metadata": {
  "accelerator": "GPU",
  "colab": {
   "collapsed_sections": [],
   "name": "keypoint_classification_EN.ipynb",
   "provenance": [],
   "toc_visible": true
  },
  "kernelspec": {
   "display_name": "Python 3 (ipykernel)",
   "language": "python",
   "name": "python3"
  },
  "language_info": {
   "codemirror_mode": {
    "name": "ipython",
    "version": 3
   },
   "file_extension": ".py",
   "mimetype": "text/x-python",
   "name": "python",
   "nbconvert_exporter": "python",
   "pygments_lexer": "ipython3",
   "version": "3.9.12"
  }
 },
 "nbformat": 4,
 "nbformat_minor": 1
}
